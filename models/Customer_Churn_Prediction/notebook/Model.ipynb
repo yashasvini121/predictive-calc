{
 "cells": [
  {
   "cell_type": "code",
   "execution_count": 1,
   "id": "c1e05145",
   "metadata": {},
   "outputs": [],
   "source": [
    "from sklearn.model_selection import train_test_split\n",
    "import pandas as pd\n",
    "import numpy as np\n",
    "import seaborn as sns \n",
    "import matplotlib.pyplot as plt  \n"
   ]
  },
  {
   "cell_type": "code",
   "execution_count": 2,
   "id": "919c9c31",
   "metadata": {},
   "outputs": [],
   "source": [
    "df=pd.read_csv('../data/Churn_Modelling.csv')"
   ]
  },
  {
   "cell_type": "code",
   "execution_count": 3,
   "id": "8f1bc494",
   "metadata": {},
   "outputs": [],
   "source": [
    "X=df.drop('Exited',axis=1)\n",
    "Y=df['Exited']\n",
    "X_train,X_test,Y_train,Y_test=train_test_split(X,Y,test_size=0.2,random_state=42)"
   ]
  },
  {
   "cell_type": "code",
   "execution_count": 4,
   "id": "b6746af1",
   "metadata": {},
   "outputs": [
    {
     "data": {
      "text/plain": [
       "(8000, 13)"
      ]
     },
     "execution_count": 4,
     "metadata": {},
     "output_type": "execute_result"
    }
   ],
   "source": [
    "X_train.shape\n"
   ]
  },
  {
   "cell_type": "code",
   "execution_count": 5,
   "id": "e464f551",
   "metadata": {},
   "outputs": [
    {
     "data": {
      "text/plain": [
       "(8000,)"
      ]
     },
     "execution_count": 5,
     "metadata": {},
     "output_type": "execute_result"
    }
   ],
   "source": [
    "Y_train.shape"
   ]
  },
  {
   "cell_type": "code",
   "execution_count": 6,
   "id": "1ae8b673",
   "metadata": {},
   "outputs": [
    {
     "data": {
      "text/plain": [
       "(2000, 13)"
      ]
     },
     "execution_count": 6,
     "metadata": {},
     "output_type": "execute_result"
    }
   ],
   "source": [
    "X_test.shape\n"
   ]
  },
  {
   "cell_type": "code",
   "execution_count": 7,
   "id": "79d01cd7",
   "metadata": {},
   "outputs": [
    {
     "data": {
      "text/plain": [
       "(2000,)"
      ]
     },
     "execution_count": 7,
     "metadata": {},
     "output_type": "execute_result"
    }
   ],
   "source": [
    "Y_test.shape"
   ]
  },
  {
   "cell_type": "code",
   "execution_count": 8,
   "id": "8b904ca3",
   "metadata": {},
   "outputs": [
    {
     "name": "stdout",
     "output_type": "stream",
     "text": [
      "<class 'pandas.core.frame.DataFrame'>\n",
      "Int64Index: 8000 entries, 9254 to 7270\n",
      "Data columns (total 13 columns):\n",
      " #   Column           Non-Null Count  Dtype  \n",
      "---  ------           --------------  -----  \n",
      " 0   RowNumber        8000 non-null   int64  \n",
      " 1   CustomerId       8000 non-null   int64  \n",
      " 2   Surname          8000 non-null   object \n",
      " 3   CreditScore      8000 non-null   int64  \n",
      " 4   Geography        8000 non-null   object \n",
      " 5   Gender           8000 non-null   object \n",
      " 6   Age              8000 non-null   int64  \n",
      " 7   Tenure           8000 non-null   int64  \n",
      " 8   Balance          8000 non-null   float64\n",
      " 9   NumOfProducts    8000 non-null   int64  \n",
      " 10  HasCrCard        8000 non-null   int64  \n",
      " 11  IsActiveMember   8000 non-null   int64  \n",
      " 12  EstimatedSalary  8000 non-null   float64\n",
      "dtypes: float64(2), int64(8), object(3)\n",
      "memory usage: 875.0+ KB\n"
     ]
    }
   ],
   "source": [
    "X_train.info()"
   ]
  },
  {
   "cell_type": "code",
   "execution_count": 9,
   "id": "b7f3a79e",
   "metadata": {},
   "outputs": [
    {
     "data": {
      "text/plain": [
       "RowNumber          0\n",
       "CustomerId         0\n",
       "Surname            0\n",
       "CreditScore        0\n",
       "Geography          0\n",
       "Gender             0\n",
       "Age                0\n",
       "Tenure             0\n",
       "Balance            0\n",
       "NumOfProducts      0\n",
       "HasCrCard          0\n",
       "IsActiveMember     0\n",
       "EstimatedSalary    0\n",
       "dtype: int64"
      ]
     },
     "execution_count": 9,
     "metadata": {},
     "output_type": "execute_result"
    }
   ],
   "source": [
    "X_train.isnull().sum()\n",
    "X_test.isnull().sum()"
   ]
  },
  {
   "cell_type": "code",
   "execution_count": 10,
   "id": "23db97d8",
   "metadata": {},
   "outputs": [
    {
     "data": {
      "text/html": [
       "<div>\n",
       "<style scoped>\n",
       "    .dataframe tbody tr th:only-of-type {\n",
       "        vertical-align: middle;\n",
       "    }\n",
       "\n",
       "    .dataframe tbody tr th {\n",
       "        vertical-align: top;\n",
       "    }\n",
       "\n",
       "    .dataframe thead th {\n",
       "        text-align: right;\n",
       "    }\n",
       "</style>\n",
       "<table border=\"1\" class=\"dataframe\">\n",
       "  <thead>\n",
       "    <tr style=\"text-align: right;\">\n",
       "      <th></th>\n",
       "      <th>RowNumber</th>\n",
       "      <th>CustomerId</th>\n",
       "      <th>Surname</th>\n",
       "      <th>CreditScore</th>\n",
       "      <th>Geography</th>\n",
       "      <th>Gender</th>\n",
       "      <th>Age</th>\n",
       "      <th>Tenure</th>\n",
       "      <th>Balance</th>\n",
       "      <th>NumOfProducts</th>\n",
       "      <th>HasCrCard</th>\n",
       "      <th>IsActiveMember</th>\n",
       "      <th>EstimatedSalary</th>\n",
       "    </tr>\n",
       "  </thead>\n",
       "  <tbody>\n",
       "    <tr>\n",
       "      <th>9254</th>\n",
       "      <td>9255</td>\n",
       "      <td>15601116</td>\n",
       "      <td>P'an</td>\n",
       "      <td>686</td>\n",
       "      <td>France</td>\n",
       "      <td>Male</td>\n",
       "      <td>32</td>\n",
       "      <td>6</td>\n",
       "      <td>0.00</td>\n",
       "      <td>2</td>\n",
       "      <td>1</td>\n",
       "      <td>1</td>\n",
       "      <td>179093.26</td>\n",
       "    </tr>\n",
       "    <tr>\n",
       "      <th>1561</th>\n",
       "      <td>1562</td>\n",
       "      <td>15766374</td>\n",
       "      <td>Leak</td>\n",
       "      <td>632</td>\n",
       "      <td>Germany</td>\n",
       "      <td>Male</td>\n",
       "      <td>42</td>\n",
       "      <td>4</td>\n",
       "      <td>119624.60</td>\n",
       "      <td>2</td>\n",
       "      <td>1</td>\n",
       "      <td>1</td>\n",
       "      <td>195978.86</td>\n",
       "    </tr>\n",
       "    <tr>\n",
       "      <th>1670</th>\n",
       "      <td>1671</td>\n",
       "      <td>15716994</td>\n",
       "      <td>Green</td>\n",
       "      <td>559</td>\n",
       "      <td>Spain</td>\n",
       "      <td>Male</td>\n",
       "      <td>24</td>\n",
       "      <td>3</td>\n",
       "      <td>114739.92</td>\n",
       "      <td>1</td>\n",
       "      <td>1</td>\n",
       "      <td>0</td>\n",
       "      <td>85891.02</td>\n",
       "    </tr>\n",
       "    <tr>\n",
       "      <th>6087</th>\n",
       "      <td>6088</td>\n",
       "      <td>15730759</td>\n",
       "      <td>Chukwudi</td>\n",
       "      <td>561</td>\n",
       "      <td>France</td>\n",
       "      <td>Female</td>\n",
       "      <td>27</td>\n",
       "      <td>9</td>\n",
       "      <td>135637.00</td>\n",
       "      <td>1</td>\n",
       "      <td>1</td>\n",
       "      <td>0</td>\n",
       "      <td>153080.40</td>\n",
       "    </tr>\n",
       "    <tr>\n",
       "      <th>6669</th>\n",
       "      <td>6670</td>\n",
       "      <td>15797900</td>\n",
       "      <td>Chinomso</td>\n",
       "      <td>517</td>\n",
       "      <td>France</td>\n",
       "      <td>Male</td>\n",
       "      <td>56</td>\n",
       "      <td>9</td>\n",
       "      <td>142147.32</td>\n",
       "      <td>1</td>\n",
       "      <td>0</td>\n",
       "      <td>0</td>\n",
       "      <td>39488.04</td>\n",
       "    </tr>\n",
       "  </tbody>\n",
       "</table>\n",
       "</div>"
      ],
      "text/plain": [
       "      RowNumber  CustomerId   Surname  CreditScore Geography  Gender  Age  \\\n",
       "9254       9255    15601116      P'an          686    France    Male   32   \n",
       "1561       1562    15766374      Leak          632   Germany    Male   42   \n",
       "1670       1671    15716994     Green          559     Spain    Male   24   \n",
       "6087       6088    15730759  Chukwudi          561    France  Female   27   \n",
       "6669       6670    15797900  Chinomso          517    France    Male   56   \n",
       "\n",
       "      Tenure    Balance  NumOfProducts  HasCrCard  IsActiveMember  \\\n",
       "9254       6       0.00              2          1               1   \n",
       "1561       4  119624.60              2          1               1   \n",
       "1670       3  114739.92              1          1               0   \n",
       "6087       9  135637.00              1          1               0   \n",
       "6669       9  142147.32              1          0               0   \n",
       "\n",
       "      EstimatedSalary  \n",
       "9254        179093.26  \n",
       "1561        195978.86  \n",
       "1670         85891.02  \n",
       "6087        153080.40  \n",
       "6669         39488.04  "
      ]
     },
     "execution_count": 10,
     "metadata": {},
     "output_type": "execute_result"
    }
   ],
   "source": [
    "X_train.head()"
   ]
  },
  {
   "cell_type": "code",
   "execution_count": null,
   "id": "7a5131c4",
   "metadata": {},
   "outputs": [
    {
     "data": {
      "text/html": [
       "<div>\n",
       "<style scoped>\n",
       "    .dataframe tbody tr th:only-of-type {\n",
       "        vertical-align: middle;\n",
       "    }\n",
       "\n",
       "    .dataframe tbody tr th {\n",
       "        vertical-align: top;\n",
       "    }\n",
       "\n",
       "    .dataframe thead th {\n",
       "        text-align: right;\n",
       "    }\n",
       "</style>\n",
       "<table border=\"1\" class=\"dataframe\">\n",
       "  <thead>\n",
       "    <tr style=\"text-align: right;\">\n",
       "      <th></th>\n",
       "      <th>RowNumber</th>\n",
       "      <th>CustomerId</th>\n",
       "      <th>Surname</th>\n",
       "      <th>CreditScore</th>\n",
       "      <th>Geography</th>\n",
       "      <th>Gender</th>\n",
       "      <th>Age</th>\n",
       "      <th>Tenure</th>\n",
       "      <th>Balance</th>\n",
       "      <th>NumOfProducts</th>\n",
       "      <th>HasCrCard</th>\n",
       "      <th>IsActiveMember</th>\n",
       "      <th>EstimatedSalary</th>\n",
       "    </tr>\n",
       "  </thead>\n",
       "  <tbody>\n",
       "    <tr>\n",
       "      <th>6252</th>\n",
       "      <td>6253</td>\n",
       "      <td>15687492</td>\n",
       "      <td>Anderson</td>\n",
       "      <td>596</td>\n",
       "      <td>Germany</td>\n",
       "      <td>Male</td>\n",
       "      <td>32</td>\n",
       "      <td>3</td>\n",
       "      <td>96709.07</td>\n",
       "      <td>2</td>\n",
       "      <td>0</td>\n",
       "      <td>0</td>\n",
       "      <td>41788.37</td>\n",
       "    </tr>\n",
       "    <tr>\n",
       "      <th>4684</th>\n",
       "      <td>4685</td>\n",
       "      <td>15736963</td>\n",
       "      <td>Herring</td>\n",
       "      <td>623</td>\n",
       "      <td>France</td>\n",
       "      <td>Male</td>\n",
       "      <td>43</td>\n",
       "      <td>1</td>\n",
       "      <td>0.00</td>\n",
       "      <td>2</td>\n",
       "      <td>1</td>\n",
       "      <td>1</td>\n",
       "      <td>146379.30</td>\n",
       "    </tr>\n",
       "    <tr>\n",
       "      <th>1731</th>\n",
       "      <td>1732</td>\n",
       "      <td>15721730</td>\n",
       "      <td>Amechi</td>\n",
       "      <td>601</td>\n",
       "      <td>Spain</td>\n",
       "      <td>Female</td>\n",
       "      <td>44</td>\n",
       "      <td>4</td>\n",
       "      <td>0.00</td>\n",
       "      <td>2</td>\n",
       "      <td>1</td>\n",
       "      <td>0</td>\n",
       "      <td>58561.31</td>\n",
       "    </tr>\n",
       "    <tr>\n",
       "      <th>4742</th>\n",
       "      <td>4743</td>\n",
       "      <td>15762134</td>\n",
       "      <td>Liang</td>\n",
       "      <td>506</td>\n",
       "      <td>Germany</td>\n",
       "      <td>Male</td>\n",
       "      <td>59</td>\n",
       "      <td>8</td>\n",
       "      <td>119152.10</td>\n",
       "      <td>2</td>\n",
       "      <td>1</td>\n",
       "      <td>1</td>\n",
       "      <td>170679.74</td>\n",
       "    </tr>\n",
       "    <tr>\n",
       "      <th>4521</th>\n",
       "      <td>4522</td>\n",
       "      <td>15648898</td>\n",
       "      <td>Chuang</td>\n",
       "      <td>560</td>\n",
       "      <td>Spain</td>\n",
       "      <td>Female</td>\n",
       "      <td>27</td>\n",
       "      <td>7</td>\n",
       "      <td>124995.98</td>\n",
       "      <td>1</td>\n",
       "      <td>1</td>\n",
       "      <td>1</td>\n",
       "      <td>114669.79</td>\n",
       "    </tr>\n",
       "  </tbody>\n",
       "</table>\n",
       "</div>"
      ],
      "text/plain": [
       "      RowNumber  CustomerId   Surname  CreditScore Geography  Gender  Age  \\\n",
       "6252       6253    15687492  Anderson          596   Germany    Male   32   \n",
       "4684       4685    15736963   Herring          623    France    Male   43   \n",
       "1731       1732    15721730    Amechi          601     Spain  Female   44   \n",
       "4742       4743    15762134     Liang          506   Germany    Male   59   \n",
       "4521       4522    15648898    Chuang          560     Spain  Female   27   \n",
       "\n",
       "      Tenure    Balance  NumOfProducts  HasCrCard  IsActiveMember  \\\n",
       "6252       3   96709.07              2          0               0   \n",
       "4684       1       0.00              2          1               1   \n",
       "1731       4       0.00              2          1               0   \n",
       "4742       8  119152.10              2          1               1   \n",
       "4521       7  124995.98              1          1               1   \n",
       "\n",
       "      EstimatedSalary  \n",
       "6252         41788.37  \n",
       "4684        146379.30  \n",
       "1731         58561.31  \n",
       "4742        170679.74  \n",
       "4521        114669.79  "
      ]
     },
     "execution_count": 11,
     "metadata": {},
     "output_type": "execute_result"
    }
   ],
   "source": [
    "X_test.head()"
   ]
  },
  {
   "cell_type": "code",
   "execution_count": 12,
   "id": "d57dfca5",
   "metadata": {},
   "outputs": [],
   "source": [
    "X_test.drop('RowNumber',axis=1, inplace=True)\n",
    "X_train.drop('RowNumber',axis=1, inplace=True)\n"
   ]
  },
  {
   "cell_type": "code",
   "execution_count": 13,
   "id": "a2edf683",
   "metadata": {},
   "outputs": [],
   "source": [
    "X_test.drop('CustomerId',axis=1, inplace=True)\n",
    "X_train.drop('CustomerId',axis=1, inplace=True)"
   ]
  },
  {
   "cell_type": "code",
   "execution_count": 14,
   "id": "5565f7bd",
   "metadata": {},
   "outputs": [
    {
     "data": {
      "text/html": [
       "<div>\n",
       "<style scoped>\n",
       "    .dataframe tbody tr th:only-of-type {\n",
       "        vertical-align: middle;\n",
       "    }\n",
       "\n",
       "    .dataframe tbody tr th {\n",
       "        vertical-align: top;\n",
       "    }\n",
       "\n",
       "    .dataframe thead th {\n",
       "        text-align: right;\n",
       "    }\n",
       "</style>\n",
       "<table border=\"1\" class=\"dataframe\">\n",
       "  <thead>\n",
       "    <tr style=\"text-align: right;\">\n",
       "      <th></th>\n",
       "      <th>CreditScore</th>\n",
       "      <th>Age</th>\n",
       "      <th>Tenure</th>\n",
       "      <th>Balance</th>\n",
       "      <th>NumOfProducts</th>\n",
       "      <th>HasCrCard</th>\n",
       "      <th>IsActiveMember</th>\n",
       "      <th>EstimatedSalary</th>\n",
       "    </tr>\n",
       "  </thead>\n",
       "  <tbody>\n",
       "    <tr>\n",
       "      <th>9254</th>\n",
       "      <td>686</td>\n",
       "      <td>32</td>\n",
       "      <td>6</td>\n",
       "      <td>0.00</td>\n",
       "      <td>2</td>\n",
       "      <td>1</td>\n",
       "      <td>1</td>\n",
       "      <td>179093.26</td>\n",
       "    </tr>\n",
       "    <tr>\n",
       "      <th>1561</th>\n",
       "      <td>632</td>\n",
       "      <td>42</td>\n",
       "      <td>4</td>\n",
       "      <td>119624.60</td>\n",
       "      <td>2</td>\n",
       "      <td>1</td>\n",
       "      <td>1</td>\n",
       "      <td>195978.86</td>\n",
       "    </tr>\n",
       "    <tr>\n",
       "      <th>1670</th>\n",
       "      <td>559</td>\n",
       "      <td>24</td>\n",
       "      <td>3</td>\n",
       "      <td>114739.92</td>\n",
       "      <td>1</td>\n",
       "      <td>1</td>\n",
       "      <td>0</td>\n",
       "      <td>85891.02</td>\n",
       "    </tr>\n",
       "    <tr>\n",
       "      <th>6087</th>\n",
       "      <td>561</td>\n",
       "      <td>27</td>\n",
       "      <td>9</td>\n",
       "      <td>135637.00</td>\n",
       "      <td>1</td>\n",
       "      <td>1</td>\n",
       "      <td>0</td>\n",
       "      <td>153080.40</td>\n",
       "    </tr>\n",
       "    <tr>\n",
       "      <th>6669</th>\n",
       "      <td>517</td>\n",
       "      <td>56</td>\n",
       "      <td>9</td>\n",
       "      <td>142147.32</td>\n",
       "      <td>1</td>\n",
       "      <td>0</td>\n",
       "      <td>0</td>\n",
       "      <td>39488.04</td>\n",
       "    </tr>\n",
       "  </tbody>\n",
       "</table>\n",
       "</div>"
      ],
      "text/plain": [
       "      CreditScore  Age  Tenure    Balance  NumOfProducts  HasCrCard  \\\n",
       "9254          686   32       6       0.00              2          1   \n",
       "1561          632   42       4  119624.60              2          1   \n",
       "1670          559   24       3  114739.92              1          1   \n",
       "6087          561   27       9  135637.00              1          1   \n",
       "6669          517   56       9  142147.32              1          0   \n",
       "\n",
       "      IsActiveMember  EstimatedSalary  \n",
       "9254               1        179093.26  \n",
       "1561               1        195978.86  \n",
       "1670               0         85891.02  \n",
       "6087               0        153080.40  \n",
       "6669               0         39488.04  "
      ]
     },
     "execution_count": 14,
     "metadata": {},
     "output_type": "execute_result"
    }
   ],
   "source": [
    "X_train_numerical=X_train.select_dtypes(exclude=[\"bool_\",\"object_\"])\n",
    "X_train_numerical.head()"
   ]
  },
  {
   "cell_type": "code",
   "execution_count": 15,
   "id": "85aa1e99",
   "metadata": {},
   "outputs": [
    {
     "data": {
      "text/plain": [
       "Balance         NumOfProducts      0.297601\n",
       "Age             IsActiveMember     0.088123\n",
       "                NumOfProducts      0.033875\n",
       "CreditScore     IsActiveMember     0.028217\n",
       "Age             Balance            0.027782\n",
       "Tenure          IsActiveMember     0.023162\n",
       "Balance         IsActiveMember     0.022086\n",
       "Tenure          EstimatedSalary    0.022071\n",
       "Age             HasCrCard          0.020440\n",
       "Tenure          HasCrCard          0.020439\n",
       "NumOfProducts   IsActiveMember     0.019543\n",
       "CreditScore     NumOfProducts      0.019402\n",
       "Tenure          NumOfProducts      0.018448\n",
       "Balance         HasCrCard          0.015655\n",
       "NumOfProducts   EstimatedSalary    0.013162\n",
       "CreditScore     HasCrCard          0.013145\n",
       "HasCrCard       EstimatedSalary    0.012799\n",
       "Balance         EstimatedSalary    0.011984\n",
       "HasCrCard       IsActiveMember     0.011913\n",
       "Tenure          Balance            0.011748\n",
       "IsActiveMember  EstimatedSalary    0.009852\n",
       "Age             Tenure             0.008788\n",
       "CreditScore     Tenure             0.007670\n",
       "                Age                0.007253\n",
       "                Balance            0.006758\n",
       "NumOfProducts   HasCrCard          0.003504\n",
       "CreditScore     EstimatedSalary    0.002628\n",
       "Age             EstimatedSalary    0.000997\n",
       "dtype: float64"
      ]
     },
     "execution_count": 15,
     "metadata": {},
     "output_type": "execute_result"
    }
   ],
   "source": [
    "correlation=X_train_numerical.corr().abs()\n",
    "correlation_data=(correlation.where(np.triu(np.ones(correlation.shape),k=1).astype(np.bool_)).stack().sort_values(ascending=False))\n",
    "correlation_data"
   ]
  },
  {
   "cell_type": "code",
   "execution_count": 16,
   "id": "ab10ba1c",
   "metadata": {},
   "outputs": [
    {
     "data": {
      "text/plain": [
       "array([[<AxesSubplot:title={'center':'CreditScore'}>,\n",
       "        <AxesSubplot:title={'center':'Age'}>,\n",
       "        <AxesSubplot:title={'center':'Tenure'}>],\n",
       "       [<AxesSubplot:title={'center':'Balance'}>,\n",
       "        <AxesSubplot:title={'center':'NumOfProducts'}>,\n",
       "        <AxesSubplot:title={'center':'HasCrCard'}>],\n",
       "       [<AxesSubplot:title={'center':'IsActiveMember'}>,\n",
       "        <AxesSubplot:title={'center':'EstimatedSalary'}>, <AxesSubplot:>]],\n",
       "      dtype=object)"
      ]
     },
     "execution_count": 16,
     "metadata": {},
     "output_type": "execute_result"
    },
    {
     "data": {
      "image/png": "[encoded data removed]",
      "text/plain": [
       "<Figure size 640x480 with 9 Axes>"
      ]
     },
     "metadata": {},
     "output_type": "display_data"
    }
   ],
   "source": [
    "X_train.hist()\n"
   ]
  },
  {
   "cell_type": "code",
   "execution_count": 17,
   "id": "4c999f67",
   "metadata": {},
   "outputs": [],
   "source": [
    "X_train_cat=X_train.select_dtypes(include=[\"bool\",\"object\"])"
   ]
  },
  {
   "cell_type": "code",
   "execution_count": 18,
   "id": "f283b3d2",
   "metadata": {},
   "outputs": [
    {
     "data": {
      "text/html": [
       "<div>\n",
       "<style scoped>\n",
       "    .dataframe tbody tr th:only-of-type {\n",
       "        vertical-align: middle;\n",
       "    }\n",
       "\n",
       "    .dataframe tbody tr th {\n",
       "        vertical-align: top;\n",
       "    }\n",
       "\n",
       "    .dataframe thead th {\n",
       "        text-align: right;\n",
       "    }\n",
       "</style>\n",
       "<table border=\"1\" class=\"dataframe\">\n",
       "  <thead>\n",
       "    <tr style=\"text-align: right;\">\n",
       "      <th></th>\n",
       "      <th>Surname</th>\n",
       "      <th>Geography</th>\n",
       "      <th>Gender</th>\n",
       "    </tr>\n",
       "  </thead>\n",
       "  <tbody>\n",
       "    <tr>\n",
       "      <th>9254</th>\n",
       "      <td>P'an</td>\n",
       "      <td>France</td>\n",
       "      <td>Male</td>\n",
       "    </tr>\n",
       "    <tr>\n",
       "      <th>1561</th>\n",
       "      <td>Leak</td>\n",
       "      <td>Germany</td>\n",
       "      <td>Male</td>\n",
       "    </tr>\n",
       "    <tr>\n",
       "      <th>1670</th>\n",
       "      <td>Green</td>\n",
       "      <td>Spain</td>\n",
       "      <td>Male</td>\n",
       "    </tr>\n",
       "    <tr>\n",
       "      <th>6087</th>\n",
       "      <td>Chukwudi</td>\n",
       "      <td>France</td>\n",
       "      <td>Female</td>\n",
       "    </tr>\n",
       "    <tr>\n",
       "      <th>6669</th>\n",
       "      <td>Chinomso</td>\n",
       "      <td>France</td>\n",
       "      <td>Male</td>\n",
       "    </tr>\n",
       "    <tr>\n",
       "      <th>...</th>\n",
       "      <td>...</td>\n",
       "      <td>...</td>\n",
       "      <td>...</td>\n",
       "    </tr>\n",
       "    <tr>\n",
       "      <th>5734</th>\n",
       "      <td>Henderson</td>\n",
       "      <td>France</td>\n",
       "      <td>Male</td>\n",
       "    </tr>\n",
       "    <tr>\n",
       "      <th>5191</th>\n",
       "      <td>Chukwualuka</td>\n",
       "      <td>France</td>\n",
       "      <td>Female</td>\n",
       "    </tr>\n",
       "    <tr>\n",
       "      <th>5390</th>\n",
       "      <td>Macrossan</td>\n",
       "      <td>France</td>\n",
       "      <td>Female</td>\n",
       "    </tr>\n",
       "    <tr>\n",
       "      <th>860</th>\n",
       "      <td>McGregor</td>\n",
       "      <td>France</td>\n",
       "      <td>Male</td>\n",
       "    </tr>\n",
       "    <tr>\n",
       "      <th>7270</th>\n",
       "      <td>Smith</td>\n",
       "      <td>Germany</td>\n",
       "      <td>Male</td>\n",
       "    </tr>\n",
       "  </tbody>\n",
       "</table>\n",
       "<p>8000 rows × 3 columns</p>\n",
       "</div>"
      ],
      "text/plain": [
       "          Surname Geography  Gender\n",
       "9254         P'an    France    Male\n",
       "1561         Leak   Germany    Male\n",
       "1670        Green     Spain    Male\n",
       "6087     Chukwudi    France  Female\n",
       "6669     Chinomso    France    Male\n",
       "...           ...       ...     ...\n",
       "5734    Henderson    France    Male\n",
       "5191  Chukwualuka    France  Female\n",
       "5390    Macrossan    France  Female\n",
       "860      McGregor    France    Male\n",
       "7270        Smith   Germany    Male\n",
       "\n",
       "[8000 rows x 3 columns]"
      ]
     },
     "execution_count": 18,
     "metadata": {},
     "output_type": "execute_result"
    }
   ],
   "source": [
    "X_train_cat"
   ]
  },
  {
   "cell_type": "code",
   "execution_count": 19,
   "id": "7a38a420",
   "metadata": {
    "scrolled": true
   },
   "outputs": [
    {
     "name": "stderr",
     "output_type": "stream",
     "text": [
      "c:\\Users\\stuti\\anaconda3\\lib\\site-packages\\seaborn\\axisgrid.py:670: UserWarning: Using the countplot function without specifying `order` is likely to produce an incorrect plot.\n",
      "  warnings.warn(warning)\n"
     ]
    },
    {
     "data": {
      "image/png": "[encoded data removed]",
      "text/plain": [
       "<Figure size 900x300 with 3 Axes>"
      ]
     },
     "metadata": {},
     "output_type": "display_data"
    }
   ],
   "source": [
    "n1=pd.melt(X_train, value_vars=sorted(X_train_cat))\n",
    "n2=sns.FacetGrid(n1, col='variable', col_wrap=3,sharex=False,sharey=False)\n",
    "plt.xticks(rotation='vertical')\n",
    "n2=n2.map(sns.countplot, 'value')\n",
    "[plt.setp(ax.get_xticklabels(),rotation=60) for ax in n2.axes.flat]\n",
    "n2.fig.tight_layout()\n",
    "plt.show()"
   ]
  },
  {
   "cell_type": "code",
   "execution_count": 20,
   "id": "11a19bce",
   "metadata": {},
   "outputs": [],
   "source": [
    "X_test.drop('Surname',axis=1, inplace=True)\n",
    "X_train.drop('Surname',axis=1, inplace=True)"
   ]
  },
  {
   "cell_type": "code",
   "execution_count": 21,
   "id": "08081d5b",
   "metadata": {},
   "outputs": [
    {
     "data": {
      "text/plain": [
       "<AxesSubplot:>"
      ]
     },
     "execution_count": 21,
     "metadata": {},
     "output_type": "execute_result"
    },
    {
     "data": {
      "image/png": "[encoded data removed]",
      "text/plain": [
       "<Figure size 640x480 with 1 Axes>"
      ]
     },
     "metadata": {},
     "output_type": "display_data"
    }
   ],
   "source": [
    "Y_train.hist()"
   ]
  },
  {
   "cell_type": "code",
   "execution_count": 22,
   "id": "ab83a594",
   "metadata": {},
   "outputs": [
    {
     "data": {
      "text/plain": [
       "1670    1\n",
       "6087    1\n",
       "6669    1\n",
       "5933    1\n",
       "5866    1\n",
       "       ..\n",
       "4555    1\n",
       "769     1\n",
       "1685    1\n",
       "5390    1\n",
       "860     1\n",
       "Name: Exited, Length: 1644, dtype: int64"
      ]
     },
     "execution_count": 22,
     "metadata": {},
     "output_type": "execute_result"
    }
   ],
   "source": [
    "exited=Y_train==1\n",
    "exited=Y_train[exited]\n",
    "exited"
   ]
  },
  {
   "cell_type": "code",
   "execution_count": 23,
   "id": "0b0d6a87",
   "metadata": {},
   "outputs": [
    {
     "data": {
      "text/plain": [
       "20.549999999999997"
      ]
     },
     "execution_count": 23,
     "metadata": {},
     "output_type": "execute_result"
    }
   ],
   "source": [
    "val=(exited.shape[0]/Y_train.shape[0])*100\n",
    "val"
   ]
  },
  {
   "cell_type": "code",
   "execution_count": 24,
   "id": "b5388a88",
   "metadata": {},
   "outputs": [
    {
     "name": "stdout",
     "output_type": "stream",
     "text": [
      "CreditScore          int64\n",
      "Geography            int64\n",
      "Gender               int64\n",
      "Age                  int64\n",
      "Tenure               int64\n",
      "Balance            float64\n",
      "NumOfProducts        int64\n",
      "HasCrCard            int64\n",
      "IsActiveMember       int64\n",
      "EstimatedSalary    float64\n",
      "dtype: object\n"
     ]
    }
   ],
   "source": [
    "from sklearn import preprocessing\n",
    "geography_map = {'France': 0, 'Spain': 1, 'Germany': 2}\n",
    "gender_map = {'Female': 0, 'Male': 1}\n",
    "X_train['Gender'] = X_train['Gender'].map(gender_map)\n",
    "X_train['Geography'] = X_train['Geography'].map(geography_map)\n",
    "print(X_train.dtypes)\n"
   ]
  },
  {
   "cell_type": "code",
   "execution_count": 25,
   "id": "d7cbaafa",
   "metadata": {},
   "outputs": [
    {
     "name": "stdout",
     "output_type": "stream",
     "text": [
      "CreditScore          int64\n",
      "Geography            int64\n",
      "Gender               int64\n",
      "Age                  int64\n",
      "Tenure               int64\n",
      "Balance            float64\n",
      "NumOfProducts        int64\n",
      "HasCrCard            int64\n",
      "IsActiveMember       int64\n",
      "EstimatedSalary    float64\n",
      "dtype: object\n"
     ]
    }
   ],
   "source": [
    "geography_map = {'France': 0, 'Spain': 1, 'Germany': 2}\n",
    "gender_map = {'Female': 0, 'Male': 1}\n",
    "\n",
    "X_test['Gender'] = X_test['Gender'].map(gender_map)\n",
    "X_test['Geography'] = X_test['Geography'].map(geography_map)\n",
    "\n",
    "print(X_test.dtypes)\n"
   ]
  },
  {
   "cell_type": "code",
   "execution_count": 26,
   "id": "82748027",
   "metadata": {},
   "outputs": [
    {
     "data": {
      "text/plain": [
       "9254    0\n",
       "1561    0\n",
       "1670    1\n",
       "6087    1\n",
       "6669    1\n",
       "       ..\n",
       "5734    0\n",
       "5191    0\n",
       "5390    1\n",
       "860     1\n",
       "7270    0\n",
       "Name: Exited, Length: 8000, dtype: int64"
      ]
     },
     "execution_count": 26,
     "metadata": {},
     "output_type": "execute_result"
    }
   ],
   "source": [
    "Y_train"
   ]
  },
  {
   "cell_type": "code",
   "execution_count": 27,
   "id": "6c8e934a",
   "metadata": {},
   "outputs": [
    {
     "data": {
      "text/plain": [
       "array([[ 0.35649971, -0.90598864,  0.91324755, ...,  0.64920267,\n",
       "         0.97481699,  1.36766974],\n",
       "       [-0.20389777,  1.50315516,  0.91324755, ...,  0.64920267,\n",
       "         0.97481699,  1.6612541 ],\n",
       "       [-0.96147213,  0.29858326,  0.91324755, ...,  0.64920267,\n",
       "        -1.02583358, -0.25280688],\n",
       "       ...,\n",
       "       [ 0.86500853, -0.90598864, -1.09499335, ..., -1.54035103,\n",
       "        -1.02583358, -0.1427649 ],\n",
       "       [ 0.15932282, -0.90598864,  0.91324755, ...,  0.64920267,\n",
       "        -1.02583358, -0.05082558],\n",
       "       [ 0.47065475,  1.50315516,  0.91324755, ...,  0.64920267,\n",
       "         0.97481699, -0.81456811]])"
      ]
     },
     "execution_count": 27,
     "metadata": {},
     "output_type": "execute_result"
    }
   ],
   "source": [
    "scaler=preprocessing.StandardScaler()\n",
    "X_train=scaler.fit_transform(X_train)\n",
    "X_train"
   ]
  },
  {
   "cell_type": "code",
   "execution_count": 28,
   "id": "2ac27d8b",
   "metadata": {},
   "outputs": [
    {
     "data": {
      "text/plain": [
       "array([[-0.51250172,  1.51709959,  0.90911166, ..., -1.57810057,\n",
       "        -1.0502616 , -0.99096946],\n",
       "       [-0.2360466 , -0.88908533,  0.90911166, ...,  0.63367318,\n",
       "         0.95214374,  0.8293793 ],\n",
       "       [-0.46130633,  0.31400713, -1.09997489, ...,  0.63367318,\n",
       "        -1.0502616 , -0.69904548],\n",
       "       ...,\n",
       "       [ 0.85953481, -0.88908533, -1.09997489, ...,  0.63367318,\n",
       "        -1.0502616 , -1.13742992],\n",
       "       [ 0.47044982, -0.88908533,  0.90911166, ...,  0.63367318,\n",
       "        -1.0502616 , -0.38237688],\n",
       "       [-0.18485121,  1.51709959,  0.90911166, ...,  0.63367318,\n",
       "         0.95214374,  0.15573964]])"
      ]
     },
     "execution_count": 28,
     "metadata": {},
     "output_type": "execute_result"
    }
   ],
   "source": [
    "scaler=preprocessing.StandardScaler()\n",
    "X_test=scaler.fit_transform(X_test)\n",
    "X_test"
   ]
  },
  {
   "cell_type": "code",
   "execution_count": 29,
   "id": "b9ab6e40",
   "metadata": {},
   "outputs": [
    {
     "data": {
      "text/plain": [
       "9254    0\n",
       "1561    0\n",
       "1670    1\n",
       "6087    1\n",
       "6669    1\n",
       "       ..\n",
       "5734    0\n",
       "5191    0\n",
       "5390    1\n",
       "860     1\n",
       "7270    0\n",
       "Name: Exited, Length: 8000, dtype: int64"
      ]
     },
     "execution_count": 29,
     "metadata": {},
     "output_type": "execute_result"
    }
   ],
   "source": [
    "Y_train"
   ]
  },
  {
   "cell_type": "code",
   "execution_count": 30,
   "id": "90eaa23f",
   "metadata": {
    "scrolled": true
   },
   "outputs": [],
   "source": [
    "import numpy as np\n",
    "from sklearn import preprocessing\n",
    "from sklearn.model_selection import StratifiedKFold\n",
    "from sklearn.base import clone\n",
    "from sklearn.ensemble import RandomForestClassifier\n",
    "from sklearn.linear_model import LogisticRegression\n",
    "from sklearn.ensemble import GradientBoostingClassifier\n",
    "Y_train_array = Y_train.to_numpy() \n",
    "\n",
    "scaler = preprocessing.StandardScaler()\n",
    "X_train = scaler.fit_transform(X_train)\n",
    "\n",
    "skfolds = StratifiedKFold(n_splits=10, shuffle=True, random_state=42)\n"
   ]
  },
  {
   "cell_type": "code",
   "execution_count": 31,
   "id": "58b48764",
   "metadata": {},
   "outputs": [
    {
     "name": "stdout",
     "output_type": "stream",
     "text": [
      "\n",
      "Fold 1\n",
      "Training set shape: (7200, 10)\n",
      "Testing set shape: (800, 10)\n",
      "Y_train[training] shape: (7200,)\n",
      "Y_train[testing] shape: (800,)\n",
      "y1 shape: (7200,)\n",
      "y2 shape: (800,)\n",
      "Results for fold 1: 0.8612\n",
      "\n",
      "Fold 2\n",
      "Training set shape: (7200, 10)\n",
      "Testing set shape: (800, 10)\n",
      "Y_train[training] shape: (7200,)\n",
      "Y_train[testing] shape: (800,)\n",
      "y1 shape: (7200,)\n",
      "y2 shape: (800,)\n",
      "Results for fold 2: 0.8700\n",
      "\n",
      "Fold 3\n",
      "Training set shape: (7200, 10)\n",
      "Testing set shape: (800, 10)\n",
      "Y_train[training] shape: (7200,)\n",
      "Y_train[testing] shape: (800,)\n",
      "y1 shape: (7200,)\n",
      "y2 shape: (800,)\n",
      "Results for fold 3: 0.8512\n",
      "\n",
      "Fold 4\n",
      "Training set shape: (7200, 10)\n",
      "Testing set shape: (800, 10)\n",
      "Y_train[training] shape: (7200,)\n",
      "Y_train[testing] shape: (800,)\n",
      "y1 shape: (7200,)\n",
      "y2 shape: (800,)\n",
      "Results for fold 4: 0.8675\n",
      "\n",
      "Fold 5\n",
      "Training set shape: (7200, 10)\n",
      "Testing set shape: (800, 10)\n",
      "Y_train[training] shape: (7200,)\n",
      "Y_train[testing] shape: (800,)\n",
      "y1 shape: (7200,)\n",
      "y2 shape: (800,)\n",
      "Results for fold 5: 0.8488\n",
      "\n",
      "Fold 6\n",
      "Training set shape: (7200, 10)\n",
      "Testing set shape: (800, 10)\n",
      "Y_train[training] shape: (7200,)\n",
      "Y_train[testing] shape: (800,)\n",
      "y1 shape: (7200,)\n",
      "y2 shape: (800,)\n",
      "Results for fold 6: 0.8600\n",
      "\n",
      "Fold 7\n",
      "Training set shape: (7200, 10)\n",
      "Testing set shape: (800, 10)\n",
      "Y_train[training] shape: (7200,)\n",
      "Y_train[testing] shape: (800,)\n",
      "y1 shape: (7200,)\n",
      "y2 shape: (800,)\n",
      "Results for fold 7: 0.8675\n",
      "\n",
      "Fold 8\n",
      "Training set shape: (7200, 10)\n",
      "Testing set shape: (800, 10)\n",
      "Y_train[training] shape: (7200,)\n",
      "Y_train[testing] shape: (800,)\n",
      "y1 shape: (7200,)\n",
      "y2 shape: (800,)\n",
      "Results for fold 8: 0.8575\n",
      "\n",
      "Fold 9\n",
      "Training set shape: (7200, 10)\n",
      "Testing set shape: (800, 10)\n",
      "Y_train[training] shape: (7200,)\n",
      "Y_train[testing] shape: (800,)\n",
      "y1 shape: (7200,)\n",
      "y2 shape: (800,)\n",
      "Results for fold 9: 0.8775\n",
      "\n",
      "Fold 10\n",
      "Training set shape: (7200, 10)\n",
      "Testing set shape: (800, 10)\n",
      "Y_train[training] shape: (7200,)\n",
      "Y_train[testing] shape: (800,)\n",
      "y1 shape: (7200,)\n",
      "y2 shape: (800,)\n",
      "Results for fold 10: 0.8600\n"
     ]
    }
   ],
   "source": [
    "#RandomForestClassifier\n",
    "rfc = RandomForestClassifier(random_state=42)\n",
    "rfc.fit(X_train,Y_train)\n",
    "for fold, (training, testing) in enumerate(skfolds.split(X_train, Y_train_array), 1):\n",
    "    print(f\"\\nFold {fold}\")\n",
    "    print(\"Training set shape:\", X_train[training].shape)\n",
    "    print(\"Testing set shape:\", X_train[testing].shape) \n",
    "    print(\"Y_train[training] shape:\", Y_train_array[training].shape)\n",
    "    print(\"Y_train[testing] shape:\", Y_train_array[testing].shape)\n",
    "\n",
    "    clone_rfc = clone(rfc)\n",
    "    x1 = X_train[training]\n",
    "    y1 = Y_train_array[training]\n",
    "    x2 = X_train[testing]\n",
    "    y2 = Y_train_array[testing]\n",
    "    \n",
    "    print(\"y1 shape:\", y1.shape)\n",
    "    print(\"y2 shape:\", y2.shape)\n",
    "    \n",
    "    clone_rfc.fit(x1, y1)\n",
    "    pred = clone_rfc.predict(x2)\n",
    "    num_correct = np.sum(pred == y2)\n",
    "    accuracy = num_correct / len(pred)\n",
    "    print(f\"Results for fold {fold}: {accuracy:.4f}\")"
   ]
  },
  {
   "cell_type": "code",
   "execution_count": 32,
   "id": "1088dc7d",
   "metadata": {},
   "outputs": [
    {
     "name": "stdout",
     "output_type": "stream",
     "text": [
      "\n",
      "Fold 1\n",
      "Training set shape: (7200, 10)\n",
      "Testing set shape: (800, 10)\n",
      "Y_train[training] shape: (7200,)\n",
      "Y_train[testing] shape: (800,)\n",
      "y1 shape: (7200,)\n",
      "y2 shape: (800,)\n",
      "Results for fold 1: 0.8100\n",
      "\n",
      "Fold 2\n",
      "Training set shape: (7200, 10)\n",
      "Testing set shape: (800, 10)\n",
      "Y_train[training] shape: (7200,)\n",
      "Y_train[testing] shape: (800,)\n",
      "y1 shape: (7200,)\n",
      "y2 shape: (800,)\n",
      "Results for fold 2: 0.7987\n",
      "\n",
      "Fold 3\n",
      "Training set shape: (7200, 10)\n",
      "Testing set shape: (800, 10)\n",
      "Y_train[training] shape: (7200,)\n",
      "Y_train[testing] shape: (800,)\n",
      "y1 shape: (7200,)\n",
      "y2 shape: (800,)\n",
      "Results for fold 3: 0.7975\n",
      "\n",
      "Fold 4\n",
      "Training set shape: (7200, 10)\n",
      "Testing set shape: (800, 10)\n",
      "Y_train[training] shape: (7200,)\n",
      "Y_train[testing] shape: (800,)\n",
      "y1 shape: (7200,)\n",
      "y2 shape: (800,)\n",
      "Results for fold 4: 0.8150\n",
      "\n",
      "Fold 5\n",
      "Training set shape: (7200, 10)\n",
      "Testing set shape: (800, 10)\n",
      "Y_train[training] shape: (7200,)\n",
      "Y_train[testing] shape: (800,)\n",
      "y1 shape: (7200,)\n",
      "y2 shape: (800,)\n",
      "Results for fold 5: 0.8137\n",
      "\n",
      "Fold 6\n",
      "Training set shape: (7200, 10)\n",
      "Testing set shape: (800, 10)\n",
      "Y_train[training] shape: (7200,)\n",
      "Y_train[testing] shape: (800,)\n",
      "y1 shape: (7200,)\n",
      "y2 shape: (800,)\n",
      "Results for fold 6: 0.8237\n",
      "\n",
      "Fold 7\n",
      "Training set shape: (7200, 10)\n",
      "Testing set shape: (800, 10)\n",
      "Y_train[training] shape: (7200,)\n",
      "Y_train[testing] shape: (800,)\n",
      "y1 shape: (7200,)\n",
      "y2 shape: (800,)\n",
      "Results for fold 7: 0.8087\n",
      "\n",
      "Fold 8\n",
      "Training set shape: (7200, 10)\n",
      "Testing set shape: (800, 10)\n",
      "Y_train[training] shape: (7200,)\n",
      "Y_train[testing] shape: (800,)\n",
      "y1 shape: (7200,)\n",
      "y2 shape: (800,)\n",
      "Results for fold 8: 0.8200\n",
      "\n",
      "Fold 9\n",
      "Training set shape: (7200, 10)\n",
      "Testing set shape: (800, 10)\n",
      "Y_train[training] shape: (7200,)\n",
      "Y_train[testing] shape: (800,)\n",
      "y1 shape: (7200,)\n",
      "y2 shape: (800,)\n",
      "Results for fold 9: 0.8263\n",
      "\n",
      "Fold 10\n",
      "Training set shape: (7200, 10)\n",
      "Testing set shape: (800, 10)\n",
      "Y_train[training] shape: (7200,)\n",
      "Y_train[testing] shape: (800,)\n",
      "y1 shape: (7200,)\n",
      "y2 shape: (800,)\n",
      "Results for fold 10: 0.8100\n"
     ]
    }
   ],
   "source": [
    "#Logistic Regression\n",
    "log=LogisticRegression(random_state=42)\n",
    "log.fit(X_train,Y_train)\n",
    "for fold, (training, testing) in enumerate(skfolds.split(X_train, Y_train_array), 1):\n",
    "    print(f\"\\nFold {fold}\")\n",
    "    print(\"Training set shape:\", X_train[training].shape)\n",
    "    print(\"Testing set shape:\", X_train[testing].shape) \n",
    "    print(\"Y_train[training] shape:\", Y_train_array[training].shape)\n",
    "    print(\"Y_train[testing] shape:\", Y_train_array[testing].shape)\n",
    "\n",
    "    clone_log = clone(log)\n",
    "    x1 = X_train[training]\n",
    "    y1 = Y_train_array[training]\n",
    "    x2 = X_train[testing]\n",
    "    y2 = Y_train_array[testing]\n",
    "    \n",
    "    print(\"y1 shape:\", y1.shape)\n",
    "    print(\"y2 shape:\", y2.shape)\n",
    "    \n",
    "    clone_log.fit(x1, y1)\n",
    "    pred = clone_log.predict(x2)\n",
    "    num_correct = np.sum(pred == y2)\n",
    "    accuracy = num_correct / len(pred)\n",
    "    print(f\"Results for fold {fold}: {accuracy:.4f}\")"
   ]
  },
  {
   "cell_type": "code",
   "execution_count": 33,
   "id": "f574e45c",
   "metadata": {},
   "outputs": [
    {
     "name": "stdout",
     "output_type": "stream",
     "text": [
      "\n",
      "Fold 1\n",
      "Training set shape: (7200, 10)\n",
      "Testing set shape: (800, 10)\n",
      "Y_train[training] shape: (7200,)\n",
      "Y_train[testing] shape: (800,)\n",
      "y1 shape: (7200,)\n",
      "y2 shape: (800,)\n",
      "Results for fold 1: 0.8675\n",
      "\n",
      "Fold 2\n",
      "Training set shape: (7200, 10)\n",
      "Testing set shape: (800, 10)\n",
      "Y_train[training] shape: (7200,)\n",
      "Y_train[testing] shape: (800,)\n",
      "y1 shape: (7200,)\n",
      "y2 shape: (800,)\n",
      "Results for fold 2: 0.8675\n",
      "\n",
      "Fold 3\n",
      "Training set shape: (7200, 10)\n",
      "Testing set shape: (800, 10)\n",
      "Y_train[training] shape: (7200,)\n",
      "Y_train[testing] shape: (800,)\n",
      "y1 shape: (7200,)\n",
      "y2 shape: (800,)\n",
      "Results for fold 3: 0.8575\n",
      "\n",
      "Fold 4\n",
      "Training set shape: (7200, 10)\n",
      "Testing set shape: (800, 10)\n",
      "Y_train[training] shape: (7200,)\n",
      "Y_train[testing] shape: (800,)\n",
      "y1 shape: (7200,)\n",
      "y2 shape: (800,)\n",
      "Results for fold 4: 0.8700\n",
      "\n",
      "Fold 5\n",
      "Training set shape: (7200, 10)\n",
      "Testing set shape: (800, 10)\n",
      "Y_train[training] shape: (7200,)\n",
      "Y_train[testing] shape: (800,)\n",
      "y1 shape: (7200,)\n",
      "y2 shape: (800,)\n",
      "Results for fold 5: 0.8462\n",
      "\n",
      "Fold 6\n",
      "Training set shape: (7200, 10)\n",
      "Testing set shape: (800, 10)\n",
      "Y_train[training] shape: (7200,)\n",
      "Y_train[testing] shape: (800,)\n",
      "y1 shape: (7200,)\n",
      "y2 shape: (800,)\n",
      "Results for fold 6: 0.8675\n",
      "\n",
      "Fold 7\n",
      "Training set shape: (7200, 10)\n",
      "Testing set shape: (800, 10)\n",
      "Y_train[training] shape: (7200,)\n",
      "Y_train[testing] shape: (800,)\n",
      "y1 shape: (7200,)\n",
      "y2 shape: (800,)\n",
      "Results for fold 7: 0.8562\n",
      "\n",
      "Fold 8\n",
      "Training set shape: (7200, 10)\n",
      "Testing set shape: (800, 10)\n",
      "Y_train[training] shape: (7200,)\n",
      "Y_train[testing] shape: (800,)\n",
      "y1 shape: (7200,)\n",
      "y2 shape: (800,)\n",
      "Results for fold 8: 0.8612\n",
      "\n",
      "Fold 9\n",
      "Training set shape: (7200, 10)\n",
      "Testing set shape: (800, 10)\n",
      "Y_train[training] shape: (7200,)\n",
      "Y_train[testing] shape: (800,)\n",
      "y1 shape: (7200,)\n",
      "y2 shape: (800,)\n",
      "Results for fold 9: 0.8862\n",
      "\n",
      "Fold 10\n",
      "Training set shape: (7200, 10)\n",
      "Testing set shape: (800, 10)\n",
      "Y_train[training] shape: (7200,)\n",
      "Y_train[testing] shape: (800,)\n",
      "y1 shape: (7200,)\n",
      "y2 shape: (800,)\n",
      "Results for fold 10: 0.8550\n"
     ]
    }
   ],
   "source": [
    "#Gradient Boosting Classifier\n",
    "gbc=GradientBoostingClassifier(random_state=42)\n",
    "gbc.fit(X_train, Y_train)\n",
    "for fold, (training, testing) in enumerate(skfolds.split(X_train, Y_train_array), 1):\n",
    "    print(f\"\\nFold {fold}\")\n",
    "    print(\"Training set shape:\", X_train[training].shape)\n",
    "    print(\"Testing set shape:\", X_train[testing].shape) \n",
    "    print(\"Y_train[training] shape:\", Y_train_array[training].shape)\n",
    "    print(\"Y_train[testing] shape:\", Y_train_array[testing].shape)\n",
    "\n",
    "    clone_gbc = clone(gbc)\n",
    "    x1 = X_train[training]\n",
    "    y1 = Y_train_array[training]\n",
    "    x2 = X_train[testing]\n",
    "    y2 = Y_train_array[testing]\n",
    "    \n",
    "    print(\"y1 shape:\", y1.shape)\n",
    "    print(\"y2 shape:\", y2.shape)\n",
    "    \n",
    "    clone_gbc.fit(x1, y1)\n",
    "    pred = clone_gbc.predict(x2)\n",
    "    num_correct = np.sum(pred == y2)\n",
    "    accuracy = num_correct / len(pred)\n",
    "    print(f\"Results for fold {fold}: {accuracy:.4f}\")"
   ]
  },
  {
   "cell_type": "code",
   "execution_count": 34,
   "id": "dd7dc571",
   "metadata": {},
   "outputs": [
    {
     "data": {
      "text/plain": [
       "array([[6131,  225],\n",
       "       [ 873,  771]], dtype=int64)"
      ]
     },
     "execution_count": 34,
     "metadata": {},
     "output_type": "execute_result"
    }
   ],
   "source": [
    "from sklearn.model_selection import cross_val_predict\n",
    "y_pred=cross_val_predict(gbc,X_train,Y_train,cv=10)\n",
    "from sklearn.metrics import confusion_matrix\n",
    "confusion_matrix(Y_train,y_pred)"
   ]
  },
  {
   "cell_type": "code",
   "execution_count": 35,
   "id": "a25f6dda",
   "metadata": {},
   "outputs": [],
   "source": [
    "from sklearn.metrics import precision_score, recall_score\n",
    "precision=precision_score(Y_train,y_pred)\n",
    "recall=recall_score(Y_train,y_pred)"
   ]
  },
  {
   "cell_type": "code",
   "execution_count": 36,
   "id": "4a104b7e",
   "metadata": {},
   "outputs": [
    {
     "name": "stdout",
     "output_type": "stream",
     "text": [
      "Precision:  0.7740963855421686\n",
      "Recall:  0.46897810218978103\n"
     ]
    }
   ],
   "source": [
    "print(\"Precision: \",precision)\n",
    "print(\"Recall: \",recall)"
   ]
  },
  {
   "cell_type": "code",
   "execution_count": 37,
   "id": "2fc5023c",
   "metadata": {},
   "outputs": [],
   "source": [
    "y_scores=cross_val_predict(gbc,X_train,Y_train,cv=10,method=\"decision_function\")\n",
    "from sklearn.metrics import precision_recall_curve\n",
    "precisions,recalls,thresholds=precision_recall_curve(Y_train,y_scores)"
   ]
  },
  {
   "cell_type": "code",
   "execution_count": 38,
   "id": "44d1f6af",
   "metadata": {
    "scrolled": false
   },
   "outputs": [
    {
     "data": {
      "image/png": "[encoded data removed]",
      "text/plain": [
       "<Figure size 640x480 with 1 Axes>"
      ]
     },
     "metadata": {},
     "output_type": "display_data"
    }
   ],
   "source": [
    "def plotting(precisions,recalls,thresholds):\n",
    "    plt.plot(thresholds,precisions[:-1],\"b--\",label=\"Precision\")\n",
    "    plt.plot(thresholds,recalls[:-1],\"g--\",label=\"Recall\")\n",
    "    plt.xlabel(\"Threshold\")\n",
    " \n",
    "    plt.ylim([0,1])\n",
    "plotting(precisions,recalls,thresholds)\n",
    "plt.show()"
   ]
  },
  {
   "cell_type": "code",
   "execution_count": 39,
   "id": "179fe370",
   "metadata": {},
   "outputs": [
    {
     "name": "stdout",
     "output_type": "stream",
     "text": [
      "[-4.14518772 -2.0711514  -2.27407496 ...  0.4988685  -0.50264466\n",
      " -0.03180387]\n"
     ]
    }
   ],
   "source": [
    "print(y_scores)"
   ]
  },
  {
   "cell_type": "code",
   "execution_count": 40,
   "id": "b7429116",
   "metadata": {},
   "outputs": [
    {
     "name": "stdout",
     "output_type": "stream",
     "text": [
      "New precision:  0.6354556803995006\n",
      "New Recall:  0.6192214111922141\n"
     ]
    }
   ],
   "source": [
    "y_new_score=(y_scores>-0.8)\n",
    "print(\"New precision: \",precision_score(Y_train,y_new_score))\n",
    "print(\"New Recall: \",recall_score(Y_train,y_new_score))"
   ]
  },
  {
   "cell_type": "code",
   "execution_count": 41,
   "id": "024c1ced",
   "metadata": {},
   "outputs": [
    {
     "data": {
      "image/png": "[encoded data removed]",
      "text/plain": [
       "<Figure size 640x480 with 1 Axes>"
      ]
     },
     "metadata": {},
     "output_type": "display_data"
    }
   ],
   "source": [
    "from sklearn.metrics import roc_curve\n",
    "false,true,thresholds=roc_curve(Y_train,y_scores)\n",
    "def roc(false,true,label=None):\n",
    "    plt.plot(false,true)\n",
    "    plt.plot([0,1],[0,1],'k--')\n",
    "    plt.axis([0,1,0,1])\n",
    "    plt.xlabel(\"FPR\")\n",
    "    plt.ylabel('TPR')\n",
    "roc(false,true)\n",
    "plt.show()"
   ]
  },
  {
   "cell_type": "code",
   "execution_count": 42,
   "id": "91e9c886",
   "metadata": {},
   "outputs": [
    {
     "data": {
      "text/plain": [
       "['../saved_models/scaler.joblib']"
      ]
     },
     "execution_count": 42,
     "metadata": {},
     "output_type": "execute_result"
    }
   ],
   "source": [
    "\n",
    "import joblib\n",
    "joblib.dump(gbc, '../saved_models/Gradient_Boosting_Classifier.joblib')\n",
    "joblib.dump(scaler, '../saved_models/scaler.joblib')"
   ]
  },
  {
   "cell_type": "code",
   "execution_count": null,
   "id": "8b1b1727",
   "metadata": {},
   "outputs": [],
   "source": []
  },
  {
   "cell_type": "code",
   "execution_count": null,
   "id": "405781d6",
   "metadata": {},
   "outputs": [],
   "source": []
  },
  {
   "cell_type": "code",
   "execution_count": null,
   "id": "ff48295a",
   "metadata": {},
   "outputs": [],
   "source": []
  },
  {
   "cell_type": "code",
   "execution_count": null,
   "id": "37f9fe9d",
   "metadata": {},
   "outputs": [],
   "source": []
  },
  {
   "cell_type": "code",
   "execution_count": null,
   "id": "0df19664",
   "metadata": {},
   "outputs": [],
   "source": []
  }
 ],
 "metadata": {
  "kernelspec": {
   "display_name": "Python 3 (ipykernel)",
   "language": "python",
   "name": "python3"
  },
  "language_info": {
   "codemirror_mode": {
    "name": "ipython",
    "version": 3
   },
   "file_extension": ".py",
   "mimetype": "text/x-python",
   "name": "python",
   "nbconvert_exporter": "python",
   "pygments_lexer": "ipython3",
   "version": "3.9.13"
  }
 },
 "nbformat": 4,
 "nbformat_minor": 5
}
