{
 "cells": [
  {
   "cell_type": "markdown",
   "metadata": {
    "papermill": {
     "duration": 0.045864,
     "end_time": "2021-02-21T05:24:40.532878",
     "exception": false,
     "start_time": "2021-02-21T05:24:40.487014",
     "status": "completed"
    },
    "tags": []
   },
   "source": [
    "## Importing Libs"
   ]
  },
  {
   "cell_type": "code",
   "execution_count": 1,
   "metadata": {
    "_cell_guid": "b1076dfc-b9ad-4769-8c92-a6c4dae69d19",
    "_uuid": "8f2839f25d086af736a60e9eeb907d3b93b6e0e5",
    "execution": {
     "iopub.execute_input": "2021-02-21T05:24:40.625317Z",
     "iopub.status.busy": "2021-02-21T05:24:40.624657Z",
     "iopub.status.idle": "2021-02-21T05:24:41.846215Z",
     "shell.execute_reply": "2021-02-21T05:24:41.846810Z"
    },
    "papermill": {
     "duration": 1.269347,
     "end_time": "2021-02-21T05:24:41.847025",
     "exception": false,
     "start_time": "2021-02-21T05:24:40.577678",
     "status": "completed"
    },
    "tags": []
   },
   "outputs": [],
   "source": [
    "import pandas as pd # used to load, manipulate the data and for one-hot encoding\n",
    "import numpy as np # data manipulation\n",
    "%matplotlib inline\n",
    "import matplotlib.pyplot as plt\n",
    "import matplotlib.colors as colors\n",
    "from sklearn.utils import resample # for downsample the dataset\n",
    "from sklearn.model_selection import train_test_split # for splitting the dataset into train and test split\n",
    "from sklearn.preprocessing import scale # scale and center the data\n",
    "from sklearn.svm import SVC # will make a SVM for classification\n",
    "from sklearn.model_selection import GridSearchCV # will do the cross validation\n",
    "from sklearn.metrics import plot_confusion_matrix # will draw the confusion matrix\n",
    "from sklearn.decomposition import PCA # to perform PCA to plot the data\n",
    "from sklearn.impute import SimpleImputer\n",
    "from sklearn.preprocessing import StandardScaler, MinMaxScaler\n",
    "from sklearn.model_selection import cross_val_score\n",
    "from sklearn.metrics import confusion_matrix, precision_score, accuracy_score, recall_score, roc_curve, auc\n",
    "import seaborn as sns"
   ]
  },
  {
   "cell_type": "markdown",
   "metadata": {
    "papermill": {
     "duration": 0.044613,
     "end_time": "2021-02-21T05:24:41.936713",
     "exception": false,
     "start_time": "2021-02-21T05:24:41.892100",
     "status": "completed"
    },
    "tags": []
   },
   "source": [
    "## Load the data"
   ]
  },
  {
   "cell_type": "code",
   "execution_count": 2,
   "metadata": {
    "_cell_guid": "79c7e3d0-c299-4dcb-8224-4455121ee9b0",
    "_uuid": "d629ff2d2480ee46fbb7e2d37f6b5fab8052498a",
    "execution": {
     "iopub.execute_input": "2021-02-21T05:24:42.029211Z",
     "iopub.status.busy": "2021-02-21T05:24:42.028542Z",
     "iopub.status.idle": "2021-02-21T05:24:42.058687Z",
     "shell.execute_reply": "2021-02-21T05:24:42.059215Z"
    },
    "papermill": {
     "duration": 0.077355,
     "end_time": "2021-02-21T05:24:42.059378",
     "exception": false,
     "start_time": "2021-02-21T05:24:41.982023",
     "status": "completed"
    },
    "tags": []
   },
   "outputs": [],
   "source": [
    "data = pd.read_csv(\"../input/mri-and-alzheimers/oasis_longitudinal.csv\")"
   ]
  },
  {
   "cell_type": "markdown",
   "metadata": {
    "papermill": {
     "duration": 0.04491,
     "end_time": "2021-02-21T05:24:42.149525",
     "exception": false,
     "start_time": "2021-02-21T05:24:42.104615",
     "status": "completed"
    },
    "tags": []
   },
   "source": [
    "## Explore the data"
   ]
  },
  {
   "cell_type": "code",
   "execution_count": 3,
   "metadata": {
    "execution": {
     "iopub.execute_input": "2021-02-21T05:24:42.244342Z",
     "iopub.status.busy": "2021-02-21T05:24:42.243655Z",
     "iopub.status.idle": "2021-02-21T05:24:42.249012Z",
     "shell.execute_reply": "2021-02-21T05:24:42.248425Z"
    },
    "papermill": {
     "duration": 0.053142,
     "end_time": "2021-02-21T05:24:42.249140",
     "exception": false,
     "start_time": "2021-02-21T05:24:42.195998",
     "status": "completed"
    },
    "tags": []
   },
   "outputs": [],
   "source": [
    "pd.set_option('display.max_columns', None) # will show the all columns with pandas dataframe\n",
    "pd.set_option('display.max_rows', None) # will show the all rows with pandas dataframe"
   ]
  },
  {
   "cell_type": "code",
   "execution_count": 4,
   "metadata": {
    "execution": {
     "iopub.execute_input": "2021-02-21T05:24:42.359739Z",
     "iopub.status.busy": "2021-02-21T05:24:42.359068Z",
     "iopub.status.idle": "2021-02-21T05:24:42.371999Z",
     "shell.execute_reply": "2021-02-21T05:24:42.372499Z"
    },
    "papermill": {
     "duration": 0.078228,
     "end_time": "2021-02-21T05:24:42.372636",
     "exception": false,
     "start_time": "2021-02-21T05:24:42.294408",
     "status": "completed"
    },
    "tags": []
   },
   "outputs": [
    {
     "data": {
      "text/html": [
       "<div>\n",
       "<style scoped>\n",
       "    .dataframe tbody tr th:only-of-type {\n",
       "        vertical-align: middle;\n",
       "    }\n",
       "\n",
       "    .dataframe tbody tr th {\n",
       "        vertical-align: top;\n",
       "    }\n",
       "\n",
       "    .dataframe thead th {\n",
       "        text-align: right;\n",
       "    }\n",
       "</style>\n",
       "<table border=\"1\" class=\"dataframe\">\n",
       "  <thead>\n",
       "    <tr style=\"text-align: right;\">\n",
       "      <th></th>\n",
       "      <th>Subject ID</th>\n",
       "      <th>MRI ID</th>\n",
       "      <th>Group</th>\n",
       "      <th>Visit</th>\n",
       "      <th>MR Delay</th>\n",
       "      <th>M/F</th>\n",
       "      <th>Hand</th>\n",
       "      <th>Age</th>\n",
       "      <th>EDUC</th>\n",
       "      <th>SES</th>\n",
       "      <th>MMSE</th>\n",
       "      <th>CDR</th>\n",
       "      <th>eTIV</th>\n",
       "      <th>nWBV</th>\n",
       "      <th>ASF</th>\n",
       "    </tr>\n",
       "  </thead>\n",
       "  <tbody>\n",
       "    <tr>\n",
       "      <th>0</th>\n",
       "      <td>OAS2_0001</td>\n",
       "      <td>OAS2_0001_MR1</td>\n",
       "      <td>Nondemented</td>\n",
       "      <td>1</td>\n",
       "      <td>0</td>\n",
       "      <td>M</td>\n",
       "      <td>R</td>\n",
       "      <td>87</td>\n",
       "      <td>14</td>\n",
       "      <td>2.0</td>\n",
       "      <td>27.0</td>\n",
       "      <td>0.0</td>\n",
       "      <td>1987</td>\n",
       "      <td>0.696</td>\n",
       "      <td>0.883</td>\n",
       "    </tr>\n",
       "    <tr>\n",
       "      <th>1</th>\n",
       "      <td>OAS2_0001</td>\n",
       "      <td>OAS2_0001_MR2</td>\n",
       "      <td>Nondemented</td>\n",
       "      <td>2</td>\n",
       "      <td>457</td>\n",
       "      <td>M</td>\n",
       "      <td>R</td>\n",
       "      <td>88</td>\n",
       "      <td>14</td>\n",
       "      <td>2.0</td>\n",
       "      <td>30.0</td>\n",
       "      <td>0.0</td>\n",
       "      <td>2004</td>\n",
       "      <td>0.681</td>\n",
       "      <td>0.876</td>\n",
       "    </tr>\n",
       "    <tr>\n",
       "      <th>2</th>\n",
       "      <td>OAS2_0002</td>\n",
       "      <td>OAS2_0002_MR1</td>\n",
       "      <td>Demented</td>\n",
       "      <td>1</td>\n",
       "      <td>0</td>\n",
       "      <td>M</td>\n",
       "      <td>R</td>\n",
       "      <td>75</td>\n",
       "      <td>12</td>\n",
       "      <td>NaN</td>\n",
       "      <td>23.0</td>\n",
       "      <td>0.5</td>\n",
       "      <td>1678</td>\n",
       "      <td>0.736</td>\n",
       "      <td>1.046</td>\n",
       "    </tr>\n",
       "    <tr>\n",
       "      <th>3</th>\n",
       "      <td>OAS2_0002</td>\n",
       "      <td>OAS2_0002_MR2</td>\n",
       "      <td>Demented</td>\n",
       "      <td>2</td>\n",
       "      <td>560</td>\n",
       "      <td>M</td>\n",
       "      <td>R</td>\n",
       "      <td>76</td>\n",
       "      <td>12</td>\n",
       "      <td>NaN</td>\n",
       "      <td>28.0</td>\n",
       "      <td>0.5</td>\n",
       "      <td>1738</td>\n",
       "      <td>0.713</td>\n",
       "      <td>1.010</td>\n",
       "    </tr>\n",
       "    <tr>\n",
       "      <th>4</th>\n",
       "      <td>OAS2_0002</td>\n",
       "      <td>OAS2_0002_MR3</td>\n",
       "      <td>Demented</td>\n",
       "      <td>3</td>\n",
       "      <td>1895</td>\n",
       "      <td>M</td>\n",
       "      <td>R</td>\n",
       "      <td>80</td>\n",
       "      <td>12</td>\n",
       "      <td>NaN</td>\n",
       "      <td>22.0</td>\n",
       "      <td>0.5</td>\n",
       "      <td>1698</td>\n",
       "      <td>0.701</td>\n",
       "      <td>1.034</td>\n",
       "    </tr>\n",
       "  </tbody>\n",
       "</table>\n",
       "</div>"
      ],
      "text/plain": [
       "  Subject ID         MRI ID        Group  Visit  MR Delay M/F Hand  Age  EDUC  \\\n",
       "0  OAS2_0001  OAS2_0001_MR1  Nondemented      1         0   M    R   87    14   \n",
       "1  OAS2_0001  OAS2_0001_MR2  Nondemented      2       457   M    R   88    14   \n",
       "2  OAS2_0002  OAS2_0002_MR1     Demented      1         0   M    R   75    12   \n",
       "3  OAS2_0002  OAS2_0002_MR2     Demented      2       560   M    R   76    12   \n",
       "4  OAS2_0002  OAS2_0002_MR3     Demented      3      1895   M    R   80    12   \n",
       "\n",
       "   SES  MMSE  CDR  eTIV   nWBV    ASF  \n",
       "0  2.0  27.0  0.0  1987  0.696  0.883  \n",
       "1  2.0  30.0  0.0  2004  0.681  0.876  \n",
       "2  NaN  23.0  0.5  1678  0.736  1.046  \n",
       "3  NaN  28.0  0.5  1738  0.713  1.010  \n",
       "4  NaN  22.0  0.5  1698  0.701  1.034  "
      ]
     },
     "execution_count": 4,
     "metadata": {},
     "output_type": "execute_result"
    }
   ],
   "source": [
    "data.head()\n",
    "# data.tail()\n",
    "# data.size"
   ]
  },
  {
   "cell_type": "code",
   "execution_count": 5,
   "metadata": {
    "execution": {
     "iopub.execute_input": "2021-02-21T05:24:42.468495Z",
     "iopub.status.busy": "2021-02-21T05:24:42.467769Z",
     "iopub.status.idle": "2021-02-21T05:24:42.473077Z",
     "shell.execute_reply": "2021-02-21T05:24:42.472435Z"
    },
    "papermill": {
     "duration": 0.054333,
     "end_time": "2021-02-21T05:24:42.473216",
     "exception": false,
     "start_time": "2021-02-21T05:24:42.418883",
     "status": "completed"
    },
    "tags": []
   },
   "outputs": [
    {
     "data": {
      "text/plain": [
       "(373, 15)"
      ]
     },
     "execution_count": 5,
     "metadata": {},
     "output_type": "execute_result"
    }
   ],
   "source": [
    "data.shape"
   ]
  },
  {
   "cell_type": "code",
   "execution_count": 6,
   "metadata": {
    "execution": {
     "iopub.execute_input": "2021-02-21T05:24:42.571285Z",
     "iopub.status.busy": "2021-02-21T05:24:42.570528Z",
     "iopub.status.idle": "2021-02-21T05:24:42.586722Z",
     "shell.execute_reply": "2021-02-21T05:24:42.585742Z"
    },
    "papermill": {
     "duration": 0.067194,
     "end_time": "2021-02-21T05:24:42.586897",
     "exception": false,
     "start_time": "2021-02-21T05:24:42.519703",
     "status": "completed"
    },
    "tags": []
   },
   "outputs": [
    {
     "name": "stdout",
     "output_type": "stream",
     "text": [
      "<class 'pandas.core.frame.DataFrame'>\n",
      "RangeIndex: 373 entries, 0 to 372\n",
      "Data columns (total 15 columns):\n",
      " #   Column      Non-Null Count  Dtype  \n",
      "---  ------      --------------  -----  \n",
      " 0   Subject ID  373 non-null    object \n",
      " 1   MRI ID      373 non-null    object \n",
      " 2   Group       373 non-null    object \n",
      " 3   Visit       373 non-null    int64  \n",
      " 4   MR Delay    373 non-null    int64  \n",
      " 5   M/F         373 non-null    object \n",
      " 6   Hand        373 non-null    object \n",
      " 7   Age         373 non-null    int64  \n",
      " 8   EDUC        373 non-null    int64  \n",
      " 9   SES         354 non-null    float64\n",
      " 10  MMSE        371 non-null    float64\n",
      " 11  CDR         373 non-null    float64\n",
      " 12  eTIV        373 non-null    int64  \n",
      " 13  nWBV        373 non-null    float64\n",
      " 14  ASF         373 non-null    float64\n",
      "dtypes: float64(5), int64(5), object(5)\n",
      "memory usage: 43.8+ KB\n"
     ]
    }
   ],
   "source": [
    "data.info()"
   ]
  },
  {
   "cell_type": "markdown",
   "metadata": {
    "papermill": {
     "duration": 0.046597,
     "end_time": "2021-02-21T05:24:42.681879",
     "exception": false,
     "start_time": "2021-02-21T05:24:42.635282",
     "status": "completed"
    },
    "tags": []
   },
   "source": [
    "## Converting Categorical Data to Numerical Data"
   ]
  },
  {
   "cell_type": "markdown",
   "metadata": {
    "papermill": {
     "duration": 0.046699,
     "end_time": "2021-02-21T05:24:42.776013",
     "exception": false,
     "start_time": "2021-02-21T05:24:42.729314",
     "status": "completed"
    },
    "tags": []
   },
   "source": [
    "When **inplace = True** , the data is modified in place, which means it will return nothing and the dataframe is now updated. \n",
    "When **inplace = False** , which is the *default*, then the operation is performed and it returns a copy of the object. You then need to save it to something."
   ]
  },
  {
   "cell_type": "markdown",
   "metadata": {
    "papermill": {
     "duration": 0.046777,
     "end_time": "2021-02-21T05:24:42.872082",
     "exception": false,
     "start_time": "2021-02-21T05:24:42.825305",
     "status": "completed"
    },
    "tags": []
   },
   "source": [
    "set axis=0 for rows or, just put axis='rows' to access the rows\n",
    "\n",
    "set axis=1 for columns or, just put axis='columns' to access the columns"
   ]
  },
  {
   "cell_type": "code",
   "execution_count": 7,
   "metadata": {
    "execution": {
     "iopub.execute_input": "2021-02-21T05:24:42.982688Z",
     "iopub.status.busy": "2021-02-21T05:24:42.981824Z",
     "iopub.status.idle": "2021-02-21T05:24:42.985482Z",
     "shell.execute_reply": "2021-02-21T05:24:42.986097Z"
    },
    "papermill": {
     "duration": 0.067422,
     "end_time": "2021-02-21T05:24:42.986242",
     "exception": false,
     "start_time": "2021-02-21T05:24:42.918820",
     "status": "completed"
    },
    "tags": []
   },
   "outputs": [
    {
     "name": "stdout",
     "output_type": "stream",
     "text": [
      "<class 'pandas.core.frame.DataFrame'>\n",
      "RangeIndex: 373 entries, 0 to 372\n",
      "Data columns (total 15 columns):\n",
      " #   Column      Non-Null Count  Dtype  \n",
      "---  ------      --------------  -----  \n",
      " 0   Subject ID  373 non-null    object \n",
      " 1   MRI ID      373 non-null    object \n",
      " 2   Group       373 non-null    int64  \n",
      " 3   Visit       373 non-null    int64  \n",
      " 4   MR Delay    373 non-null    int64  \n",
      " 5   M/F         373 non-null    int64  \n",
      " 6   Hand        373 non-null    object \n",
      " 7   Age         373 non-null    int64  \n",
      " 8   EDUC        373 non-null    int64  \n",
      " 9   SES         354 non-null    float64\n",
      " 10  MMSE        371 non-null    float64\n",
      " 11  CDR         373 non-null    float64\n",
      " 12  eTIV        373 non-null    int64  \n",
      " 13  nWBV        373 non-null    float64\n",
      " 14  ASF         373 non-null    float64\n",
      "dtypes: float64(5), int64(7), object(3)\n",
      "memory usage: 43.8+ KB\n"
     ]
    }
   ],
   "source": [
    "data['M/F'] = [1 if each == \"M\" else 0 for each in data['M/F']]\n",
    "data['Group'] = [1 if each == \"Demented\" or each == \"Converted\" else 0 for each in data['Group']]\n",
    "# data['Group'] = data['Group'].replace(['Converted'], ['Demented']) # Target variable\n",
    "# data['Group'] = data['Group'].replace(['Demented', 'Nondemented'], [1,0]) # Target variable\n",
    "data.info()"
   ]
  },
  {
   "cell_type": "markdown",
   "metadata": {
    "papermill": {
     "duration": 0.046981,
     "end_time": "2021-02-21T05:24:43.080526",
     "exception": false,
     "start_time": "2021-02-21T05:24:43.033545",
     "status": "completed"
    },
    "tags": []
   },
   "source": [
    "Note: Based on the given data **CDR** is used to tell what the condition of the patient meaning, does the patient has any dementia or, not.\n",
    "\n",
    "CDR Value Meaning:\n",
    "\n",
    "* 0 ---> Normal\n",
    "* 0.5 ---> Very Mild Dementia\n",
    "* 1 ---> Mild Dementia\n",
    "* 2 ---> Moderate Dementia\n",
    "* 3 ---> Severe Dementia"
   ]
  },
  {
   "cell_type": "markdown",
   "metadata": {
    "papermill": {
     "duration": 0.047171,
     "end_time": "2021-02-21T05:24:43.175738",
     "exception": false,
     "start_time": "2021-02-21T05:24:43.128567",
     "status": "completed"
    },
    "tags": []
   },
   "source": [
    "## Correlation Between Attributes"
   ]
  },
  {
   "cell_type": "code",
   "execution_count": 8,
   "metadata": {
    "execution": {
     "iopub.execute_input": "2021-02-21T05:24:43.274629Z",
     "iopub.status.busy": "2021-02-21T05:24:43.273593Z",
     "iopub.status.idle": "2021-02-21T05:24:43.287746Z",
     "shell.execute_reply": "2021-02-21T05:24:43.287173Z"
    },
    "papermill": {
     "duration": 0.064432,
     "end_time": "2021-02-21T05:24:43.287873",
     "exception": false,
     "start_time": "2021-02-21T05:24:43.223441",
     "status": "completed"
    },
    "tags": []
   },
   "outputs": [
    {
     "data": {
      "text/plain": [
       "Group       1.000000\n",
       "CDR         0.778049\n",
       "M/F         0.222146\n",
       "SES         0.062463\n",
       "ASF         0.032495\n",
       "Age        -0.005941\n",
       "eTIV       -0.042700\n",
       "Visit      -0.095507\n",
       "MR Delay   -0.120638\n",
       "EDUC       -0.193060\n",
       "nWBV       -0.311346\n",
       "MMSE       -0.524775\n",
       "Name: Group, dtype: float64"
      ]
     },
     "execution_count": 8,
     "metadata": {},
     "output_type": "execute_result"
    }
   ],
   "source": [
    "correlation_matrix = data.corr()\n",
    "data_corr = correlation_matrix['Group'].sort_values(ascending=False)\n",
    "data_corr"
   ]
  },
  {
   "cell_type": "code",
   "execution_count": 9,
   "metadata": {
    "execution": {
     "iopub.execute_input": "2021-02-21T05:24:43.387454Z",
     "iopub.status.busy": "2021-02-21T05:24:43.386736Z",
     "iopub.status.idle": "2021-02-21T05:24:45.327091Z",
     "shell.execute_reply": "2021-02-21T05:24:45.326421Z"
    },
    "papermill": {
     "duration": 1.99135,
     "end_time": "2021-02-21T05:24:45.327222",
     "exception": false,
     "start_time": "2021-02-21T05:24:43.335872",
     "status": "completed"
    },
    "tags": []
   },
   "outputs": [
    {
     "data": {
      "text/plain": [
       "array([[<matplotlib.axes._subplots.AxesSubplot object at 0x7fcb5b81cd90>,\n",
       "        <matplotlib.axes._subplots.AxesSubplot object at 0x7fcb5b631fd0>,\n",
       "        <matplotlib.axes._subplots.AxesSubplot object at 0x7fcb5b5f36d0>,\n",
       "        <matplotlib.axes._subplots.AxesSubplot object at 0x7fcb5b5aad50>,\n",
       "        <matplotlib.axes._subplots.AxesSubplot object at 0x7fcb5b56c410>],\n",
       "       [<matplotlib.axes._subplots.AxesSubplot object at 0x7fcb5b5a0a90>,\n",
       "        <matplotlib.axes._subplots.AxesSubplot object at 0x7fcb5b4e21d0>,\n",
       "        <matplotlib.axes._subplots.AxesSubplot object at 0x7fcb5b516790>,\n",
       "        <matplotlib.axes._subplots.AxesSubplot object at 0x7fcb5b5167d0>,\n",
       "        <matplotlib.axes._subplots.AxesSubplot object at 0x7fcb5b4cef50>],\n",
       "       [<matplotlib.axes._subplots.AxesSubplot object at 0x7fcb5b444b90>,\n",
       "        <matplotlib.axes._subplots.AxesSubplot object at 0x7fcb5b407250>,\n",
       "        <matplotlib.axes._subplots.AxesSubplot object at 0x7fcb5b3bd8d0>,\n",
       "        <matplotlib.axes._subplots.AxesSubplot object at 0x7fcb5b7ce150>,\n",
       "        <matplotlib.axes._subplots.AxesSubplot object at 0x7fcb5b4a4710>],\n",
       "       [<matplotlib.axes._subplots.AxesSubplot object at 0x7fcb5b358f10>,\n",
       "        <matplotlib.axes._subplots.AxesSubplot object at 0x7fcb5b31d5d0>,\n",
       "        <matplotlib.axes._subplots.AxesSubplot object at 0x7fcb5b2d2c50>,\n",
       "        <matplotlib.axes._subplots.AxesSubplot object at 0x7fcb5b293310>,\n",
       "        <matplotlib.axes._subplots.AxesSubplot object at 0x7fcb5b248990>],\n",
       "       [<matplotlib.axes._subplots.AxesSubplot object at 0x7fcb5b1fefd0>,\n",
       "        <matplotlib.axes._subplots.AxesSubplot object at 0x7fcb5b1be6d0>,\n",
       "        <matplotlib.axes._subplots.AxesSubplot object at 0x7fcb5b174d50>,\n",
       "        <matplotlib.axes._subplots.AxesSubplot object at 0x7fcb5b139410>,\n",
       "        <matplotlib.axes._subplots.AxesSubplot object at 0x7fcb5b0eca90>]],\n",
       "      dtype=object)"
      ]
     },
     "execution_count": 9,
     "metadata": {},
     "output_type": "execute_result"
    },
    {
     "data": {
      "image/png": "[encoded data removed]",
      "text/plain": [
       "<Figure size 1080x792 with 25 Axes>"
      ]
     },
     "metadata": {
      "needs_background": "light"
     },
     "output_type": "display_data"
    }
   ],
   "source": [
    "from pandas.plotting import scatter_matrix\n",
    "\n",
    "attributes = [\"Group\", \"CDR\", \"M/F\", \"SES\", \"ASF\"]\n",
    "\n",
    "scatter_matrix(data[attributes], figsize=(15, 11), alpha=0.3)"
   ]
  },
  {
   "cell_type": "code",
   "execution_count": 10,
   "metadata": {
    "execution": {
     "iopub.execute_input": "2021-02-21T05:24:45.433703Z",
     "iopub.status.busy": "2021-02-21T05:24:45.433017Z",
     "iopub.status.idle": "2021-02-21T05:24:47.540106Z",
     "shell.execute_reply": "2021-02-21T05:24:47.540628Z"
    },
    "papermill": {
     "duration": 2.163236,
     "end_time": "2021-02-21T05:24:47.540769",
     "exception": false,
     "start_time": "2021-02-21T05:24:45.377533",
     "status": "completed"
    },
    "tags": []
   },
   "outputs": [
    {
     "data": {
      "text/html": [
       "        <script type=\"text/javascript\">\n",
       "        window.PlotlyConfig = {MathJaxConfig: 'local'};\n",
       "        if (window.MathJax) {MathJax.Hub.Config({SVG: {font: \"STIX-Web\"}});}\n",
       "        if (typeof require !== 'undefined') {\n",
       "        require.undef(\"plotly\");\n",
       "        requirejs.config({\n",
       "            paths: {\n",
       "                'plotly': ['https://cdn.plot.ly/plotly-latest.min']\n",
       "            }\n",
       "        });\n",
       "        require(['plotly'], function(Plotly) {\n",
       "            window._Plotly = Plotly;\n",
       "        });\n",
       "        }\n",
       "        </script>\n",
       "        "
      ]
     },
     "metadata": {},
     "output_type": "display_data"
    },
    {
     "data": {
      "text/html": [
       "<div>                            <div id=\"d9027475-d9f3-43a5-a0f1-75b5009ad2c3\" class=\"plotly-graph-div\" style=\"height:525px; width:100%;\"></div>            <script type=\"text/javascript\">                require([\"plotly\"], function(Plotly) {                    window.PLOTLYENV=window.PLOTLYENV || {};                                    if (document.getElementById(\"d9027475-d9f3-43a5-a0f1-75b5009ad2c3\")) {                    Plotly.newPlot(                        \"d9027475-d9f3-43a5-a0f1-75b5009ad2c3\",                        [{\"hovertemplate\": \"Group=%{marker.color}<br>SES=%{y}<extra></extra>\", \"legendgroup\": \"\", \"marker\": {\"color\": [0, 0, 1, 1, 1, 0, 0, 0, 0, 0, 1, 1, 1, 0, 0, 1, 1, 1, 1, 0, 0, 0, 0, 0, 0, 1, 1, 1, 1, 0, 0, 0, 0, 1, 1, 1, 1, 1, 1, 1, 1, 0, 0, 1, 1, 1, 1, 0, 0, 0, 0, 1, 1, 0, 0, 0, 0, 1, 1, 1, 1, 1, 0, 0, 0, 0, 0, 0, 0, 0, 0, 0, 1, 1, 1, 1, 1, 1, 1, 1, 1, 1, 1, 1, 0, 0, 1, 1, 1, 1, 1, 0, 0, 1, 1, 0, 0, 1, 1, 1, 1, 1, 0, 0, 0, 1, 1, 0, 0, 0, 0, 0, 0, 0, 1, 1, 0, 0, 0, 0, 0, 0, 0, 1, 1, 1, 1, 1, 0, 0, 0, 0, 0, 0, 1, 1, 1, 1, 1, 1, 1, 0, 0, 0, 0, 0, 0, 0, 0, 0, 0, 0, 0, 0, 1, 1, 0, 0, 0, 0, 0, 1, 1, 0, 0, 0, 0, 0, 0, 0, 0, 1, 1, 1, 1, 1, 1, 1, 1, 0, 0, 0, 0, 1, 1, 1, 1, 1, 1, 0, 0, 0, 0, 0, 1, 1, 0, 0, 0, 0, 0, 0, 0, 0, 0, 1, 1, 1, 1, 0, 0, 0, 0, 0, 0, 1, 1, 1, 1, 1, 1, 1, 1, 0, 0, 1, 1, 1, 1, 0, 0, 1, 1, 1, 1, 1, 1, 1, 1, 1, 1, 0, 0, 0, 0, 1, 1, 0, 0, 0, 1, 1, 0, 0, 0, 0, 1, 1, 0, 0, 0, 1, 1, 1, 1, 1, 0, 0, 0, 0, 0, 1, 1, 1, 1, 1, 1, 0, 0, 1, 1, 0, 0, 1, 1, 1, 1, 1, 0, 0, 0, 0, 0, 0, 0, 1, 1, 1, 1, 1, 1, 0, 0, 0, 0, 0, 0, 1, 1, 0, 0, 0, 0, 0, 0, 0, 1, 1, 0, 0, 1, 1, 1, 1, 0, 0, 0, 1, 1, 1, 1, 1, 1, 0, 0, 0, 0, 0, 1, 1, 0, 0, 0, 1, 1, 1, 1, 1, 1, 0, 0, 0, 0, 0, 1, 1, 1, 1, 1, 1, 1, 0, 0, 0, 0, 1, 1, 1, 1, 1, 0, 0, 0], \"coloraxis\": \"coloraxis\", \"symbol\": \"circle\"}, \"mode\": \"markers\", \"name\": \"\", \"orientation\": \"v\", \"showlegend\": false, \"type\": \"scatter\", \"x\": [0, 0, 1, 1, 1, 0, 0, 0, 0, 0, 1, 1, 1, 0, 0, 1, 1, 1, 1, 0, 0, 0, 0, 0, 0, 1, 1, 1, 1, 0, 0, 0, 0, 1, 1, 1, 1, 1, 1, 1, 1, 0, 0, 1, 1, 1, 1, 0, 0, 0, 0, 1, 1, 0, 0, 0, 0, 1, 1, 1, 1, 1, 0, 0, 0, 0, 0, 0, 0, 0, 0, 0, 1, 1, 1, 1, 1, 1, 1, 1, 1, 1, 1, 1, 0, 0, 1, 1, 1, 1, 1, 0, 0, 1, 1, 0, 0, 1, 1, 1, 1, 1, 0, 0, 0, 1, 1, 0, 0, 0, 0, 0, 0, 0, 1, 1, 0, 0, 0, 0, 0, 0, 0, 1, 1, 1, 1, 1, 0, 0, 0, 0, 0, 0, 1, 1, 1, 1, 1, 1, 1, 0, 0, 0, 0, 0, 0, 0, 0, 0, 0, 0, 0, 0, 1, 1, 0, 0, 0, 0, 0, 1, 1, 0, 0, 0, 0, 0, 0, 0, 0, 1, 1, 1, 1, 1, 1, 1, 1, 0, 0, 0, 0, 1, 1, 1, 1, 1, 1, 0, 0, 0, 0, 0, 1, 1, 0, 0, 0, 0, 0, 0, 0, 0, 0, 1, 1, 1, 1, 0, 0, 0, 0, 0, 0, 1, 1, 1, 1, 1, 1, 1, 1, 0, 0, 1, 1, 1, 1, 0, 0, 1, 1, 1, 1, 1, 1, 1, 1, 1, 1, 0, 0, 0, 0, 1, 1, 0, 0, 0, 1, 1, 0, 0, 0, 0, 1, 1, 0, 0, 0, 1, 1, 1, 1, 1, 0, 0, 0, 0, 0, 1, 1, 1, 1, 1, 1, 0, 0, 1, 1, 0, 0, 1, 1, 1, 1, 1, 0, 0, 0, 0, 0, 0, 0, 1, 1, 1, 1, 1, 1, 0, 0, 0, 0, 0, 0, 1, 1, 0, 0, 0, 0, 0, 0, 0, 1, 1, 0, 0, 1, 1, 1, 1, 0, 0, 0, 1, 1, 1, 1, 1, 1, 0, 0, 0, 0, 0, 1, 1, 0, 0, 0, 1, 1, 1, 1, 1, 1, 0, 0, 0, 0, 0, 1, 1, 1, 1, 1, 1, 1, 0, 0, 0, 0, 1, 1, 1, 1, 1, 0, 0, 0], \"xaxis\": \"x\", \"y\": [2.0, 2.0, null, null, null, 3.0, 3.0, 4.0, 4.0, 4.0, null, null, null, 2.0, 2.0, 2.0, 2.0, 3.0, 3.0, 2.0, 2.0, 2.0, 4.0, 4.0, 4.0, 3.0, 3.0, 4.0, 4.0, 3.0, 3.0, 3.0, 3.0, 1.0, 1.0, 1.0, 1.0, 1.0, 1.0, 1.0, 1.0, 3.0, 3.0, 4.0, 4.0, 3.0, 3.0, 3.0, 3.0, 3.0, 3.0, 2.0, 2.0, 4.0, 4.0, 1.0, 1.0, 3.0, 3.0, 3.0, 3.0, 3.0, 1.0, 1.0, 1.0, 1.0, 4.0, 4.0, 4.0, 4.0, 4.0, 4.0, 4.0, 4.0, 4.0, 4.0, 2.0, 2.0, 4.0, 4.0, 4.0, 1.0, 1.0, 1.0, 3.0, 3.0, 4.0, 4.0, 4.0, 4.0, 4.0, 1.0, 1.0, 2.0, 2.0, 2.0, 2.0, 1.0, 1.0, 1.0, 1.0, 1.0, 3.0, 3.0, 3.0, 4.0, 4.0, 1.0, 1.0, 1.0, 2.0, 2.0, 3.0, 3.0, 1.0, 1.0, 3.0, 3.0, 2.0, 2.0, 2.0, 2.0, 2.0, 3.0, 3.0, 3.0, 4.0, 4.0, 1.0, 1.0, 1.0, 2.0, 2.0, 2.0, null, null, 5.0, 5.0, 5.0, 1.0, 1.0, 4.0, 4.0, 4.0, 4.0, 3.0, 3.0, 2.0, 2.0, 1.0, 1.0, 1.0, 1.0, 1.0, 2.0, 2.0, 3.0, 3.0, 3.0, 3.0, 3.0, 5.0, 5.0, 2.0, 2.0, 2.0, 2.0, 2.0, 1.0, 1.0, 1.0, 4.0, 4.0, 4.0, 2.0, 2.0, 2.0, 4.0, 4.0, 5.0, 5.0, 2.0, 2.0, 1.0, 1.0, 4.0, 4.0, 2.0, 2.0, 2.0, 2.0, 2.0, 4.0, 4.0, 2.0, 2.0, 1.0, 1.0, 1.0, 1.0, 1.0, 3.0, 3.0, 2.0, 2.0, 4.0, 4.0, null, null, 4.0, 4.0, 4.0, 2.0, 2.0, 2.0, 3.0, 3.0, 3.0, 1.0, 1.0, 1.0, 1.0, 1.0, 4.0, 4.0, 4.0, 4.0, 1.0, 1.0, 4.0, 4.0, 4.0, 4.0, 3.0, 3.0, 2.0, 2.0, null, null, 3.0, 3.0, 2.0, 2.0, 2.0, 2.0, 4.0, 4.0, 2.0, 2.0, 2.0, 3.0, 3.0, 4.0, 4.0, 3.0, 3.0, 3.0, 3.0, 3.0, 3.0, 3.0, 1.0, 1.0, 1.0, 1.0, 1.0, 1.0, 1.0, 1.0, 1.0, 1.0, 2.0, 2.0, 3.0, 3.0, 4.0, 4.0, 2.0, 2.0, 2.0, 2.0, 2.0, 2.0, 1.0, 1.0, 3.0, 3.0, 3.0, 2.0, 2.0, 3.0, 3.0, 2.0, 2.0, 2.0, 1.0, 1.0, 3.0, 3.0, 2.0, 2.0, 2.0, 2.0, 2.0, 2.0, 2.0, 2.0, 3.0, 3.0, 2.0, 2.0, 2.0, 1.0, 1.0, 1.0, 1.0, 2.0, 2.0, 4.0, 4.0, 3.0, 3.0, null, null, 1.0, 1.0, 1.0, 2.0, 2.0, 1.0, 1.0, 3.0, 3.0, 1.0, 1.0, 3.0, 3.0, 3.0, 1.0, 1.0, 4.0, 4.0, 4.0, 4.0, 4.0, 4.0, 2.0, 2.0, 2.0, 3.0, 3.0, 2.0, 2.0, 2.0, 1.0, 1.0, null, null, null, null, null, 2.0, 2.0, 2.0, 2.0, 3.0, 3.0, 1.0, 1.0, 1.0, 2.0, 2.0, 2.0], \"yaxis\": \"y\"}],                        {\"coloraxis\": {\"colorbar\": {\"title\": {\"text\": \"Group\"}}, \"colorscale\": [[0.0, \"#0d0887\"], [0.1111111111111111, \"#46039f\"], [0.2222222222222222, \"#7201a8\"], [0.3333333333333333, \"#9c179e\"], [0.4444444444444444, \"#bd3786\"], [0.5555555555555556, \"#d8576b\"], [0.6666666666666666, \"#ed7953\"], [0.7777777777777778, \"#fb9f3a\"], [0.8888888888888888, \"#fdca26\"], [1.0, \"#f0f921\"]]}, \"legend\": {\"tracegroupgap\": 0}, \"margin\": {\"t\": 60}, \"template\": {\"data\": {\"bar\": [{\"error_x\": {\"color\": \"#2a3f5f\"}, \"error_y\": {\"color\": \"#2a3f5f\"}, \"marker\": {\"line\": {\"color\": \"#E5ECF6\", \"width\": 0.5}}, \"type\": \"bar\"}], \"barpolar\": [{\"marker\": {\"line\": {\"color\": \"#E5ECF6\", \"width\": 0.5}}, \"type\": \"barpolar\"}], \"carpet\": [{\"aaxis\": {\"endlinecolor\": \"#2a3f5f\", \"gridcolor\": \"white\", \"linecolor\": \"white\", \"minorgridcolor\": \"white\", \"startlinecolor\": \"#2a3f5f\"}, \"baxis\": {\"endlinecolor\": \"#2a3f5f\", \"gridcolor\": \"white\", \"linecolor\": \"white\", \"minorgridcolor\": \"white\", \"startlinecolor\": \"#2a3f5f\"}, \"type\": \"carpet\"}], \"choropleth\": [{\"colorbar\": {\"outlinewidth\": 0, \"ticks\": \"\"}, \"type\": \"choropleth\"}], \"contour\": [{\"colorbar\": {\"outlinewidth\": 0, \"ticks\": \"\"}, \"colorscale\": [[0.0, \"#0d0887\"], [0.1111111111111111, \"#46039f\"], [0.2222222222222222, \"#7201a8\"], [0.3333333333333333, \"#9c179e\"], [0.4444444444444444, \"#bd3786\"], [0.5555555555555556, \"#d8576b\"], [0.6666666666666666, \"#ed7953\"], [0.7777777777777778, \"#fb9f3a\"], [0.8888888888888888, \"#fdca26\"], [1.0, \"#f0f921\"]], \"type\": \"contour\"}], \"contourcarpet\": [{\"colorbar\": {\"outlinewidth\": 0, \"ticks\": \"\"}, \"type\": \"contourcarpet\"}], \"heatmap\": [{\"colorbar\": {\"outlinewidth\": 0, \"ticks\": \"\"}, \"colorscale\": [[0.0, \"#0d0887\"], [0.1111111111111111, \"#46039f\"], [0.2222222222222222, \"#7201a8\"], [0.3333333333333333, \"#9c179e\"], [0.4444444444444444, \"#bd3786\"], [0.5555555555555556, \"#d8576b\"], [0.6666666666666666, \"#ed7953\"], [0.7777777777777778, \"#fb9f3a\"], [0.8888888888888888, \"#fdca26\"], [1.0, \"#f0f921\"]], \"type\": \"heatmap\"}], \"heatmapgl\": [{\"colorbar\": {\"outlinewidth\": 0, \"ticks\": \"\"}, \"colorscale\": [[0.0, \"#0d0887\"], [0.1111111111111111, \"#46039f\"], [0.2222222222222222, \"#7201a8\"], [0.3333333333333333, \"#9c179e\"], [0.4444444444444444, \"#bd3786\"], [0.5555555555555556, \"#d8576b\"], [0.6666666666666666, \"#ed7953\"], [0.7777777777777778, \"#fb9f3a\"], [0.8888888888888888, \"#fdca26\"], [1.0, \"#f0f921\"]], \"type\": \"heatmapgl\"}], \"histogram\": [{\"marker\": {\"colorbar\": {\"outlinewidth\": 0, \"ticks\": \"\"}}, \"type\": \"histogram\"}], \"histogram2d\": [{\"colorbar\": {\"outlinewidth\": 0, \"ticks\": \"\"}, \"colorscale\": [[0.0, \"#0d0887\"], [0.1111111111111111, \"#46039f\"], [0.2222222222222222, \"#7201a8\"], [0.3333333333333333, \"#9c179e\"], [0.4444444444444444, \"#bd3786\"], [0.5555555555555556, \"#d8576b\"], [0.6666666666666666, \"#ed7953\"], [0.7777777777777778, \"#fb9f3a\"], [0.8888888888888888, \"#fdca26\"], [1.0, \"#f0f921\"]], \"type\": \"histogram2d\"}], \"histogram2dcontour\": [{\"colorbar\": {\"outlinewidth\": 0, \"ticks\": \"\"}, \"colorscale\": [[0.0, \"#0d0887\"], [0.1111111111111111, \"#46039f\"], [0.2222222222222222, \"#7201a8\"], [0.3333333333333333, \"#9c179e\"], [0.4444444444444444, \"#bd3786\"], [0.5555555555555556, \"#d8576b\"], [0.6666666666666666, \"#ed7953\"], [0.7777777777777778, \"#fb9f3a\"], [0.8888888888888888, \"#fdca26\"], [1.0, \"#f0f921\"]], \"type\": \"histogram2dcontour\"}], \"mesh3d\": [{\"colorbar\": {\"outlinewidth\": 0, \"ticks\": \"\"}, \"type\": \"mesh3d\"}], \"parcoords\": [{\"line\": {\"colorbar\": {\"outlinewidth\": 0, \"ticks\": \"\"}}, \"type\": \"parcoords\"}], \"pie\": [{\"automargin\": true, \"type\": \"pie\"}], \"scatter\": [{\"marker\": {\"colorbar\": {\"outlinewidth\": 0, \"ticks\": \"\"}}, \"type\": \"scatter\"}], \"scatter3d\": [{\"line\": {\"colorbar\": {\"outlinewidth\": 0, \"ticks\": \"\"}}, \"marker\": {\"colorbar\": {\"outlinewidth\": 0, \"ticks\": \"\"}}, \"type\": \"scatter3d\"}], \"scattercarpet\": [{\"marker\": {\"colorbar\": {\"outlinewidth\": 0, \"ticks\": \"\"}}, \"type\": \"scattercarpet\"}], \"scattergeo\": [{\"marker\": {\"colorbar\": {\"outlinewidth\": 0, \"ticks\": \"\"}}, \"type\": \"scattergeo\"}], \"scattergl\": [{\"marker\": {\"colorbar\": {\"outlinewidth\": 0, \"ticks\": \"\"}}, \"type\": \"scattergl\"}], \"scattermapbox\": [{\"marker\": {\"colorbar\": {\"outlinewidth\": 0, \"ticks\": \"\"}}, \"type\": \"scattermapbox\"}], \"scatterpolar\": [{\"marker\": {\"colorbar\": {\"outlinewidth\": 0, \"ticks\": \"\"}}, \"type\": \"scatterpolar\"}], \"scatterpolargl\": [{\"marker\": {\"colorbar\": {\"outlinewidth\": 0, \"ticks\": \"\"}}, \"type\": \"scatterpolargl\"}], \"scatterternary\": [{\"marker\": {\"colorbar\": {\"outlinewidth\": 0, \"ticks\": \"\"}}, \"type\": \"scatterternary\"}], \"surface\": [{\"colorbar\": {\"outlinewidth\": 0, \"ticks\": \"\"}, \"colorscale\": [[0.0, \"#0d0887\"], [0.1111111111111111, \"#46039f\"], [0.2222222222222222, \"#7201a8\"], [0.3333333333333333, \"#9c179e\"], [0.4444444444444444, \"#bd3786\"], [0.5555555555555556, \"#d8576b\"], [0.6666666666666666, \"#ed7953\"], [0.7777777777777778, \"#fb9f3a\"], [0.8888888888888888, \"#fdca26\"], [1.0, \"#f0f921\"]], \"type\": \"surface\"}], \"table\": [{\"cells\": {\"fill\": {\"color\": \"#EBF0F8\"}, \"line\": {\"color\": \"white\"}}, \"header\": {\"fill\": {\"color\": \"#C8D4E3\"}, \"line\": {\"color\": \"white\"}}, \"type\": \"table\"}]}, \"layout\": {\"annotationdefaults\": {\"arrowcolor\": \"#2a3f5f\", \"arrowhead\": 0, \"arrowwidth\": 1}, \"autotypenumbers\": \"strict\", \"coloraxis\": {\"colorbar\": {\"outlinewidth\": 0, \"ticks\": \"\"}}, \"colorscale\": {\"diverging\": [[0, \"#8e0152\"], [0.1, \"#c51b7d\"], [0.2, \"#de77ae\"], [0.3, \"#f1b6da\"], [0.4, \"#fde0ef\"], [0.5, \"#f7f7f7\"], [0.6, \"#e6f5d0\"], [0.7, \"#b8e186\"], [0.8, \"#7fbc41\"], [0.9, \"#4d9221\"], [1, \"#276419\"]], \"sequential\": [[0.0, \"#0d0887\"], [0.1111111111111111, \"#46039f\"], [0.2222222222222222, \"#7201a8\"], [0.3333333333333333, \"#9c179e\"], [0.4444444444444444, \"#bd3786\"], [0.5555555555555556, \"#d8576b\"], [0.6666666666666666, \"#ed7953\"], [0.7777777777777778, \"#fb9f3a\"], [0.8888888888888888, \"#fdca26\"], [1.0, \"#f0f921\"]], \"sequentialminus\": [[0.0, \"#0d0887\"], [0.1111111111111111, \"#46039f\"], [0.2222222222222222, \"#7201a8\"], [0.3333333333333333, \"#9c179e\"], [0.4444444444444444, \"#bd3786\"], [0.5555555555555556, \"#d8576b\"], [0.6666666666666666, \"#ed7953\"], [0.7777777777777778, \"#fb9f3a\"], [0.8888888888888888, \"#fdca26\"], [1.0, \"#f0f921\"]]}, \"colorway\": [\"#636efa\", \"#EF553B\", \"#00cc96\", \"#ab63fa\", \"#FFA15A\", \"#19d3f3\", \"#FF6692\", \"#B6E880\", \"#FF97FF\", \"#FECB52\"], \"font\": {\"color\": \"#2a3f5f\"}, \"geo\": {\"bgcolor\": \"white\", \"lakecolor\": \"white\", \"landcolor\": \"#E5ECF6\", \"showlakes\": true, \"showland\": true, \"subunitcolor\": \"white\"}, \"hoverlabel\": {\"align\": \"left\"}, \"hovermode\": \"closest\", \"mapbox\": {\"style\": \"light\"}, \"paper_bgcolor\": \"white\", \"plot_bgcolor\": \"#E5ECF6\", \"polar\": {\"angularaxis\": {\"gridcolor\": \"white\", \"linecolor\": \"white\", \"ticks\": \"\"}, \"bgcolor\": \"#E5ECF6\", \"radialaxis\": {\"gridcolor\": \"white\", \"linecolor\": \"white\", \"ticks\": \"\"}}, \"scene\": {\"xaxis\": {\"backgroundcolor\": \"#E5ECF6\", \"gridcolor\": \"white\", \"gridwidth\": 2, \"linecolor\": \"white\", \"showbackground\": true, \"ticks\": \"\", \"zerolinecolor\": \"white\"}, \"yaxis\": {\"backgroundcolor\": \"#E5ECF6\", \"gridcolor\": \"white\", \"gridwidth\": 2, \"linecolor\": \"white\", \"showbackground\": true, \"ticks\": \"\", \"zerolinecolor\": \"white\"}, \"zaxis\": {\"backgroundcolor\": \"#E5ECF6\", \"gridcolor\": \"white\", \"gridwidth\": 2, \"linecolor\": \"white\", \"showbackground\": true, \"ticks\": \"\", \"zerolinecolor\": \"white\"}}, \"shapedefaults\": {\"line\": {\"color\": \"#2a3f5f\"}}, \"ternary\": {\"aaxis\": {\"gridcolor\": \"white\", \"linecolor\": \"white\", \"ticks\": \"\"}, \"baxis\": {\"gridcolor\": \"white\", \"linecolor\": \"white\", \"ticks\": \"\"}, \"bgcolor\": \"#E5ECF6\", \"caxis\": {\"gridcolor\": \"white\", \"linecolor\": \"white\", \"ticks\": \"\"}}, \"title\": {\"x\": 0.05}, \"xaxis\": {\"automargin\": true, \"gridcolor\": \"white\", \"linecolor\": \"white\", \"ticks\": \"\", \"title\": {\"standoff\": 15}, \"zerolinecolor\": \"white\", \"zerolinewidth\": 2}, \"yaxis\": {\"automargin\": true, \"gridcolor\": \"white\", \"linecolor\": \"white\", \"ticks\": \"\", \"title\": {\"standoff\": 15}, \"zerolinecolor\": \"white\", \"zerolinewidth\": 2}}}, \"xaxis\": {\"anchor\": \"y\", \"domain\": [0.0, 1.0], \"title\": {\"text\": \"Group\"}}, \"yaxis\": {\"anchor\": \"x\", \"domain\": [0.0, 1.0], \"title\": {\"text\": \"SES\"}}},                        {\"responsive\": true}                    ).then(function(){\n",
       "                            \n",
       "var gd = document.getElementById('d9027475-d9f3-43a5-a0f1-75b5009ad2c3');\n",
       "var x = new MutationObserver(function (mutations, observer) {{\n",
       "        var display = window.getComputedStyle(gd).display;\n",
       "        if (!display || display === 'none') {{\n",
       "            console.log([gd, 'removed!']);\n",
       "            Plotly.purge(gd);\n",
       "            observer.disconnect();\n",
       "        }}\n",
       "}});\n",
       "\n",
       "// Listen for the removal of the full notebook cells\n",
       "var notebookContainer = gd.closest('#notebook-container');\n",
       "if (notebookContainer) {{\n",
       "    x.observe(notebookContainer, {childList: true});\n",
       "}}\n",
       "\n",
       "// Listen for the clearing of the current output cell\n",
       "var outputEl = gd.closest('.output');\n",
       "if (outputEl) {{\n",
       "    x.observe(outputEl, {childList: true});\n",
       "}}\n",
       "\n",
       "                        })                };                });            </script>        </div>"
      ]
     },
     "metadata": {},
     "output_type": "display_data"
    }
   ],
   "source": [
    "import plotly.express as px\n",
    "\n",
    "fig = px.scatter(data, x='Group', y='SES', color='Group')\n",
    "fig.show()"
   ]
  },
  {
   "cell_type": "code",
   "execution_count": 11,
   "metadata": {
    "execution": {
     "iopub.execute_input": "2021-02-21T05:24:47.650865Z",
     "iopub.status.busy": "2021-02-21T05:24:47.649810Z",
     "iopub.status.idle": "2021-02-21T05:24:47.721817Z",
     "shell.execute_reply": "2021-02-21T05:24:47.722413Z"
    },
    "papermill": {
     "duration": 0.129299,
     "end_time": "2021-02-21T05:24:47.722563",
     "exception": false,
     "start_time": "2021-02-21T05:24:47.593264",
     "status": "completed"
    },
    "tags": []
   },
   "outputs": [
    {
     "data": {
      "text/html": [
       "<div>                            <div id=\"1f2f4bdc-9db8-43b3-ad33-8e84fb3ece3a\" class=\"plotly-graph-div\" style=\"height:525px; width:100%;\"></div>            <script type=\"text/javascript\">                require([\"plotly\"], function(Plotly) {                    window.PLOTLYENV=window.PLOTLYENV || {};                                    if (document.getElementById(\"1f2f4bdc-9db8-43b3-ad33-8e84fb3ece3a\")) {                    Plotly.newPlot(                        \"1f2f4bdc-9db8-43b3-ad33-8e84fb3ece3a\",                        [{\"hovertemplate\": \"Group=%{marker.color}<br>Age=%{y}<extra></extra>\", \"legendgroup\": \"\", \"marker\": {\"color\": [0, 0, 1, 1, 1, 0, 0, 0, 0, 0, 1, 1, 1, 0, 0, 1, 1, 1, 1, 0, 0, 0, 0, 0, 0, 1, 1, 1, 1, 0, 0, 0, 0, 1, 1, 1, 1, 1, 1, 1, 1, 0, 0, 1, 1, 1, 1, 0, 0, 0, 0, 1, 1, 0, 0, 0, 0, 1, 1, 1, 1, 1, 0, 0, 0, 0, 0, 0, 0, 0, 0, 0, 1, 1, 1, 1, 1, 1, 1, 1, 1, 1, 1, 1, 0, 0, 1, 1, 1, 1, 1, 0, 0, 1, 1, 0, 0, 1, 1, 1, 1, 1, 0, 0, 0, 1, 1, 0, 0, 0, 0, 0, 0, 0, 1, 1, 0, 0, 0, 0, 0, 0, 0, 1, 1, 1, 1, 1, 0, 0, 0, 0, 0, 0, 1, 1, 1, 1, 1, 1, 1, 0, 0, 0, 0, 0, 0, 0, 0, 0, 0, 0, 0, 0, 1, 1, 0, 0, 0, 0, 0, 1, 1, 0, 0, 0, 0, 0, 0, 0, 0, 1, 1, 1, 1, 1, 1, 1, 1, 0, 0, 0, 0, 1, 1, 1, 1, 1, 1, 0, 0, 0, 0, 0, 1, 1, 0, 0, 0, 0, 0, 0, 0, 0, 0, 1, 1, 1, 1, 0, 0, 0, 0, 0, 0, 1, 1, 1, 1, 1, 1, 1, 1, 0, 0, 1, 1, 1, 1, 0, 0, 1, 1, 1, 1, 1, 1, 1, 1, 1, 1, 0, 0, 0, 0, 1, 1, 0, 0, 0, 1, 1, 0, 0, 0, 0, 1, 1, 0, 0, 0, 1, 1, 1, 1, 1, 0, 0, 0, 0, 0, 1, 1, 1, 1, 1, 1, 0, 0, 1, 1, 0, 0, 1, 1, 1, 1, 1, 0, 0, 0, 0, 0, 0, 0, 1, 1, 1, 1, 1, 1, 0, 0, 0, 0, 0, 0, 1, 1, 0, 0, 0, 0, 0, 0, 0, 1, 1, 0, 0, 1, 1, 1, 1, 0, 0, 0, 1, 1, 1, 1, 1, 1, 0, 0, 0, 0, 0, 1, 1, 0, 0, 0, 1, 1, 1, 1, 1, 1, 0, 0, 0, 0, 0, 1, 1, 1, 1, 1, 1, 1, 0, 0, 0, 0, 1, 1, 1, 1, 1, 0, 0, 0], \"coloraxis\": \"coloraxis\", \"symbol\": \"circle\"}, \"mode\": \"markers\", \"name\": \"\", \"orientation\": \"v\", \"showlegend\": false, \"type\": \"scatter\", \"x\": [0, 0, 1, 1, 1, 0, 0, 0, 0, 0, 1, 1, 1, 0, 0, 1, 1, 1, 1, 0, 0, 0, 0, 0, 0, 1, 1, 1, 1, 0, 0, 0, 0, 1, 1, 1, 1, 1, 1, 1, 1, 0, 0, 1, 1, 1, 1, 0, 0, 0, 0, 1, 1, 0, 0, 0, 0, 1, 1, 1, 1, 1, 0, 0, 0, 0, 0, 0, 0, 0, 0, 0, 1, 1, 1, 1, 1, 1, 1, 1, 1, 1, 1, 1, 0, 0, 1, 1, 1, 1, 1, 0, 0, 1, 1, 0, 0, 1, 1, 1, 1, 1, 0, 0, 0, 1, 1, 0, 0, 0, 0, 0, 0, 0, 1, 1, 0, 0, 0, 0, 0, 0, 0, 1, 1, 1, 1, 1, 0, 0, 0, 0, 0, 0, 1, 1, 1, 1, 1, 1, 1, 0, 0, 0, 0, 0, 0, 0, 0, 0, 0, 0, 0, 0, 1, 1, 0, 0, 0, 0, 0, 1, 1, 0, 0, 0, 0, 0, 0, 0, 0, 1, 1, 1, 1, 1, 1, 1, 1, 0, 0, 0, 0, 1, 1, 1, 1, 1, 1, 0, 0, 0, 0, 0, 1, 1, 0, 0, 0, 0, 0, 0, 0, 0, 0, 1, 1, 1, 1, 0, 0, 0, 0, 0, 0, 1, 1, 1, 1, 1, 1, 1, 1, 0, 0, 1, 1, 1, 1, 0, 0, 1, 1, 1, 1, 1, 1, 1, 1, 1, 1, 0, 0, 0, 0, 1, 1, 0, 0, 0, 1, 1, 0, 0, 0, 0, 1, 1, 0, 0, 0, 1, 1, 1, 1, 1, 0, 0, 0, 0, 0, 1, 1, 1, 1, 1, 1, 0, 0, 1, 1, 0, 0, 1, 1, 1, 1, 1, 0, 0, 0, 0, 0, 0, 0, 1, 1, 1, 1, 1, 1, 0, 0, 0, 0, 0, 0, 1, 1, 0, 0, 0, 0, 0, 0, 0, 1, 1, 0, 0, 1, 1, 1, 1, 0, 0, 0, 1, 1, 1, 1, 1, 1, 0, 0, 0, 0, 0, 1, 1, 0, 0, 0, 1, 1, 1, 1, 1, 1, 0, 0, 0, 0, 0, 1, 1, 1, 1, 1, 1, 1, 0, 0, 0, 0, 1, 1, 1, 1, 1, 0, 0, 0], \"xaxis\": \"x\", \"y\": [87, 88, 75, 76, 80, 88, 90, 80, 83, 85, 71, 73, 75, 93, 95, 68, 69, 66, 68, 78, 80, 83, 81, 82, 85, 76, 77, 88, 90, 80, 81, 85, 86, 87, 88, 92, 80, 82, 84, 72, 76, 61, 64, 86, 87, 82, 84, 69, 71, 73, 74, 64, 66, 77, 80, 60, 62, 86, 88, 91, 90, 92, 79, 80, 82, 84, 88, 89, 69, 70, 73, 75, 82, 85, 88, 89, 81, 83, 84, 86, 88, 71, 73, 75, 70, 73, 72, 73, 68, 69, 71, 75, 77, 83, 85, 77, 78, 66, 66, 68, 68, 69, 69, 70, 71, 71, 72, 92, 94, 97, 74, 78, 82, 84, 85, 87, 65, 67, 71, 73, 81, 83, 85, 78, 79, 80, 75, 78, 68, 70, 72, 79, 81, 83, 80, 81, 78, 81, 82, 61, 62, 67, 68, 71, 73, 88, 90, 81, 82, 80, 82, 84, 85, 86, 83, 84, 70, 72, 75, 76, 77, 73, 75, 66, 69, 71, 69, 73, 89, 91, 92, 69, 71, 73, 66, 68, 69, 82, 84, 78, 80, 63, 65, 96, 98, 78, 80, 70, 72, 73, 75, 76, 75, 78, 83, 84, 61, 63, 71, 72, 74, 89, 91, 74, 77, 66, 67, 80, 83, 77, 80, 82, 71, 74, 76, 82, 84, 86, 69, 74, 75, 70, 71, 86, 87, 70, 72, 77, 79, 81, 83, 62, 65, 76, 78, 73, 75, 76, 78, 73, 75, 73, 74, 76, 78, 67, 71, 81, 83, 85, 76, 78, 73, 74, 86, 88, 70, 71, 74, 75, 77, 79, 81, 81, 84, 86, 76, 79, 78, 80, 82, 65, 67, 78, 81, 70, 71, 74, 78, 74, 75, 73, 75, 67, 68, 76, 78, 81, 65, 68, 69, 71, 89, 91, 93, 77, 79, 68, 73, 80, 82, 77, 78, 80, 82, 81, 83, 73, 75, 66, 68, 69, 75, 77, 78, 81, 73, 75, 73, 76, 73, 76, 76, 78, 77, 79, 80, 82, 84, 77, 79, 78, 80, 71, 73, 76, 77, 81, 75, 79, 60, 62, 64, 70, 72, 73, 84, 87, 89, 68, 70, 89, 90, 93, 79, 81, 74, 75, 77, 73, 75, 66, 66, 68, 72, 72, 73, 80, 82, 86, 61, 63, 65], \"yaxis\": \"y\"}],                        {\"coloraxis\": {\"colorbar\": {\"title\": {\"text\": \"Group\"}}, \"colorscale\": [[0.0, \"#0d0887\"], [0.1111111111111111, \"#46039f\"], [0.2222222222222222, \"#7201a8\"], [0.3333333333333333, \"#9c179e\"], [0.4444444444444444, \"#bd3786\"], [0.5555555555555556, \"#d8576b\"], [0.6666666666666666, \"#ed7953\"], [0.7777777777777778, \"#fb9f3a\"], [0.8888888888888888, \"#fdca26\"], [1.0, \"#f0f921\"]]}, \"legend\": {\"tracegroupgap\": 0}, \"margin\": {\"t\": 60}, \"template\": {\"data\": {\"bar\": [{\"error_x\": {\"color\": \"#2a3f5f\"}, \"error_y\": {\"color\": \"#2a3f5f\"}, \"marker\": {\"line\": {\"color\": \"#E5ECF6\", \"width\": 0.5}}, \"type\": \"bar\"}], \"barpolar\": [{\"marker\": {\"line\": {\"color\": \"#E5ECF6\", \"width\": 0.5}}, \"type\": \"barpolar\"}], \"carpet\": [{\"aaxis\": {\"endlinecolor\": \"#2a3f5f\", \"gridcolor\": \"white\", \"linecolor\": \"white\", \"minorgridcolor\": \"white\", \"startlinecolor\": \"#2a3f5f\"}, \"baxis\": {\"endlinecolor\": \"#2a3f5f\", \"gridcolor\": \"white\", \"linecolor\": \"white\", \"minorgridcolor\": \"white\", \"startlinecolor\": \"#2a3f5f\"}, \"type\": \"carpet\"}], \"choropleth\": [{\"colorbar\": {\"outlinewidth\": 0, \"ticks\": \"\"}, \"type\": \"choropleth\"}], \"contour\": [{\"colorbar\": {\"outlinewidth\": 0, \"ticks\": \"\"}, \"colorscale\": [[0.0, \"#0d0887\"], [0.1111111111111111, \"#46039f\"], [0.2222222222222222, \"#7201a8\"], [0.3333333333333333, \"#9c179e\"], [0.4444444444444444, \"#bd3786\"], [0.5555555555555556, \"#d8576b\"], [0.6666666666666666, \"#ed7953\"], [0.7777777777777778, \"#fb9f3a\"], [0.8888888888888888, \"#fdca26\"], [1.0, \"#f0f921\"]], \"type\": \"contour\"}], \"contourcarpet\": [{\"colorbar\": {\"outlinewidth\": 0, \"ticks\": \"\"}, \"type\": \"contourcarpet\"}], \"heatmap\": [{\"colorbar\": {\"outlinewidth\": 0, \"ticks\": \"\"}, \"colorscale\": [[0.0, \"#0d0887\"], [0.1111111111111111, \"#46039f\"], [0.2222222222222222, \"#7201a8\"], [0.3333333333333333, \"#9c179e\"], [0.4444444444444444, \"#bd3786\"], [0.5555555555555556, \"#d8576b\"], [0.6666666666666666, \"#ed7953\"], [0.7777777777777778, \"#fb9f3a\"], [0.8888888888888888, \"#fdca26\"], [1.0, \"#f0f921\"]], \"type\": \"heatmap\"}], \"heatmapgl\": [{\"colorbar\": {\"outlinewidth\": 0, \"ticks\": \"\"}, \"colorscale\": [[0.0, \"#0d0887\"], [0.1111111111111111, \"#46039f\"], [0.2222222222222222, \"#7201a8\"], [0.3333333333333333, \"#9c179e\"], [0.4444444444444444, \"#bd3786\"], [0.5555555555555556, \"#d8576b\"], [0.6666666666666666, \"#ed7953\"], [0.7777777777777778, \"#fb9f3a\"], [0.8888888888888888, \"#fdca26\"], [1.0, \"#f0f921\"]], \"type\": \"heatmapgl\"}], \"histogram\": [{\"marker\": {\"colorbar\": {\"outlinewidth\": 0, \"ticks\": \"\"}}, \"type\": \"histogram\"}], \"histogram2d\": [{\"colorbar\": {\"outlinewidth\": 0, \"ticks\": \"\"}, \"colorscale\": [[0.0, \"#0d0887\"], [0.1111111111111111, \"#46039f\"], [0.2222222222222222, \"#7201a8\"], [0.3333333333333333, \"#9c179e\"], [0.4444444444444444, \"#bd3786\"], [0.5555555555555556, \"#d8576b\"], [0.6666666666666666, \"#ed7953\"], [0.7777777777777778, \"#fb9f3a\"], [0.8888888888888888, \"#fdca26\"], [1.0, \"#f0f921\"]], \"type\": \"histogram2d\"}], \"histogram2dcontour\": [{\"colorbar\": {\"outlinewidth\": 0, \"ticks\": \"\"}, \"colorscale\": [[0.0, \"#0d0887\"], [0.1111111111111111, \"#46039f\"], [0.2222222222222222, \"#7201a8\"], [0.3333333333333333, \"#9c179e\"], [0.4444444444444444, \"#bd3786\"], [0.5555555555555556, \"#d8576b\"], [0.6666666666666666, \"#ed7953\"], [0.7777777777777778, \"#fb9f3a\"], [0.8888888888888888, \"#fdca26\"], [1.0, \"#f0f921\"]], \"type\": \"histogram2dcontour\"}], \"mesh3d\": [{\"colorbar\": {\"outlinewidth\": 0, \"ticks\": \"\"}, \"type\": \"mesh3d\"}], \"parcoords\": [{\"line\": {\"colorbar\": {\"outlinewidth\": 0, \"ticks\": \"\"}}, \"type\": \"parcoords\"}], \"pie\": [{\"automargin\": true, \"type\": \"pie\"}], \"scatter\": [{\"marker\": {\"colorbar\": {\"outlinewidth\": 0, \"ticks\": \"\"}}, \"type\": \"scatter\"}], \"scatter3d\": [{\"line\": {\"colorbar\": {\"outlinewidth\": 0, \"ticks\": \"\"}}, \"marker\": {\"colorbar\": {\"outlinewidth\": 0, \"ticks\": \"\"}}, \"type\": \"scatter3d\"}], \"scattercarpet\": [{\"marker\": {\"colorbar\": {\"outlinewidth\": 0, \"ticks\": \"\"}}, \"type\": \"scattercarpet\"}], \"scattergeo\": [{\"marker\": {\"colorbar\": {\"outlinewidth\": 0, \"ticks\": \"\"}}, \"type\": \"scattergeo\"}], \"scattergl\": [{\"marker\": {\"colorbar\": {\"outlinewidth\": 0, \"ticks\": \"\"}}, \"type\": \"scattergl\"}], \"scattermapbox\": [{\"marker\": {\"colorbar\": {\"outlinewidth\": 0, \"ticks\": \"\"}}, \"type\": \"scattermapbox\"}], \"scatterpolar\": [{\"marker\": {\"colorbar\": {\"outlinewidth\": 0, \"ticks\": \"\"}}, \"type\": \"scatterpolar\"}], \"scatterpolargl\": [{\"marker\": {\"colorbar\": {\"outlinewidth\": 0, \"ticks\": \"\"}}, \"type\": \"scatterpolargl\"}], \"scatterternary\": [{\"marker\": {\"colorbar\": {\"outlinewidth\": 0, \"ticks\": \"\"}}, \"type\": \"scatterternary\"}], \"surface\": [{\"colorbar\": {\"outlinewidth\": 0, \"ticks\": \"\"}, \"colorscale\": [[0.0, \"#0d0887\"], [0.1111111111111111, \"#46039f\"], [0.2222222222222222, \"#7201a8\"], [0.3333333333333333, \"#9c179e\"], [0.4444444444444444, \"#bd3786\"], [0.5555555555555556, \"#d8576b\"], [0.6666666666666666, \"#ed7953\"], [0.7777777777777778, \"#fb9f3a\"], [0.8888888888888888, \"#fdca26\"], [1.0, \"#f0f921\"]], \"type\": \"surface\"}], \"table\": [{\"cells\": {\"fill\": {\"color\": \"#EBF0F8\"}, \"line\": {\"color\": \"white\"}}, \"header\": {\"fill\": {\"color\": \"#C8D4E3\"}, \"line\": {\"color\": \"white\"}}, \"type\": \"table\"}]}, \"layout\": {\"annotationdefaults\": {\"arrowcolor\": \"#2a3f5f\", \"arrowhead\": 0, \"arrowwidth\": 1}, \"autotypenumbers\": \"strict\", \"coloraxis\": {\"colorbar\": {\"outlinewidth\": 0, \"ticks\": \"\"}}, \"colorscale\": {\"diverging\": [[0, \"#8e0152\"], [0.1, \"#c51b7d\"], [0.2, \"#de77ae\"], [0.3, \"#f1b6da\"], [0.4, \"#fde0ef\"], [0.5, \"#f7f7f7\"], [0.6, \"#e6f5d0\"], [0.7, \"#b8e186\"], [0.8, \"#7fbc41\"], [0.9, \"#4d9221\"], [1, \"#276419\"]], \"sequential\": [[0.0, \"#0d0887\"], [0.1111111111111111, \"#46039f\"], [0.2222222222222222, \"#7201a8\"], [0.3333333333333333, \"#9c179e\"], [0.4444444444444444, \"#bd3786\"], [0.5555555555555556, \"#d8576b\"], [0.6666666666666666, \"#ed7953\"], [0.7777777777777778, \"#fb9f3a\"], [0.8888888888888888, \"#fdca26\"], [1.0, \"#f0f921\"]], \"sequentialminus\": [[0.0, \"#0d0887\"], [0.1111111111111111, \"#46039f\"], [0.2222222222222222, \"#7201a8\"], [0.3333333333333333, \"#9c179e\"], [0.4444444444444444, \"#bd3786\"], [0.5555555555555556, \"#d8576b\"], [0.6666666666666666, \"#ed7953\"], [0.7777777777777778, \"#fb9f3a\"], [0.8888888888888888, \"#fdca26\"], [1.0, \"#f0f921\"]]}, \"colorway\": [\"#636efa\", \"#EF553B\", \"#00cc96\", \"#ab63fa\", \"#FFA15A\", \"#19d3f3\", \"#FF6692\", \"#B6E880\", \"#FF97FF\", \"#FECB52\"], \"font\": {\"color\": \"#2a3f5f\"}, \"geo\": {\"bgcolor\": \"white\", \"lakecolor\": \"white\", \"landcolor\": \"#E5ECF6\", \"showlakes\": true, \"showland\": true, \"subunitcolor\": \"white\"}, \"hoverlabel\": {\"align\": \"left\"}, \"hovermode\": \"closest\", \"mapbox\": {\"style\": \"light\"}, \"paper_bgcolor\": \"white\", \"plot_bgcolor\": \"#E5ECF6\", \"polar\": {\"angularaxis\": {\"gridcolor\": \"white\", \"linecolor\": \"white\", \"ticks\": \"\"}, \"bgcolor\": \"#E5ECF6\", \"radialaxis\": {\"gridcolor\": \"white\", \"linecolor\": \"white\", \"ticks\": \"\"}}, \"scene\": {\"xaxis\": {\"backgroundcolor\": \"#E5ECF6\", \"gridcolor\": \"white\", \"gridwidth\": 2, \"linecolor\": \"white\", \"showbackground\": true, \"ticks\": \"\", \"zerolinecolor\": \"white\"}, \"yaxis\": {\"backgroundcolor\": \"#E5ECF6\", \"gridcolor\": \"white\", \"gridwidth\": 2, \"linecolor\": \"white\", \"showbackground\": true, \"ticks\": \"\", \"zerolinecolor\": \"white\"}, \"zaxis\": {\"backgroundcolor\": \"#E5ECF6\", \"gridcolor\": \"white\", \"gridwidth\": 2, \"linecolor\": \"white\", \"showbackground\": true, \"ticks\": \"\", \"zerolinecolor\": \"white\"}}, \"shapedefaults\": {\"line\": {\"color\": \"#2a3f5f\"}}, \"ternary\": {\"aaxis\": {\"gridcolor\": \"white\", \"linecolor\": \"white\", \"ticks\": \"\"}, \"baxis\": {\"gridcolor\": \"white\", \"linecolor\": \"white\", \"ticks\": \"\"}, \"bgcolor\": \"#E5ECF6\", \"caxis\": {\"gridcolor\": \"white\", \"linecolor\": \"white\", \"ticks\": \"\"}}, \"title\": {\"x\": 0.05}, \"xaxis\": {\"automargin\": true, \"gridcolor\": \"white\", \"linecolor\": \"white\", \"ticks\": \"\", \"title\": {\"standoff\": 15}, \"zerolinecolor\": \"white\", \"zerolinewidth\": 2}, \"yaxis\": {\"automargin\": true, \"gridcolor\": \"white\", \"linecolor\": \"white\", \"ticks\": \"\", \"title\": {\"standoff\": 15}, \"zerolinecolor\": \"white\", \"zerolinewidth\": 2}}}, \"xaxis\": {\"anchor\": \"y\", \"domain\": [0.0, 1.0], \"title\": {\"text\": \"Group\"}}, \"yaxis\": {\"anchor\": \"x\", \"domain\": [0.0, 1.0], \"title\": {\"text\": \"Age\"}}},                        {\"responsive\": true}                    ).then(function(){\n",
       "                            \n",
       "var gd = document.getElementById('1f2f4bdc-9db8-43b3-ad33-8e84fb3ece3a');\n",
       "var x = new MutationObserver(function (mutations, observer) {{\n",
       "        var display = window.getComputedStyle(gd).display;\n",
       "        if (!display || display === 'none') {{\n",
       "            console.log([gd, 'removed!']);\n",
       "            Plotly.purge(gd);\n",
       "            observer.disconnect();\n",
       "        }}\n",
       "}});\n",
       "\n",
       "// Listen for the removal of the full notebook cells\n",
       "var notebookContainer = gd.closest('#notebook-container');\n",
       "if (notebookContainer) {{\n",
       "    x.observe(notebookContainer, {childList: true});\n",
       "}}\n",
       "\n",
       "// Listen for the clearing of the current output cell\n",
       "var outputEl = gd.closest('.output');\n",
       "if (outputEl) {{\n",
       "    x.observe(outputEl, {childList: true});\n",
       "}}\n",
       "\n",
       "                        })                };                });            </script>        </div>"
      ]
     },
     "metadata": {},
     "output_type": "display_data"
    }
   ],
   "source": [
    "import plotly.express as px\n",
    "\n",
    "fig = px.scatter(data, x='Group', y='Age', color='Group')\n",
    "fig.show()"
   ]
  },
  {
   "cell_type": "code",
   "execution_count": 12,
   "metadata": {
    "execution": {
     "iopub.execute_input": "2021-02-21T05:24:47.832887Z",
     "iopub.status.busy": "2021-02-21T05:24:47.831861Z",
     "iopub.status.idle": "2021-02-21T05:24:47.904040Z",
     "shell.execute_reply": "2021-02-21T05:24:47.904522Z"
    },
    "papermill": {
     "duration": 0.130189,
     "end_time": "2021-02-21T05:24:47.904674",
     "exception": false,
     "start_time": "2021-02-21T05:24:47.774485",
     "status": "completed"
    },
    "tags": []
   },
   "outputs": [
    {
     "data": {
      "text/html": [
       "<div>                            <div id=\"779c247c-b700-4048-987d-89de500d34b5\" class=\"plotly-graph-div\" style=\"height:525px; width:100%;\"></div>            <script type=\"text/javascript\">                require([\"plotly\"], function(Plotly) {                    window.PLOTLYENV=window.PLOTLYENV || {};                                    if (document.getElementById(\"779c247c-b700-4048-987d-89de500d34b5\")) {                    Plotly.newPlot(                        \"779c247c-b700-4048-987d-89de500d34b5\",                        [{\"hovertemplate\": \"Group=%{marker.color}<br>ASF=%{y}<extra></extra>\", \"legendgroup\": \"\", \"marker\": {\"color\": [0, 0, 1, 1, 1, 0, 0, 0, 0, 0, 1, 1, 1, 0, 0, 1, 1, 1, 1, 0, 0, 0, 0, 0, 0, 1, 1, 1, 1, 0, 0, 0, 0, 1, 1, 1, 1, 1, 1, 1, 1, 0, 0, 1, 1, 1, 1, 0, 0, 0, 0, 1, 1, 0, 0, 0, 0, 1, 1, 1, 1, 1, 0, 0, 0, 0, 0, 0, 0, 0, 0, 0, 1, 1, 1, 1, 1, 1, 1, 1, 1, 1, 1, 1, 0, 0, 1, 1, 1, 1, 1, 0, 0, 1, 1, 0, 0, 1, 1, 1, 1, 1, 0, 0, 0, 1, 1, 0, 0, 0, 0, 0, 0, 0, 1, 1, 0, 0, 0, 0, 0, 0, 0, 1, 1, 1, 1, 1, 0, 0, 0, 0, 0, 0, 1, 1, 1, 1, 1, 1, 1, 0, 0, 0, 0, 0, 0, 0, 0, 0, 0, 0, 0, 0, 1, 1, 0, 0, 0, 0, 0, 1, 1, 0, 0, 0, 0, 0, 0, 0, 0, 1, 1, 1, 1, 1, 1, 1, 1, 0, 0, 0, 0, 1, 1, 1, 1, 1, 1, 0, 0, 0, 0, 0, 1, 1, 0, 0, 0, 0, 0, 0, 0, 0, 0, 1, 1, 1, 1, 0, 0, 0, 0, 0, 0, 1, 1, 1, 1, 1, 1, 1, 1, 0, 0, 1, 1, 1, 1, 0, 0, 1, 1, 1, 1, 1, 1, 1, 1, 1, 1, 0, 0, 0, 0, 1, 1, 0, 0, 0, 1, 1, 0, 0, 0, 0, 1, 1, 0, 0, 0, 1, 1, 1, 1, 1, 0, 0, 0, 0, 0, 1, 1, 1, 1, 1, 1, 0, 0, 1, 1, 0, 0, 1, 1, 1, 1, 1, 0, 0, 0, 0, 0, 0, 0, 1, 1, 1, 1, 1, 1, 0, 0, 0, 0, 0, 0, 1, 1, 0, 0, 0, 0, 0, 0, 0, 1, 1, 0, 0, 1, 1, 1, 1, 0, 0, 0, 1, 1, 1, 1, 1, 1, 0, 0, 0, 0, 0, 1, 1, 0, 0, 0, 1, 1, 1, 1, 1, 1, 0, 0, 0, 0, 0, 1, 1, 1, 1, 1, 1, 1, 0, 0, 0, 0, 1, 1, 1, 1, 1, 0, 0, 0], \"coloraxis\": \"coloraxis\", \"symbol\": \"circle\"}, \"mode\": \"markers\", \"name\": \"\", \"orientation\": \"v\", \"showlegend\": false, \"type\": \"scatter\", \"x\": [0, 0, 1, 1, 1, 0, 0, 0, 0, 0, 1, 1, 1, 0, 0, 1, 1, 1, 1, 0, 0, 0, 0, 0, 0, 1, 1, 1, 1, 0, 0, 0, 0, 1, 1, 1, 1, 1, 1, 1, 1, 0, 0, 1, 1, 1, 1, 0, 0, 0, 0, 1, 1, 0, 0, 0, 0, 1, 1, 1, 1, 1, 0, 0, 0, 0, 0, 0, 0, 0, 0, 0, 1, 1, 1, 1, 1, 1, 1, 1, 1, 1, 1, 1, 0, 0, 1, 1, 1, 1, 1, 0, 0, 1, 1, 0, 0, 1, 1, 1, 1, 1, 0, 0, 0, 1, 1, 0, 0, 0, 0, 0, 0, 0, 1, 1, 0, 0, 0, 0, 0, 0, 0, 1, 1, 1, 1, 1, 0, 0, 0, 0, 0, 0, 1, 1, 1, 1, 1, 1, 1, 0, 0, 0, 0, 0, 0, 0, 0, 0, 0, 0, 0, 0, 1, 1, 0, 0, 0, 0, 0, 1, 1, 0, 0, 0, 0, 0, 0, 0, 0, 1, 1, 1, 1, 1, 1, 1, 1, 0, 0, 0, 0, 1, 1, 1, 1, 1, 1, 0, 0, 0, 0, 0, 1, 1, 0, 0, 0, 0, 0, 0, 0, 0, 0, 1, 1, 1, 1, 0, 0, 0, 0, 0, 0, 1, 1, 1, 1, 1, 1, 1, 1, 0, 0, 1, 1, 1, 1, 0, 0, 1, 1, 1, 1, 1, 1, 1, 1, 1, 1, 0, 0, 0, 0, 1, 1, 0, 0, 0, 1, 1, 0, 0, 0, 0, 1, 1, 0, 0, 0, 1, 1, 1, 1, 1, 0, 0, 0, 0, 0, 1, 1, 1, 1, 1, 1, 0, 0, 1, 1, 0, 0, 1, 1, 1, 1, 1, 0, 0, 0, 0, 0, 0, 0, 1, 1, 1, 1, 1, 1, 0, 0, 0, 0, 0, 0, 1, 1, 0, 0, 0, 0, 0, 0, 0, 1, 1, 0, 0, 1, 1, 1, 1, 0, 0, 0, 1, 1, 1, 1, 1, 1, 0, 0, 0, 0, 0, 1, 1, 0, 0, 0, 1, 1, 1, 1, 1, 1, 0, 0, 0, 0, 0, 1, 1, 1, 1, 1, 1, 1, 0, 0, 0, 0, 1, 1, 1, 1, 1, 0, 0, 0], \"xaxis\": \"x\", \"y\": [0.883, 0.8759999999999999, 1.046, 1.01, 1.034, 1.444, 1.462, 1.0390000000000001, 1.032, 1.033, 1.2930000000000001, 1.286, 1.2790000000000001, 1.38, 1.396, 1.205, 1.186, 1.213, 1.1840000000000002, 1.3159999999999998, 1.3259999999999998, 1.327, 1.4269999999999998, 1.4480000000000002, 1.433, 1.0959999999999999, 1.104, 1.063, 1.052, 0.985, 0.968, 0.9640000000000001, 0.968, 1.248, 1.255, 1.234, 1.1059999999999999, 1.093, 1.099, 0.919, 0.9109999999999999, 1.337, 1.3330000000000002, 1.4069999999999998, 1.405, 1.236, 1.214, 1.286, 1.291, 1.2930000000000001, 1.297, 1.1340000000000001, 1.124, 1.275, 1.263, 1.252, 1.261, 1.227, 1.215, 1.199, 1.3419999999999999, 1.339, 1.197, 1.21, 1.202, 1.208, 1.3130000000000002, 1.32, 1.291, 1.29, 1.291, 1.301, 1.188, 1.18, 1.1840000000000002, 1.181, 1.495, 1.4880000000000002, 1.339, 1.329, 1.3019999999999998, 1.3619999999999999, 1.3559999999999999, 1.335, 1.07, 1.054, 1.208, 1.21, 1.317, 1.318, 1.317, 1.3319999999999999, 1.327, 1.189, 1.183, 1.225, 1.242, 1.036, 1.028, 1.025, 1.024, 1.032, 1.177, 1.166, 1.168, 1.202, 1.1840000000000002, 1.207, 1.19, 1.1840000000000002, 1.199, 1.183, 1.183, 1.17, 1.3880000000000001, 1.376, 1.2890000000000001, 1.285, 1.202, 1.205, 1.0979999999999999, 1.1179999999999999, 1.111, 1.335, 1.341, 1.3259999999999998, 1.239, 1.247, 1.061, 1.057, 1.044, 1.069, 1.055, 1.053, 1.228, 1.208, 1.2, 1.203, 1.199, 0.897, 0.91, 1.219, 1.22, 1.206, 1.215, 1.229, 1.19, 1.194, 1.193, 1.057, 1.037, 1.028, 1.018, 1.02, 1.262, 1.252, 1.151, 1.161, 1.1640000000000001, 1.178, 1.167, 1.525, 1.535, 1.167, 1.143, 1.155, 0.95, 0.909, 1.0759999999999998, 1.07, 1.056, 1.213, 1.176, 1.188, 1.1340000000000001, 1.128, 1.135, 1.381, 1.3780000000000001, 1.2690000000000001, 1.27, 1.136, 1.138, 1.198, 1.168, 1.188, 1.175, 1.225, 1.226, 1.1340000000000001, 1.1440000000000001, 1.133, 1.162, 1.166, 1.2690000000000001, 1.263, 1.16, 1.212, 0.992, 0.983, 0.9670000000000001, 1.521, 1.506, 1.089, 1.078, 1.214, 1.2429999999999999, 1.19, 1.183, 1.1079999999999999, 1.107, 1.104, 1.28, 1.254, 1.273, 1.171, 1.172, 1.171, 1.25, 1.2329999999999999, 1.236, 1.119, 1.123, 0.9840000000000001, 0.996, 1.214, 1.179, 1.094, 1.1179999999999999, 1.003, 1.006, 1.151, 1.155, 1.335, 1.311, 1.1420000000000001, 1.155, 1.3330000000000002, 1.341, 1.232, 1.247, 0.953, 0.972, 0.963, 0.961, 1.1640000000000001, 1.147, 1.181, 1.1840000000000002, 1.18, 1.246, 1.253, 1.19, 1.157, 1.357, 1.355, 1.2, 1.187, 1.306, 1.3119999999999998, 1.306, 1.067, 1.061, 1.0659999999999998, 1.052, 1.051, 1.304, 1.297, 1.219, 1.222, 1.217, 1.3090000000000002, 1.318, 1.19, 1.1740000000000002, 1.355, 1.367, 1.073, 1.067, 1.058, 1.063, 1.5630000000000002, 1.587, 1.3119999999999998, 1.305, 1.262, 1.26, 1.2570000000000001, 1.374, 1.361, 1.272, 1.262, 1.023, 1.024, 1.006, 1.03, 1.0190000000000001, 1.3519999999999999, 1.364, 1.013, 1.015, 1.2990000000000002, 1.3159999999999998, 1.3130000000000002, 1.307, 1.305, 1.314, 1.306, 1.2930000000000001, 1.474, 1.469, 1.4609999999999999, 1.222, 1.125, 1.412, 1.3980000000000001, 1.3769999999999998, 1.187, 1.38, 1.37, 1.4180000000000001, 1.419, 1.127, 1.119, 0.965, 0.966, 0.9590000000000001, 1.159, 1.1320000000000001, 1.024, 1.026, 1.177, 1.0, 1.2309999999999999, 1.2409999999999999, 0.958, 0.9640000000000001, 0.956, 0.9279999999999999, 0.924, 1.273, 1.274, 1.281, 0.977, 0.977, 0.973, 1.25, 1.255, 1.246, 1.216, 1.162, 1.163, 1.1740000000000002, 1.179, 1.1340000000000001, 1.128, 1.499, 1.501, 1.515, 1.056, 1.061, 1.1740000000000002, 1.165, 1.165, 1.162, 1.296, 1.2990000000000002, 1.03, 1.037, 1.04, 1.331, 1.3230000000000002, 1.317], \"yaxis\": \"y\"}],                        {\"coloraxis\": {\"colorbar\": {\"title\": {\"text\": \"Group\"}}, \"colorscale\": [[0.0, \"#0d0887\"], [0.1111111111111111, \"#46039f\"], [0.2222222222222222, \"#7201a8\"], [0.3333333333333333, \"#9c179e\"], [0.4444444444444444, \"#bd3786\"], [0.5555555555555556, \"#d8576b\"], [0.6666666666666666, \"#ed7953\"], [0.7777777777777778, \"#fb9f3a\"], [0.8888888888888888, \"#fdca26\"], [1.0, \"#f0f921\"]]}, \"legend\": {\"tracegroupgap\": 0}, \"margin\": {\"t\": 60}, \"template\": {\"data\": {\"bar\": [{\"error_x\": {\"color\": \"#2a3f5f\"}, \"error_y\": {\"color\": \"#2a3f5f\"}, \"marker\": {\"line\": {\"color\": \"#E5ECF6\", \"width\": 0.5}}, \"type\": \"bar\"}], \"barpolar\": [{\"marker\": {\"line\": {\"color\": \"#E5ECF6\", \"width\": 0.5}}, \"type\": \"barpolar\"}], \"carpet\": [{\"aaxis\": {\"endlinecolor\": \"#2a3f5f\", \"gridcolor\": \"white\", \"linecolor\": \"white\", \"minorgridcolor\": \"white\", \"startlinecolor\": \"#2a3f5f\"}, \"baxis\": {\"endlinecolor\": \"#2a3f5f\", \"gridcolor\": \"white\", \"linecolor\": \"white\", \"minorgridcolor\": \"white\", \"startlinecolor\": \"#2a3f5f\"}, \"type\": \"carpet\"}], \"choropleth\": [{\"colorbar\": {\"outlinewidth\": 0, \"ticks\": \"\"}, \"type\": \"choropleth\"}], \"contour\": [{\"colorbar\": {\"outlinewidth\": 0, \"ticks\": \"\"}, \"colorscale\": [[0.0, \"#0d0887\"], [0.1111111111111111, \"#46039f\"], [0.2222222222222222, \"#7201a8\"], [0.3333333333333333, \"#9c179e\"], [0.4444444444444444, \"#bd3786\"], [0.5555555555555556, \"#d8576b\"], [0.6666666666666666, \"#ed7953\"], [0.7777777777777778, \"#fb9f3a\"], [0.8888888888888888, \"#fdca26\"], [1.0, \"#f0f921\"]], \"type\": \"contour\"}], \"contourcarpet\": [{\"colorbar\": {\"outlinewidth\": 0, \"ticks\": \"\"}, \"type\": \"contourcarpet\"}], \"heatmap\": [{\"colorbar\": {\"outlinewidth\": 0, \"ticks\": \"\"}, \"colorscale\": [[0.0, \"#0d0887\"], [0.1111111111111111, \"#46039f\"], [0.2222222222222222, \"#7201a8\"], [0.3333333333333333, \"#9c179e\"], [0.4444444444444444, \"#bd3786\"], [0.5555555555555556, \"#d8576b\"], [0.6666666666666666, \"#ed7953\"], [0.7777777777777778, \"#fb9f3a\"], [0.8888888888888888, \"#fdca26\"], [1.0, \"#f0f921\"]], \"type\": \"heatmap\"}], \"heatmapgl\": [{\"colorbar\": {\"outlinewidth\": 0, \"ticks\": \"\"}, \"colorscale\": [[0.0, \"#0d0887\"], [0.1111111111111111, \"#46039f\"], [0.2222222222222222, \"#7201a8\"], [0.3333333333333333, \"#9c179e\"], [0.4444444444444444, \"#bd3786\"], [0.5555555555555556, \"#d8576b\"], [0.6666666666666666, \"#ed7953\"], [0.7777777777777778, \"#fb9f3a\"], [0.8888888888888888, \"#fdca26\"], [1.0, \"#f0f921\"]], \"type\": \"heatmapgl\"}], \"histogram\": [{\"marker\": {\"colorbar\": {\"outlinewidth\": 0, \"ticks\": \"\"}}, \"type\": \"histogram\"}], \"histogram2d\": [{\"colorbar\": {\"outlinewidth\": 0, \"ticks\": \"\"}, \"colorscale\": [[0.0, \"#0d0887\"], [0.1111111111111111, \"#46039f\"], [0.2222222222222222, \"#7201a8\"], [0.3333333333333333, \"#9c179e\"], [0.4444444444444444, \"#bd3786\"], [0.5555555555555556, \"#d8576b\"], [0.6666666666666666, \"#ed7953\"], [0.7777777777777778, \"#fb9f3a\"], [0.8888888888888888, \"#fdca26\"], [1.0, \"#f0f921\"]], \"type\": \"histogram2d\"}], \"histogram2dcontour\": [{\"colorbar\": {\"outlinewidth\": 0, \"ticks\": \"\"}, \"colorscale\": [[0.0, \"#0d0887\"], [0.1111111111111111, \"#46039f\"], [0.2222222222222222, \"#7201a8\"], [0.3333333333333333, \"#9c179e\"], [0.4444444444444444, \"#bd3786\"], [0.5555555555555556, \"#d8576b\"], [0.6666666666666666, \"#ed7953\"], [0.7777777777777778, \"#fb9f3a\"], [0.8888888888888888, \"#fdca26\"], [1.0, \"#f0f921\"]], \"type\": \"histogram2dcontour\"}], \"mesh3d\": [{\"colorbar\": {\"outlinewidth\": 0, \"ticks\": \"\"}, \"type\": \"mesh3d\"}], \"parcoords\": [{\"line\": {\"colorbar\": {\"outlinewidth\": 0, \"ticks\": \"\"}}, \"type\": \"parcoords\"}], \"pie\": [{\"automargin\": true, \"type\": \"pie\"}], \"scatter\": [{\"marker\": {\"colorbar\": {\"outlinewidth\": 0, \"ticks\": \"\"}}, \"type\": \"scatter\"}], \"scatter3d\": [{\"line\": {\"colorbar\": {\"outlinewidth\": 0, \"ticks\": \"\"}}, \"marker\": {\"colorbar\": {\"outlinewidth\": 0, \"ticks\": \"\"}}, \"type\": \"scatter3d\"}], \"scattercarpet\": [{\"marker\": {\"colorbar\": {\"outlinewidth\": 0, \"ticks\": \"\"}}, \"type\": \"scattercarpet\"}], \"scattergeo\": [{\"marker\": {\"colorbar\": {\"outlinewidth\": 0, \"ticks\": \"\"}}, \"type\": \"scattergeo\"}], \"scattergl\": [{\"marker\": {\"colorbar\": {\"outlinewidth\": 0, \"ticks\": \"\"}}, \"type\": \"scattergl\"}], \"scattermapbox\": [{\"marker\": {\"colorbar\": {\"outlinewidth\": 0, \"ticks\": \"\"}}, \"type\": \"scattermapbox\"}], \"scatterpolar\": [{\"marker\": {\"colorbar\": {\"outlinewidth\": 0, \"ticks\": \"\"}}, \"type\": \"scatterpolar\"}], \"scatterpolargl\": [{\"marker\": {\"colorbar\": {\"outlinewidth\": 0, \"ticks\": \"\"}}, \"type\": \"scatterpolargl\"}], \"scatterternary\": [{\"marker\": {\"colorbar\": {\"outlinewidth\": 0, \"ticks\": \"\"}}, \"type\": \"scatterternary\"}], \"surface\": [{\"colorbar\": {\"outlinewidth\": 0, \"ticks\": \"\"}, \"colorscale\": [[0.0, \"#0d0887\"], [0.1111111111111111, \"#46039f\"], [0.2222222222222222, \"#7201a8\"], [0.3333333333333333, \"#9c179e\"], [0.4444444444444444, \"#bd3786\"], [0.5555555555555556, \"#d8576b\"], [0.6666666666666666, \"#ed7953\"], [0.7777777777777778, \"#fb9f3a\"], [0.8888888888888888, \"#fdca26\"], [1.0, \"#f0f921\"]], \"type\": \"surface\"}], \"table\": [{\"cells\": {\"fill\": {\"color\": \"#EBF0F8\"}, \"line\": {\"color\": \"white\"}}, \"header\": {\"fill\": {\"color\": \"#C8D4E3\"}, \"line\": {\"color\": \"white\"}}, \"type\": \"table\"}]}, \"layout\": {\"annotationdefaults\": {\"arrowcolor\": \"#2a3f5f\", \"arrowhead\": 0, \"arrowwidth\": 1}, \"autotypenumbers\": \"strict\", \"coloraxis\": {\"colorbar\": {\"outlinewidth\": 0, \"ticks\": \"\"}}, \"colorscale\": {\"diverging\": [[0, \"#8e0152\"], [0.1, \"#c51b7d\"], [0.2, \"#de77ae\"], [0.3, \"#f1b6da\"], [0.4, \"#fde0ef\"], [0.5, \"#f7f7f7\"], [0.6, \"#e6f5d0\"], [0.7, \"#b8e186\"], [0.8, \"#7fbc41\"], [0.9, \"#4d9221\"], [1, \"#276419\"]], \"sequential\": [[0.0, \"#0d0887\"], [0.1111111111111111, \"#46039f\"], [0.2222222222222222, \"#7201a8\"], [0.3333333333333333, \"#9c179e\"], [0.4444444444444444, \"#bd3786\"], [0.5555555555555556, \"#d8576b\"], [0.6666666666666666, \"#ed7953\"], [0.7777777777777778, \"#fb9f3a\"], [0.8888888888888888, \"#fdca26\"], [1.0, \"#f0f921\"]], \"sequentialminus\": [[0.0, \"#0d0887\"], [0.1111111111111111, \"#46039f\"], [0.2222222222222222, \"#7201a8\"], [0.3333333333333333, \"#9c179e\"], [0.4444444444444444, \"#bd3786\"], [0.5555555555555556, \"#d8576b\"], [0.6666666666666666, \"#ed7953\"], [0.7777777777777778, \"#fb9f3a\"], [0.8888888888888888, \"#fdca26\"], [1.0, \"#f0f921\"]]}, \"colorway\": [\"#636efa\", \"#EF553B\", \"#00cc96\", \"#ab63fa\", \"#FFA15A\", \"#19d3f3\", \"#FF6692\", \"#B6E880\", \"#FF97FF\", \"#FECB52\"], \"font\": {\"color\": \"#2a3f5f\"}, \"geo\": {\"bgcolor\": \"white\", \"lakecolor\": \"white\", \"landcolor\": \"#E5ECF6\", \"showlakes\": true, \"showland\": true, \"subunitcolor\": \"white\"}, \"hoverlabel\": {\"align\": \"left\"}, \"hovermode\": \"closest\", \"mapbox\": {\"style\": \"light\"}, \"paper_bgcolor\": \"white\", \"plot_bgcolor\": \"#E5ECF6\", \"polar\": {\"angularaxis\": {\"gridcolor\": \"white\", \"linecolor\": \"white\", \"ticks\": \"\"}, \"bgcolor\": \"#E5ECF6\", \"radialaxis\": {\"gridcolor\": \"white\", \"linecolor\": \"white\", \"ticks\": \"\"}}, \"scene\": {\"xaxis\": {\"backgroundcolor\": \"#E5ECF6\", \"gridcolor\": \"white\", \"gridwidth\": 2, \"linecolor\": \"white\", \"showbackground\": true, \"ticks\": \"\", \"zerolinecolor\": \"white\"}, \"yaxis\": {\"backgroundcolor\": \"#E5ECF6\", \"gridcolor\": \"white\", \"gridwidth\": 2, \"linecolor\": \"white\", \"showbackground\": true, \"ticks\": \"\", \"zerolinecolor\": \"white\"}, \"zaxis\": {\"backgroundcolor\": \"#E5ECF6\", \"gridcolor\": \"white\", \"gridwidth\": 2, \"linecolor\": \"white\", \"showbackground\": true, \"ticks\": \"\", \"zerolinecolor\": \"white\"}}, \"shapedefaults\": {\"line\": {\"color\": \"#2a3f5f\"}}, \"ternary\": {\"aaxis\": {\"gridcolor\": \"white\", \"linecolor\": \"white\", \"ticks\": \"\"}, \"baxis\": {\"gridcolor\": \"white\", \"linecolor\": \"white\", \"ticks\": \"\"}, \"bgcolor\": \"#E5ECF6\", \"caxis\": {\"gridcolor\": \"white\", \"linecolor\": \"white\", \"ticks\": \"\"}}, \"title\": {\"x\": 0.05}, \"xaxis\": {\"automargin\": true, \"gridcolor\": \"white\", \"linecolor\": \"white\", \"ticks\": \"\", \"title\": {\"standoff\": 15}, \"zerolinecolor\": \"white\", \"zerolinewidth\": 2}, \"yaxis\": {\"automargin\": true, \"gridcolor\": \"white\", \"linecolor\": \"white\", \"ticks\": \"\", \"title\": {\"standoff\": 15}, \"zerolinecolor\": \"white\", \"zerolinewidth\": 2}}}, \"xaxis\": {\"anchor\": \"y\", \"domain\": [0.0, 1.0], \"title\": {\"text\": \"Group\"}}, \"yaxis\": {\"anchor\": \"x\", \"domain\": [0.0, 1.0], \"title\": {\"text\": \"ASF\"}}},                        {\"responsive\": true}                    ).then(function(){\n",
       "                            \n",
       "var gd = document.getElementById('779c247c-b700-4048-987d-89de500d34b5');\n",
       "var x = new MutationObserver(function (mutations, observer) {{\n",
       "        var display = window.getComputedStyle(gd).display;\n",
       "        if (!display || display === 'none') {{\n",
       "            console.log([gd, 'removed!']);\n",
       "            Plotly.purge(gd);\n",
       "            observer.disconnect();\n",
       "        }}\n",
       "}});\n",
       "\n",
       "// Listen for the removal of the full notebook cells\n",
       "var notebookContainer = gd.closest('#notebook-container');\n",
       "if (notebookContainer) {{\n",
       "    x.observe(notebookContainer, {childList: true});\n",
       "}}\n",
       "\n",
       "// Listen for the clearing of the current output cell\n",
       "var outputEl = gd.closest('.output');\n",
       "if (outputEl) {{\n",
       "    x.observe(outputEl, {childList: true});\n",
       "}}\n",
       "\n",
       "                        })                };                });            </script>        </div>"
      ]
     },
     "metadata": {},
     "output_type": "display_data"
    }
   ],
   "source": [
    "import plotly.express as px\n",
    "\n",
    "fig = px.scatter(data, x='Group', y='ASF', color='Group')\n",
    "fig.show()"
   ]
  },
  {
   "cell_type": "markdown",
   "metadata": {
    "papermill": {
     "duration": 0.053096,
     "end_time": "2021-02-21T05:24:48.011350",
     "exception": false,
     "start_time": "2021-02-21T05:24:47.958254",
     "status": "completed"
    },
    "tags": []
   },
   "source": [
    "## Checking For Missig/Null Values"
   ]
  },
  {
   "cell_type": "code",
   "execution_count": 13,
   "metadata": {
    "execution": {
     "iopub.execute_input": "2021-02-21T05:24:48.126795Z",
     "iopub.status.busy": "2021-02-21T05:24:48.125994Z",
     "iopub.status.idle": "2021-02-21T05:24:48.130278Z",
     "shell.execute_reply": "2021-02-21T05:24:48.129746Z"
    },
    "papermill": {
     "duration": 0.065537,
     "end_time": "2021-02-21T05:24:48.130397",
     "exception": false,
     "start_time": "2021-02-21T05:24:48.064860",
     "status": "completed"
    },
    "tags": []
   },
   "outputs": [
    {
     "data": {
      "text/plain": [
       "Subject ID     0\n",
       "MRI ID         0\n",
       "Group          0\n",
       "Visit          0\n",
       "MR Delay       0\n",
       "M/F            0\n",
       "Hand           0\n",
       "Age            0\n",
       "EDUC           0\n",
       "SES           19\n",
       "MMSE           2\n",
       "CDR            0\n",
       "eTIV           0\n",
       "nWBV           0\n",
       "ASF            0\n",
       "dtype: int64"
      ]
     },
     "execution_count": 13,
     "metadata": {},
     "output_type": "execute_result"
    }
   ],
   "source": [
    "data.isnull().sum()"
   ]
  },
  {
   "cell_type": "markdown",
   "metadata": {
    "papermill": {
     "duration": 0.053518,
     "end_time": "2021-02-21T05:24:48.237952",
     "exception": false,
     "start_time": "2021-02-21T05:24:48.184434",
     "status": "completed"
    },
    "tags": []
   },
   "source": [
    "### Taking median values for the missing values of MMSE"
   ]
  },
  {
   "cell_type": "code",
   "execution_count": 14,
   "metadata": {
    "execution": {
     "iopub.execute_input": "2021-02-21T05:24:48.355837Z",
     "iopub.status.busy": "2021-02-21T05:24:48.355128Z",
     "iopub.status.idle": "2021-02-21T05:24:48.357901Z",
     "shell.execute_reply": "2021-02-21T05:24:48.358483Z"
    },
    "papermill": {
     "duration": 0.066666,
     "end_time": "2021-02-21T05:24:48.358626",
     "exception": false,
     "start_time": "2021-02-21T05:24:48.291960",
     "status": "completed"
    },
    "tags": []
   },
   "outputs": [
    {
     "data": {
      "text/plain": [
       "Subject ID     0\n",
       "MRI ID         0\n",
       "Group          0\n",
       "Visit          0\n",
       "MR Delay       0\n",
       "M/F            0\n",
       "Hand           0\n",
       "Age            0\n",
       "EDUC           0\n",
       "SES           19\n",
       "MMSE           0\n",
       "CDR            0\n",
       "eTIV           0\n",
       "nWBV           0\n",
       "ASF            0\n",
       "dtype: int64"
      ]
     },
     "execution_count": 14,
     "metadata": {},
     "output_type": "execute_result"
    }
   ],
   "source": [
    "median = data['MMSE'].median()\n",
    "data['MMSE'].fillna(median, inplace=True)\n",
    "data.isnull().sum()"
   ]
  },
  {
   "cell_type": "markdown",
   "metadata": {
    "papermill": {
     "duration": 0.054757,
     "end_time": "2021-02-21T05:24:48.468036",
     "exception": false,
     "start_time": "2021-02-21T05:24:48.413279",
     "status": "completed"
    },
    "tags": []
   },
   "source": [
    "### Taking median values for the missing values of SES"
   ]
  },
  {
   "cell_type": "code",
   "execution_count": 15,
   "metadata": {
    "execution": {
     "iopub.execute_input": "2021-02-21T05:24:48.580903Z",
     "iopub.status.busy": "2021-02-21T05:24:48.580254Z",
     "iopub.status.idle": "2021-02-21T05:24:48.589172Z",
     "shell.execute_reply": "2021-02-21T05:24:48.589795Z"
    },
    "papermill": {
     "duration": 0.067076,
     "end_time": "2021-02-21T05:24:48.589954",
     "exception": false,
     "start_time": "2021-02-21T05:24:48.522878",
     "status": "completed"
    },
    "tags": []
   },
   "outputs": [
    {
     "data": {
      "text/plain": [
       "Subject ID    0\n",
       "MRI ID        0\n",
       "Group         0\n",
       "Visit         0\n",
       "MR Delay      0\n",
       "M/F           0\n",
       "Hand          0\n",
       "Age           0\n",
       "EDUC          0\n",
       "SES           0\n",
       "MMSE          0\n",
       "CDR           0\n",
       "eTIV          0\n",
       "nWBV          0\n",
       "ASF           0\n",
       "dtype: int64"
      ]
     },
     "execution_count": 15,
     "metadata": {},
     "output_type": "execute_result"
    }
   ],
   "source": [
    "median = data['SES'].median()\n",
    "data['SES'].fillna(median, inplace=True)\n",
    "data.isnull().sum()"
   ]
  },
  {
   "cell_type": "markdown",
   "metadata": {
    "papermill": {
     "duration": 0.054489,
     "end_time": "2021-02-21T05:24:48.700670",
     "exception": false,
     "start_time": "2021-02-21T05:24:48.646181",
     "status": "completed"
    },
    "tags": []
   },
   "source": [
    "## Train-Test Split"
   ]
  },
  {
   "cell_type": "markdown",
   "metadata": {
    "papermill": {
     "duration": 0.055984,
     "end_time": "2021-02-21T05:24:48.812635",
     "exception": false,
     "start_time": "2021-02-21T05:24:48.756651",
     "status": "completed"
    },
    "tags": []
   },
   "source": [
    "## Prepare the data for X and y where, \n",
    "\n",
    "1. X = The columns/features for **making the prediction**\n",
    "2. y = The **predicted value**"
   ]
  },
  {
   "cell_type": "code",
   "execution_count": 16,
   "metadata": {
    "execution": {
     "iopub.execute_input": "2021-02-21T05:24:48.926932Z",
     "iopub.status.busy": "2021-02-21T05:24:48.926288Z",
     "iopub.status.idle": "2021-02-21T05:24:48.933312Z",
     "shell.execute_reply": "2021-02-21T05:24:48.932717Z"
    },
    "papermill": {
     "duration": 0.065077,
     "end_time": "2021-02-21T05:24:48.933436",
     "exception": false,
     "start_time": "2021-02-21T05:24:48.868359",
     "status": "completed"
    },
    "tags": []
   },
   "outputs": [],
   "source": [
    "y = data['Group'].values\n",
    "X = data[['M/F', 'Age', 'EDUC', 'SES', 'MMSE', 'eTIV', 'nWBV', 'ASF']]"
   ]
  },
  {
   "cell_type": "markdown",
   "metadata": {
    "papermill": {
     "duration": 0.055011,
     "end_time": "2021-02-21T05:24:49.044676",
     "exception": false,
     "start_time": "2021-02-21T05:24:48.989665",
     "status": "completed"
    },
    "tags": []
   },
   "source": [
    "### Train-Test distribution Without Stratified Sampling"
   ]
  },
  {
   "cell_type": "code",
   "execution_count": 17,
   "metadata": {
    "execution": {
     "iopub.execute_input": "2021-02-21T05:24:49.159712Z",
     "iopub.status.busy": "2021-02-21T05:24:49.158704Z",
     "iopub.status.idle": "2021-02-21T05:24:49.174698Z",
     "shell.execute_reply": "2021-02-21T05:24:49.175197Z"
    },
    "papermill": {
     "duration": 0.075266,
     "end_time": "2021-02-21T05:24:49.175352",
     "exception": false,
     "start_time": "2021-02-21T05:24:49.100086",
     "status": "completed"
    },
    "tags": []
   },
   "outputs": [
    {
     "name": "stdout",
     "output_type": "stream",
     "text": [
      "In Training Split:\n",
      "0    158\n",
      "1    140\n",
      "Name: 0, dtype: int64\n",
      "\n",
      "In Testing Split:\n",
      "1    43\n",
      "0    32\n",
      "Name: 0, dtype: int64\n"
     ]
    }
   ],
   "source": [
    "# by default test_size= 0.25\n",
    "X_trainval, X_test, y_trainval, y_test = train_test_split(X, y, test_size= 0.20, random_state=42)\n",
    "\n",
    "df_ytrain = pd.DataFrame(y_trainval)\n",
    "df_ytest = pd.DataFrame(y_test)\n",
    "\n",
    "print('In Training Split:')\n",
    "print(df_ytrain[0].value_counts())\n",
    "\n",
    "print('\\nIn Testing Split:')\n",
    "print(df_ytest[0].value_counts())"
   ]
  },
  {
   "cell_type": "markdown",
   "metadata": {
    "papermill": {
     "duration": 0.055463,
     "end_time": "2021-02-21T05:24:49.286592",
     "exception": false,
     "start_time": "2021-02-21T05:24:49.231129",
     "status": "completed"
    },
    "tags": []
   },
   "source": [
    "### With Stratified Sampling"
   ]
  },
  {
   "cell_type": "code",
   "execution_count": 18,
   "metadata": {
    "execution": {
     "iopub.execute_input": "2021-02-21T05:24:49.402123Z",
     "iopub.status.busy": "2021-02-21T05:24:49.401433Z",
     "iopub.status.idle": "2021-02-21T05:24:49.418062Z",
     "shell.execute_reply": "2021-02-21T05:24:49.417434Z"
    },
    "papermill": {
     "duration": 0.075377,
     "end_time": "2021-02-21T05:24:49.418177",
     "exception": false,
     "start_time": "2021-02-21T05:24:49.342800",
     "status": "completed"
    },
    "tags": []
   },
   "outputs": [
    {
     "name": "stdout",
     "output_type": "stream",
     "text": [
      "In Training Split:\n",
      "0    152\n",
      "1    146\n",
      "Name: 0, dtype: int64\n",
      "\n",
      "In Testing Split:\n",
      "0    38\n",
      "1    37\n",
      "Name: 0, dtype: int64\n"
     ]
    }
   ],
   "source": [
    "# by default test_size= 0.25\n",
    "X_trainval, X_test, y_trainval, y_test = train_test_split(X, y, test_size= 0.20, random_state=42, stratify=y)\n",
    "\n",
    "\n",
    "df_ytrain = pd.DataFrame(y_trainval)\n",
    "df_ytest = pd.DataFrame(y_test)\n",
    "\n",
    "print('In Training Split:')\n",
    "print(df_ytrain[0].value_counts())\n",
    "\n",
    "print('\\nIn Testing Split:')\n",
    "print(df_ytest[0].value_counts())"
   ]
  },
  {
   "cell_type": "markdown",
   "metadata": {
    "papermill": {
     "duration": 0.056065,
     "end_time": "2021-02-21T05:24:49.530652",
     "exception": false,
     "start_time": "2021-02-21T05:24:49.474587",
     "status": "completed"
    },
    "tags": []
   },
   "source": [
    "### Scale the dataset"
   ]
  },
  {
   "cell_type": "code",
   "execution_count": 19,
   "metadata": {
    "execution": {
     "iopub.execute_input": "2021-02-21T05:24:49.651835Z",
     "iopub.status.busy": "2021-02-21T05:24:49.650741Z",
     "iopub.status.idle": "2021-02-21T05:24:49.660072Z",
     "shell.execute_reply": "2021-02-21T05:24:49.659484Z"
    },
    "papermill": {
     "duration": 0.073448,
     "end_time": "2021-02-21T05:24:49.660201",
     "exception": false,
     "start_time": "2021-02-21T05:24:49.586753",
     "status": "completed"
    },
    "tags": []
   },
   "outputs": [],
   "source": [
    "# here StandardScaler() means z = (x - u) / s\n",
    "scaler = StandardScaler().fit(X_trainval)\n",
    "#scaler = MinMaxScaler().fit(X_trainval)\n",
    "X_trainval_scaled = scaler.transform(X_trainval)\n",
    "X_test_scaled = scaler.transform(X_test)"
   ]
  },
  {
   "cell_type": "code",
   "execution_count": 20,
   "metadata": {
    "execution": {
     "iopub.execute_input": "2021-02-21T05:24:49.777554Z",
     "iopub.status.busy": "2021-02-21T05:24:49.776541Z",
     "iopub.status.idle": "2021-02-21T05:24:49.782686Z",
     "shell.execute_reply": "2021-02-21T05:24:49.783257Z"
    },
    "papermill": {
     "duration": 0.066296,
     "end_time": "2021-02-21T05:24:49.783400",
     "exception": false,
     "start_time": "2021-02-21T05:24:49.717104",
     "status": "completed"
    },
    "tags": []
   },
   "outputs": [
    {
     "data": {
      "text/plain": [
       "array([[-0.87966444,  0.38449006, -0.87500081, ..., -0.30880564,\n",
       "         0.16961408,  0.21548547],\n",
       "       [ 1.13679712,  1.04832574, -0.87500081, ...,  1.23805919,\n",
       "        -0.67676996, -1.21558429],\n",
       "       [-0.87966444, -0.9431813 , -1.22928103, ..., -1.08511327,\n",
       "         0.4605586 ,  1.14751551],\n",
       "       ...,\n",
       "       [-0.87966444, -0.01381135,  1.2506805 , ..., -0.92985174,\n",
       "         0.01091708,  0.94202857],\n",
       "       [-0.87966444, -1.20871557, -0.87500081, ..., -0.00978344,\n",
       "         0.5663566 , -0.10742258],\n",
       "       [-0.87966444,  0.11895579,  1.2506805 , ..., -1.38413547,\n",
       "         0.4605586 ,  1.56582821]])"
      ]
     },
     "execution_count": 20,
     "metadata": {},
     "output_type": "execute_result"
    }
   ],
   "source": [
    "X_trainval_scaled"
   ]
  },
  {
   "cell_type": "code",
   "execution_count": 21,
   "metadata": {
    "execution": {
     "iopub.execute_input": "2021-02-21T05:24:49.907580Z",
     "iopub.status.busy": "2021-02-21T05:24:49.906515Z",
     "iopub.status.idle": "2021-02-21T05:24:49.938315Z",
     "shell.execute_reply": "2021-02-21T05:24:49.937670Z"
    },
    "papermill": {
     "duration": 0.09737,
     "end_time": "2021-02-21T05:24:49.938439",
     "exception": false,
     "start_time": "2021-02-21T05:24:49.841069",
     "status": "completed"
    },
    "tags": []
   },
   "outputs": [
    {
     "data": {
      "text/html": [
       "<div>\n",
       "<style scoped>\n",
       "    .dataframe tbody tr th:only-of-type {\n",
       "        vertical-align: middle;\n",
       "    }\n",
       "\n",
       "    .dataframe tbody tr th {\n",
       "        vertical-align: top;\n",
       "    }\n",
       "\n",
       "    .dataframe thead th {\n",
       "        text-align: right;\n",
       "    }\n",
       "</style>\n",
       "<table border=\"1\" class=\"dataframe\">\n",
       "  <thead>\n",
       "    <tr style=\"text-align: right;\">\n",
       "      <th></th>\n",
       "      <th>M/F</th>\n",
       "      <th>Age</th>\n",
       "      <th>EDUC</th>\n",
       "      <th>SES</th>\n",
       "      <th>MMSE</th>\n",
       "      <th>eTIV</th>\n",
       "      <th>nWBV</th>\n",
       "      <th>ASF</th>\n",
       "    </tr>\n",
       "  </thead>\n",
       "  <tbody>\n",
       "    <tr>\n",
       "      <th>count</th>\n",
       "      <td>298.000000</td>\n",
       "      <td>298.000000</td>\n",
       "      <td>298.000000</td>\n",
       "      <td>298.000000</td>\n",
       "      <td>298.000000</td>\n",
       "      <td>298.000000</td>\n",
       "      <td>298.000000</td>\n",
       "      <td>298.000000</td>\n",
       "    </tr>\n",
       "    <tr>\n",
       "      <th>mean</th>\n",
       "      <td>0.436242</td>\n",
       "      <td>77.104027</td>\n",
       "      <td>14.469799</td>\n",
       "      <td>2.489933</td>\n",
       "      <td>27.355705</td>\n",
       "      <td>1483.701342</td>\n",
       "      <td>0.730587</td>\n",
       "      <td>1.198638</td>\n",
       "    </tr>\n",
       "    <tr>\n",
       "      <th>std</th>\n",
       "      <td>0.496752</td>\n",
       "      <td>7.544654</td>\n",
       "      <td>2.827372</td>\n",
       "      <td>1.116859</td>\n",
       "      <td>3.689231</td>\n",
       "      <td>174.192649</td>\n",
       "      <td>0.037871</td>\n",
       "      <td>0.136491</td>\n",
       "    </tr>\n",
       "    <tr>\n",
       "      <th>min</th>\n",
       "      <td>0.000000</td>\n",
       "      <td>60.000000</td>\n",
       "      <td>6.000000</td>\n",
       "      <td>1.000000</td>\n",
       "      <td>4.000000</td>\n",
       "      <td>1106.000000</td>\n",
       "      <td>0.644000</td>\n",
       "      <td>0.883000</td>\n",
       "    </tr>\n",
       "    <tr>\n",
       "      <th>25%</th>\n",
       "      <td>0.000000</td>\n",
       "      <td>71.250000</td>\n",
       "      <td>12.000000</td>\n",
       "      <td>2.000000</td>\n",
       "      <td>27.000000</td>\n",
       "      <td>1357.000000</td>\n",
       "      <td>0.699250</td>\n",
       "      <td>1.107250</td>\n",
       "    </tr>\n",
       "    <tr>\n",
       "      <th>50%</th>\n",
       "      <td>0.000000</td>\n",
       "      <td>77.000000</td>\n",
       "      <td>14.000000</td>\n",
       "      <td>2.000000</td>\n",
       "      <td>29.000000</td>\n",
       "      <td>1462.000000</td>\n",
       "      <td>0.731000</td>\n",
       "      <td>1.200500</td>\n",
       "    </tr>\n",
       "    <tr>\n",
       "      <th>75%</th>\n",
       "      <td>1.000000</td>\n",
       "      <td>82.000000</td>\n",
       "      <td>16.000000</td>\n",
       "      <td>3.000000</td>\n",
       "      <td>30.000000</td>\n",
       "      <td>1585.250000</td>\n",
       "      <td>0.757000</td>\n",
       "      <td>1.293000</td>\n",
       "    </tr>\n",
       "    <tr>\n",
       "      <th>max</th>\n",
       "      <td>1.000000</td>\n",
       "      <td>96.000000</td>\n",
       "      <td>23.000000</td>\n",
       "      <td>5.000000</td>\n",
       "      <td>30.000000</td>\n",
       "      <td>1987.000000</td>\n",
       "      <td>0.837000</td>\n",
       "      <td>1.587000</td>\n",
       "    </tr>\n",
       "  </tbody>\n",
       "</table>\n",
       "</div>"
      ],
      "text/plain": [
       "              M/F         Age        EDUC         SES        MMSE  \\\n",
       "count  298.000000  298.000000  298.000000  298.000000  298.000000   \n",
       "mean     0.436242   77.104027   14.469799    2.489933   27.355705   \n",
       "std      0.496752    7.544654    2.827372    1.116859    3.689231   \n",
       "min      0.000000   60.000000    6.000000    1.000000    4.000000   \n",
       "25%      0.000000   71.250000   12.000000    2.000000   27.000000   \n",
       "50%      0.000000   77.000000   14.000000    2.000000   29.000000   \n",
       "75%      1.000000   82.000000   16.000000    3.000000   30.000000   \n",
       "max      1.000000   96.000000   23.000000    5.000000   30.000000   \n",
       "\n",
       "              eTIV        nWBV         ASF  \n",
       "count   298.000000  298.000000  298.000000  \n",
       "mean   1483.701342    0.730587    1.198638  \n",
       "std     174.192649    0.037871    0.136491  \n",
       "min    1106.000000    0.644000    0.883000  \n",
       "25%    1357.000000    0.699250    1.107250  \n",
       "50%    1462.000000    0.731000    1.200500  \n",
       "75%    1585.250000    0.757000    1.293000  \n",
       "max    1987.000000    0.837000    1.587000  "
      ]
     },
     "execution_count": 21,
     "metadata": {},
     "output_type": "execute_result"
    }
   ],
   "source": [
    "X_trainval.describe()"
   ]
  },
  {
   "cell_type": "markdown",
   "metadata": {
    "papermill": {
     "duration": 0.057412,
     "end_time": "2021-02-21T05:24:50.054067",
     "exception": false,
     "start_time": "2021-02-21T05:24:49.996655",
     "status": "completed"
    },
    "tags": []
   },
   "source": [
    "## Data Visualization"
   ]
  },
  {
   "cell_type": "code",
   "execution_count": 22,
   "metadata": {
    "execution": {
     "iopub.execute_input": "2021-02-21T05:24:50.175069Z",
     "iopub.status.busy": "2021-02-21T05:24:50.174376Z",
     "iopub.status.idle": "2021-02-21T05:24:51.959428Z",
     "shell.execute_reply": "2021-02-21T05:24:51.958796Z"
    },
    "papermill": {
     "duration": 1.847829,
     "end_time": "2021-02-21T05:24:51.959546",
     "exception": false,
     "start_time": "2021-02-21T05:24:50.111717",
     "status": "completed"
    },
    "tags": []
   },
   "outputs": [
    {
     "data": {
      "image/png": "[encoded data removed]",
      "text/plain": [
       "<Figure size 1440x1080 with 9 Axes>"
      ]
     },
     "metadata": {
      "needs_background": "light"
     },
     "output_type": "display_data"
    }
   ],
   "source": [
    "X_trainval.hist(bins=30, figsize=(20,15))\n",
    "plt.show()"
   ]
  },
  {
   "cell_type": "code",
   "execution_count": 23,
   "metadata": {
    "execution": {
     "iopub.execute_input": "2021-02-21T05:24:52.090627Z",
     "iopub.status.busy": "2021-02-21T05:24:52.089685Z",
     "iopub.status.idle": "2021-02-21T05:24:52.168509Z",
     "shell.execute_reply": "2021-02-21T05:24:52.167818Z"
    },
    "papermill": {
     "duration": 0.150146,
     "end_time": "2021-02-21T05:24:52.168625",
     "exception": false,
     "start_time": "2021-02-21T05:24:52.018479",
     "status": "completed"
    },
    "tags": []
   },
   "outputs": [
    {
     "data": {
      "text/html": [
       "<div>                            <div id=\"b6da5f0b-1b3d-42df-b6a3-41693c03fb47\" class=\"plotly-graph-div\" style=\"height:525px; width:100%;\"></div>            <script type=\"text/javascript\">                require([\"plotly\"], function(Plotly) {                    window.PLOTLYENV=window.PLOTLYENV || {};                                    if (document.getElementById(\"b6da5f0b-1b3d-42df-b6a3-41693c03fb47\")) {                    Plotly.newPlot(                        \"b6da5f0b-1b3d-42df-b6a3-41693c03fb47\",                        [{\"alignmentgroup\": \"True\", \"bingroup\": \"x\", \"hovertemplate\": \"eTIV=%{x}<br>count=%{y}<extra></extra>\", \"legendgroup\": \"\", \"marker\": {\"color\": \"#636efa\"}, \"name\": \"\", \"nbinsx\": 50, \"offsetgroup\": \"\", \"orientation\": \"v\", \"showlegend\": false, \"type\": \"histogram\", \"x\": [1430, 1699, 1295, 1404, 1911, 1524, 1548, 1361, 1332, 1362, 1408, 1689, 1484, 1212, 1436, 1360, 1398, 1354, 1485, 1928, 1586, 1504, 1323, 1562, 1681, 1494, 1442, 1371, 1333, 1165, 1372, 1550, 1796, 1559, 1667, 1298, 1701, 1514, 1475, 1264, 1348, 1926, 1475, 1783, 1490, 1491, 1688, 1503, 1602, 1377, 1628, 1447, 1414, 1482, 1331, 1495, 1451, 1693, 1678, 1293, 1817, 1407, 1783, 1447, 1308, 1438, 1489, 1796, 1143, 1583, 1704, 1423, 1957, 1505, 1806, 1460, 1536, 1556, 1359, 1520, 1310, 1333, 1378, 1428, 1445, 1520, 1370, 1664, 1171, 1344, 1654, 1562, 1256, 1414, 1547, 1569, 1290, 1446, 1662, 1640, 1357, 1307, 1343, 1357, 1390, 1440, 1433, 1419, 1383, 1487, 1762, 1453, 1230, 1274, 1714, 1313, 1440, 1636, 1445, 1320, 1720, 1345, 1651, 1453, 1272, 1365, 1349, 1611, 1546, 1504, 1365, 1271, 1569, 1449, 1471, 1461, 1396, 1416, 1813, 1692, 1714, 1707, 1606, 1432, 1590, 1406, 1432, 1450, 1402, 1495, 1506, 1391, 1474, 1358, 1194, 1236, 1445, 1483, 1814, 1486, 1550, 1830, 1769, 1466, 1455, 1425, 1507, 1479, 1660, 1436, 1512, 1529, 1412, 1215, 1544, 1381, 1465, 1712, 1479, 1661, 1597, 1651, 1659, 1420, 1281, 1154, 1508, 1337, 1509, 1402, 1542, 1480, 1641, 1430, 1475, 1275, 1457, 1311, 1272, 1238, 1729, 1331, 1391, 1823, 1409, 1569, 1701, 1392, 1463, 1346, 1393, 1476, 1755, 1525, 1315, 1106, 1478, 1273, 1295, 1491, 1289, 1931, 1314, 1732, 1477, 1323, 1463, 1426, 1353, 1842, 1710, 1169, 1477, 1324, 1750, 1587, 1344, 1309, 1423, 1826, 1351, 1277, 1654, 1488, 1295, 1668, 1379, 1336, 1483, 1200, 1557, 1631, 1329, 1319, 1342, 1344, 1383, 1151, 1556, 1568, 1580, 1257, 1599, 1315, 1645, 1123, 1848, 1488, 1354, 1604, 1380, 1511, 1724, 1379, 1317, 1647, 1665, 1444, 1284, 1464, 1398, 1390, 1820, 1820, 1247, 1506, 1498, 1899, 1334, 1492, 1497, 1987, 1832, 1818, 1408, 1322, 1482, 1243], \"xaxis\": \"x\", \"yaxis\": \"y\"}],                        {\"barmode\": \"relative\", \"legend\": {\"tracegroupgap\": 0}, \"margin\": {\"t\": 60}, \"template\": {\"data\": {\"bar\": [{\"error_x\": {\"color\": \"#2a3f5f\"}, \"error_y\": {\"color\": \"#2a3f5f\"}, \"marker\": {\"line\": {\"color\": \"#E5ECF6\", \"width\": 0.5}}, \"type\": \"bar\"}], \"barpolar\": [{\"marker\": {\"line\": {\"color\": \"#E5ECF6\", \"width\": 0.5}}, \"type\": \"barpolar\"}], \"carpet\": [{\"aaxis\": {\"endlinecolor\": \"#2a3f5f\", \"gridcolor\": \"white\", \"linecolor\": \"white\", \"minorgridcolor\": \"white\", \"startlinecolor\": \"#2a3f5f\"}, \"baxis\": {\"endlinecolor\": \"#2a3f5f\", \"gridcolor\": \"white\", \"linecolor\": \"white\", \"minorgridcolor\": \"white\", \"startlinecolor\": \"#2a3f5f\"}, \"type\": \"carpet\"}], \"choropleth\": [{\"colorbar\": {\"outlinewidth\": 0, \"ticks\": \"\"}, \"type\": \"choropleth\"}], \"contour\": [{\"colorbar\": {\"outlinewidth\": 0, \"ticks\": \"\"}, \"colorscale\": [[0.0, \"#0d0887\"], [0.1111111111111111, \"#46039f\"], [0.2222222222222222, \"#7201a8\"], [0.3333333333333333, \"#9c179e\"], [0.4444444444444444, \"#bd3786\"], [0.5555555555555556, \"#d8576b\"], [0.6666666666666666, \"#ed7953\"], [0.7777777777777778, \"#fb9f3a\"], [0.8888888888888888, \"#fdca26\"], [1.0, \"#f0f921\"]], \"type\": \"contour\"}], \"contourcarpet\": [{\"colorbar\": {\"outlinewidth\": 0, \"ticks\": \"\"}, \"type\": \"contourcarpet\"}], \"heatmap\": [{\"colorbar\": {\"outlinewidth\": 0, \"ticks\": \"\"}, \"colorscale\": [[0.0, \"#0d0887\"], [0.1111111111111111, \"#46039f\"], [0.2222222222222222, \"#7201a8\"], [0.3333333333333333, \"#9c179e\"], [0.4444444444444444, \"#bd3786\"], [0.5555555555555556, \"#d8576b\"], [0.6666666666666666, \"#ed7953\"], [0.7777777777777778, \"#fb9f3a\"], [0.8888888888888888, \"#fdca26\"], [1.0, \"#f0f921\"]], \"type\": \"heatmap\"}], \"heatmapgl\": [{\"colorbar\": {\"outlinewidth\": 0, \"ticks\": \"\"}, \"colorscale\": [[0.0, \"#0d0887\"], [0.1111111111111111, \"#46039f\"], [0.2222222222222222, \"#7201a8\"], [0.3333333333333333, \"#9c179e\"], [0.4444444444444444, \"#bd3786\"], [0.5555555555555556, \"#d8576b\"], [0.6666666666666666, \"#ed7953\"], [0.7777777777777778, \"#fb9f3a\"], [0.8888888888888888, \"#fdca26\"], [1.0, \"#f0f921\"]], \"type\": \"heatmapgl\"}], \"histogram\": [{\"marker\": {\"colorbar\": {\"outlinewidth\": 0, \"ticks\": \"\"}}, \"type\": \"histogram\"}], \"histogram2d\": [{\"colorbar\": {\"outlinewidth\": 0, \"ticks\": \"\"}, \"colorscale\": [[0.0, \"#0d0887\"], [0.1111111111111111, \"#46039f\"], [0.2222222222222222, \"#7201a8\"], [0.3333333333333333, \"#9c179e\"], [0.4444444444444444, \"#bd3786\"], [0.5555555555555556, \"#d8576b\"], [0.6666666666666666, \"#ed7953\"], [0.7777777777777778, \"#fb9f3a\"], [0.8888888888888888, \"#fdca26\"], [1.0, \"#f0f921\"]], \"type\": \"histogram2d\"}], \"histogram2dcontour\": [{\"colorbar\": {\"outlinewidth\": 0, \"ticks\": \"\"}, \"colorscale\": [[0.0, \"#0d0887\"], [0.1111111111111111, \"#46039f\"], [0.2222222222222222, \"#7201a8\"], [0.3333333333333333, \"#9c179e\"], [0.4444444444444444, \"#bd3786\"], [0.5555555555555556, \"#d8576b\"], [0.6666666666666666, \"#ed7953\"], [0.7777777777777778, \"#fb9f3a\"], [0.8888888888888888, \"#fdca26\"], [1.0, \"#f0f921\"]], \"type\": \"histogram2dcontour\"}], \"mesh3d\": [{\"colorbar\": {\"outlinewidth\": 0, \"ticks\": \"\"}, \"type\": \"mesh3d\"}], \"parcoords\": [{\"line\": {\"colorbar\": {\"outlinewidth\": 0, \"ticks\": \"\"}}, \"type\": \"parcoords\"}], \"pie\": [{\"automargin\": true, \"type\": \"pie\"}], \"scatter\": [{\"marker\": {\"colorbar\": {\"outlinewidth\": 0, \"ticks\": \"\"}}, \"type\": \"scatter\"}], \"scatter3d\": [{\"line\": {\"colorbar\": {\"outlinewidth\": 0, \"ticks\": \"\"}}, \"marker\": {\"colorbar\": {\"outlinewidth\": 0, \"ticks\": \"\"}}, \"type\": \"scatter3d\"}], \"scattercarpet\": [{\"marker\": {\"colorbar\": {\"outlinewidth\": 0, \"ticks\": \"\"}}, \"type\": \"scattercarpet\"}], \"scattergeo\": [{\"marker\": {\"colorbar\": {\"outlinewidth\": 0, \"ticks\": \"\"}}, \"type\": \"scattergeo\"}], \"scattergl\": [{\"marker\": {\"colorbar\": {\"outlinewidth\": 0, \"ticks\": \"\"}}, \"type\": \"scattergl\"}], \"scattermapbox\": [{\"marker\": {\"colorbar\": {\"outlinewidth\": 0, \"ticks\": \"\"}}, \"type\": \"scattermapbox\"}], \"scatterpolar\": [{\"marker\": {\"colorbar\": {\"outlinewidth\": 0, \"ticks\": \"\"}}, \"type\": \"scatterpolar\"}], \"scatterpolargl\": [{\"marker\": {\"colorbar\": {\"outlinewidth\": 0, \"ticks\": \"\"}}, \"type\": \"scatterpolargl\"}], \"scatterternary\": [{\"marker\": {\"colorbar\": {\"outlinewidth\": 0, \"ticks\": \"\"}}, \"type\": \"scatterternary\"}], \"surface\": [{\"colorbar\": {\"outlinewidth\": 0, \"ticks\": \"\"}, \"colorscale\": [[0.0, \"#0d0887\"], [0.1111111111111111, \"#46039f\"], [0.2222222222222222, \"#7201a8\"], [0.3333333333333333, \"#9c179e\"], [0.4444444444444444, \"#bd3786\"], [0.5555555555555556, \"#d8576b\"], [0.6666666666666666, \"#ed7953\"], [0.7777777777777778, \"#fb9f3a\"], [0.8888888888888888, \"#fdca26\"], [1.0, \"#f0f921\"]], \"type\": \"surface\"}], \"table\": [{\"cells\": {\"fill\": {\"color\": \"#EBF0F8\"}, \"line\": {\"color\": \"white\"}}, \"header\": {\"fill\": {\"color\": \"#C8D4E3\"}, \"line\": {\"color\": \"white\"}}, \"type\": \"table\"}]}, \"layout\": {\"annotationdefaults\": {\"arrowcolor\": \"#2a3f5f\", \"arrowhead\": 0, \"arrowwidth\": 1}, \"autotypenumbers\": \"strict\", \"coloraxis\": {\"colorbar\": {\"outlinewidth\": 0, \"ticks\": \"\"}}, \"colorscale\": {\"diverging\": [[0, \"#8e0152\"], [0.1, \"#c51b7d\"], [0.2, \"#de77ae\"], [0.3, \"#f1b6da\"], [0.4, \"#fde0ef\"], [0.5, \"#f7f7f7\"], [0.6, \"#e6f5d0\"], [0.7, \"#b8e186\"], [0.8, \"#7fbc41\"], [0.9, \"#4d9221\"], [1, \"#276419\"]], \"sequential\": [[0.0, \"#0d0887\"], [0.1111111111111111, \"#46039f\"], [0.2222222222222222, \"#7201a8\"], [0.3333333333333333, \"#9c179e\"], [0.4444444444444444, \"#bd3786\"], [0.5555555555555556, \"#d8576b\"], [0.6666666666666666, \"#ed7953\"], [0.7777777777777778, \"#fb9f3a\"], [0.8888888888888888, \"#fdca26\"], [1.0, \"#f0f921\"]], \"sequentialminus\": [[0.0, \"#0d0887\"], [0.1111111111111111, \"#46039f\"], [0.2222222222222222, \"#7201a8\"], [0.3333333333333333, \"#9c179e\"], [0.4444444444444444, \"#bd3786\"], [0.5555555555555556, \"#d8576b\"], [0.6666666666666666, \"#ed7953\"], [0.7777777777777778, \"#fb9f3a\"], [0.8888888888888888, \"#fdca26\"], [1.0, \"#f0f921\"]]}, \"colorway\": [\"#636efa\", \"#EF553B\", \"#00cc96\", \"#ab63fa\", \"#FFA15A\", \"#19d3f3\", \"#FF6692\", \"#B6E880\", \"#FF97FF\", \"#FECB52\"], \"font\": {\"color\": \"#2a3f5f\"}, \"geo\": {\"bgcolor\": \"white\", \"lakecolor\": \"white\", \"landcolor\": \"#E5ECF6\", \"showlakes\": true, \"showland\": true, \"subunitcolor\": \"white\"}, \"hoverlabel\": {\"align\": \"left\"}, \"hovermode\": \"closest\", \"mapbox\": {\"style\": \"light\"}, \"paper_bgcolor\": \"white\", \"plot_bgcolor\": \"#E5ECF6\", \"polar\": {\"angularaxis\": {\"gridcolor\": \"white\", \"linecolor\": \"white\", \"ticks\": \"\"}, \"bgcolor\": \"#E5ECF6\", \"radialaxis\": {\"gridcolor\": \"white\", \"linecolor\": \"white\", \"ticks\": \"\"}}, \"scene\": {\"xaxis\": {\"backgroundcolor\": \"#E5ECF6\", \"gridcolor\": \"white\", \"gridwidth\": 2, \"linecolor\": \"white\", \"showbackground\": true, \"ticks\": \"\", \"zerolinecolor\": \"white\"}, \"yaxis\": {\"backgroundcolor\": \"#E5ECF6\", \"gridcolor\": \"white\", \"gridwidth\": 2, \"linecolor\": \"white\", \"showbackground\": true, \"ticks\": \"\", \"zerolinecolor\": \"white\"}, \"zaxis\": {\"backgroundcolor\": \"#E5ECF6\", \"gridcolor\": \"white\", \"gridwidth\": 2, \"linecolor\": \"white\", \"showbackground\": true, \"ticks\": \"\", \"zerolinecolor\": \"white\"}}, \"shapedefaults\": {\"line\": {\"color\": \"#2a3f5f\"}}, \"ternary\": {\"aaxis\": {\"gridcolor\": \"white\", \"linecolor\": \"white\", \"ticks\": \"\"}, \"baxis\": {\"gridcolor\": \"white\", \"linecolor\": \"white\", \"ticks\": \"\"}, \"bgcolor\": \"#E5ECF6\", \"caxis\": {\"gridcolor\": \"white\", \"linecolor\": \"white\", \"ticks\": \"\"}}, \"title\": {\"x\": 0.05}, \"xaxis\": {\"automargin\": true, \"gridcolor\": \"white\", \"linecolor\": \"white\", \"ticks\": \"\", \"title\": {\"standoff\": 15}, \"zerolinecolor\": \"white\", \"zerolinewidth\": 2}, \"yaxis\": {\"automargin\": true, \"gridcolor\": \"white\", \"linecolor\": \"white\", \"ticks\": \"\", \"title\": {\"standoff\": 15}, \"zerolinecolor\": \"white\", \"zerolinewidth\": 2}}}, \"xaxis\": {\"anchor\": \"y\", \"domain\": [0.0, 1.0], \"title\": {\"text\": \"eTIV\"}}, \"yaxis\": {\"anchor\": \"x\", \"domain\": [0.0, 1.0], \"title\": {\"text\": \"count\"}}},                        {\"responsive\": true}                    ).then(function(){\n",
       "                            \n",
       "var gd = document.getElementById('b6da5f0b-1b3d-42df-b6a3-41693c03fb47');\n",
       "var x = new MutationObserver(function (mutations, observer) {{\n",
       "        var display = window.getComputedStyle(gd).display;\n",
       "        if (!display || display === 'none') {{\n",
       "            console.log([gd, 'removed!']);\n",
       "            Plotly.purge(gd);\n",
       "            observer.disconnect();\n",
       "        }}\n",
       "}});\n",
       "\n",
       "// Listen for the removal of the full notebook cells\n",
       "var notebookContainer = gd.closest('#notebook-container');\n",
       "if (notebookContainer) {{\n",
       "    x.observe(notebookContainer, {childList: true});\n",
       "}}\n",
       "\n",
       "// Listen for the clearing of the current output cell\n",
       "var outputEl = gd.closest('.output');\n",
       "if (outputEl) {{\n",
       "    x.observe(outputEl, {childList: true});\n",
       "}}\n",
       "\n",
       "                        })                };                });            </script>        </div>"
      ]
     },
     "metadata": {},
     "output_type": "display_data"
    }
   ],
   "source": [
    "import plotly.express as px\n",
    "\n",
    "x = ['M/F', 'Age', 'EDUC', 'SES', 'MMSE', 'eTIV', 'nWBV', 'ASF']\n",
    "\n",
    "fig = px.histogram(X_trainval, x='eTIV', nbins=50)\n",
    "fig.show()"
   ]
  },
  {
   "cell_type": "code",
   "execution_count": 24,
   "metadata": {
    "execution": {
     "iopub.execute_input": "2021-02-21T05:24:52.349421Z",
     "iopub.status.busy": "2021-02-21T05:24:52.321695Z",
     "iopub.status.idle": "2021-02-21T05:24:52.362716Z",
     "shell.execute_reply": "2021-02-21T05:24:52.362055Z"
    },
    "papermill": {
     "duration": 0.133606,
     "end_time": "2021-02-21T05:24:52.362833",
     "exception": false,
     "start_time": "2021-02-21T05:24:52.229227",
     "status": "completed"
    },
    "tags": []
   },
   "outputs": [
    {
     "data": {
      "text/html": [
       "<div>                            <div id=\"c3d7228f-e184-47e9-94f6-7b1417741634\" class=\"plotly-graph-div\" style=\"height:525px; width:100%;\"></div>            <script type=\"text/javascript\">                require([\"plotly\"], function(Plotly) {                    window.PLOTLYENV=window.PLOTLYENV || {};                                    if (document.getElementById(\"c3d7228f-e184-47e9-94f6-7b1417741634\")) {                    Plotly.newPlot(                        \"c3d7228f-e184-47e9-94f6-7b1417741634\",                        [{\"hovertemplate\": \"eTIV=%{x}<br>index=%{y}<extra></extra>\", \"legendgroup\": \"\", \"marker\": {\"color\": \"#636efa\", \"symbol\": \"circle\"}, \"mode\": \"markers\", \"name\": \"\", \"orientation\": \"h\", \"showlegend\": false, \"type\": \"scatter\", \"x\": [1430, 1699, 1295, 1404, 1911, 1524, 1548, 1361, 1332, 1362, 1408, 1689, 1484, 1212, 1436, 1360, 1398, 1354, 1485, 1928, 1586, 1504, 1323, 1562, 1681, 1494, 1442, 1371, 1333, 1165, 1372, 1550, 1796, 1559, 1667, 1298, 1701, 1514, 1475, 1264, 1348, 1926, 1475, 1783, 1490, 1491, 1688, 1503, 1602, 1377, 1628, 1447, 1414, 1482, 1331, 1495, 1451, 1693, 1678, 1293, 1817, 1407, 1783, 1447, 1308, 1438, 1489, 1796, 1143, 1583, 1704, 1423, 1957, 1505, 1806, 1460, 1536, 1556, 1359, 1520, 1310, 1333, 1378, 1428, 1445, 1520, 1370, 1664, 1171, 1344, 1654, 1562, 1256, 1414, 1547, 1569, 1290, 1446, 1662, 1640, 1357, 1307, 1343, 1357, 1390, 1440, 1433, 1419, 1383, 1487, 1762, 1453, 1230, 1274, 1714, 1313, 1440, 1636, 1445, 1320, 1720, 1345, 1651, 1453, 1272, 1365, 1349, 1611, 1546, 1504, 1365, 1271, 1569, 1449, 1471, 1461, 1396, 1416, 1813, 1692, 1714, 1707, 1606, 1432, 1590, 1406, 1432, 1450, 1402, 1495, 1506, 1391, 1474, 1358, 1194, 1236, 1445, 1483, 1814, 1486, 1550, 1830, 1769, 1466, 1455, 1425, 1507, 1479, 1660, 1436, 1512, 1529, 1412, 1215, 1544, 1381, 1465, 1712, 1479, 1661, 1597, 1651, 1659, 1420, 1281, 1154, 1508, 1337, 1509, 1402, 1542, 1480, 1641, 1430, 1475, 1275, 1457, 1311, 1272, 1238, 1729, 1331, 1391, 1823, 1409, 1569, 1701, 1392, 1463, 1346, 1393, 1476, 1755, 1525, 1315, 1106, 1478, 1273, 1295, 1491, 1289, 1931, 1314, 1732, 1477, 1323, 1463, 1426, 1353, 1842, 1710, 1169, 1477, 1324, 1750, 1587, 1344, 1309, 1423, 1826, 1351, 1277, 1654, 1488, 1295, 1668, 1379, 1336, 1483, 1200, 1557, 1631, 1329, 1319, 1342, 1344, 1383, 1151, 1556, 1568, 1580, 1257, 1599, 1315, 1645, 1123, 1848, 1488, 1354, 1604, 1380, 1511, 1724, 1379, 1317, 1647, 1665, 1444, 1284, 1464, 1398, 1390, 1820, 1820, 1247, 1506, 1498, 1899, 1334, 1492, 1497, 1987, 1832, 1818, 1408, 1322, 1482, 1243], \"xaxis\": \"x\", \"y\": [134, 9, 275, 346, 39, 156, 189, 69, 90, 116, 127, 7, 112, 23, 269, 48, 34, 267, 75, 140, 210, 160, 20, 52, 130, 186, 270, 212, 88, 202, 12, 328, 344, 313, 133, 297, 101, 327, 207, 114, 80, 40, 146, 223, 159, 331, 369, 104, 25, 53, 204, 17, 334, 248, 272, 274, 87, 368, 2, 254, 325, 240, 29, 171, 124, 142, 226, 343, 162, 209, 367, 219, 139, 103, 242, 64, 235, 175, 68, 236, 78, 19, 341, 145, 46, 232, 342, 132, 356, 260, 262, 222, 315, 96, 51, 121, 289, 205, 170, 84, 308, 60, 307, 10, 291, 141, 95, 220, 194, 73, 224, 65, 22, 316, 293, 41, 268, 277, 58, 79, 153, 305, 280, 86, 318, 117, 71, 203, 176, 163, 11, 177, 228, 197, 148, 105, 287, 126, 32, 150, 100, 151, 37, 187, 211, 33, 188, 63, 155, 352, 362, 285, 108, 49, 310, 321, 225, 106, 30, 247, 191, 326, 198, 62, 143, 239, 158, 257, 149, 312, 157, 246, 206, 5, 181, 180, 183, 99, 317, 359, 38, 27, 279, 45, 319, 201, 245, 303, 351, 55, 182, 16, 131, 57, 273, 115, 15, 61, 13, 320, 300, 89, 154, 243, 250, 323, 8, 56, 110, 266, 286, 93, 332, 231, 233, 282, 173, 178, 82, 102, 81, 167, 83, 299, 72, 21, 59, 333, 50, 241, 330, 357, 185, 125, 229, 36, 284, 238, 35, 244, 301, 288, 128, 353, 255, 28, 340, 66, 74, 6, 322, 168, 67, 370, 304, 258, 179, 161, 355, 221, 122, 14, 120, 123, 278, 281, 166, 249, 365, 227, 290, 192, 152, 214, 91, 263, 85, 349, 276, 138, 347, 54, 31, 336, 43, 363, 217, 339, 302, 172, 216, 0, 335, 324, 348, 92, 18, 314], \"yaxis\": \"y\"}],                        {\"legend\": {\"tracegroupgap\": 0}, \"margin\": {\"t\": 60}, \"template\": {\"data\": {\"bar\": [{\"error_x\": {\"color\": \"#2a3f5f\"}, \"error_y\": {\"color\": \"#2a3f5f\"}, \"marker\": {\"line\": {\"color\": \"#E5ECF6\", \"width\": 0.5}}, \"type\": \"bar\"}], \"barpolar\": [{\"marker\": {\"line\": {\"color\": \"#E5ECF6\", \"width\": 0.5}}, \"type\": \"barpolar\"}], \"carpet\": [{\"aaxis\": {\"endlinecolor\": \"#2a3f5f\", \"gridcolor\": \"white\", \"linecolor\": \"white\", \"minorgridcolor\": \"white\", \"startlinecolor\": \"#2a3f5f\"}, \"baxis\": {\"endlinecolor\": \"#2a3f5f\", \"gridcolor\": \"white\", \"linecolor\": \"white\", \"minorgridcolor\": \"white\", \"startlinecolor\": \"#2a3f5f\"}, \"type\": \"carpet\"}], \"choropleth\": [{\"colorbar\": {\"outlinewidth\": 0, \"ticks\": \"\"}, \"type\": \"choropleth\"}], \"contour\": [{\"colorbar\": {\"outlinewidth\": 0, \"ticks\": \"\"}, \"colorscale\": [[0.0, \"#0d0887\"], [0.1111111111111111, \"#46039f\"], [0.2222222222222222, \"#7201a8\"], [0.3333333333333333, \"#9c179e\"], [0.4444444444444444, \"#bd3786\"], [0.5555555555555556, \"#d8576b\"], [0.6666666666666666, \"#ed7953\"], [0.7777777777777778, \"#fb9f3a\"], [0.8888888888888888, \"#fdca26\"], [1.0, \"#f0f921\"]], \"type\": \"contour\"}], \"contourcarpet\": [{\"colorbar\": {\"outlinewidth\": 0, \"ticks\": \"\"}, \"type\": \"contourcarpet\"}], \"heatmap\": [{\"colorbar\": {\"outlinewidth\": 0, \"ticks\": \"\"}, \"colorscale\": [[0.0, \"#0d0887\"], [0.1111111111111111, \"#46039f\"], [0.2222222222222222, \"#7201a8\"], [0.3333333333333333, \"#9c179e\"], [0.4444444444444444, \"#bd3786\"], [0.5555555555555556, \"#d8576b\"], [0.6666666666666666, \"#ed7953\"], [0.7777777777777778, \"#fb9f3a\"], [0.8888888888888888, \"#fdca26\"], [1.0, \"#f0f921\"]], \"type\": \"heatmap\"}], \"heatmapgl\": [{\"colorbar\": {\"outlinewidth\": 0, \"ticks\": \"\"}, \"colorscale\": [[0.0, \"#0d0887\"], [0.1111111111111111, \"#46039f\"], [0.2222222222222222, \"#7201a8\"], [0.3333333333333333, \"#9c179e\"], [0.4444444444444444, \"#bd3786\"], [0.5555555555555556, \"#d8576b\"], [0.6666666666666666, \"#ed7953\"], [0.7777777777777778, \"#fb9f3a\"], [0.8888888888888888, \"#fdca26\"], [1.0, \"#f0f921\"]], \"type\": \"heatmapgl\"}], \"histogram\": [{\"marker\": {\"colorbar\": {\"outlinewidth\": 0, \"ticks\": \"\"}}, \"type\": \"histogram\"}], \"histogram2d\": [{\"colorbar\": {\"outlinewidth\": 0, \"ticks\": \"\"}, \"colorscale\": [[0.0, \"#0d0887\"], [0.1111111111111111, \"#46039f\"], [0.2222222222222222, \"#7201a8\"], [0.3333333333333333, \"#9c179e\"], [0.4444444444444444, \"#bd3786\"], [0.5555555555555556, \"#d8576b\"], [0.6666666666666666, \"#ed7953\"], [0.7777777777777778, \"#fb9f3a\"], [0.8888888888888888, \"#fdca26\"], [1.0, \"#f0f921\"]], \"type\": \"histogram2d\"}], \"histogram2dcontour\": [{\"colorbar\": {\"outlinewidth\": 0, \"ticks\": \"\"}, \"colorscale\": [[0.0, \"#0d0887\"], [0.1111111111111111, \"#46039f\"], [0.2222222222222222, \"#7201a8\"], [0.3333333333333333, \"#9c179e\"], [0.4444444444444444, \"#bd3786\"], [0.5555555555555556, \"#d8576b\"], [0.6666666666666666, \"#ed7953\"], [0.7777777777777778, \"#fb9f3a\"], [0.8888888888888888, \"#fdca26\"], [1.0, \"#f0f921\"]], \"type\": \"histogram2dcontour\"}], \"mesh3d\": [{\"colorbar\": {\"outlinewidth\": 0, \"ticks\": \"\"}, \"type\": \"mesh3d\"}], \"parcoords\": [{\"line\": {\"colorbar\": {\"outlinewidth\": 0, \"ticks\": \"\"}}, \"type\": \"parcoords\"}], \"pie\": [{\"automargin\": true, \"type\": \"pie\"}], \"scatter\": [{\"marker\": {\"colorbar\": {\"outlinewidth\": 0, \"ticks\": \"\"}}, \"type\": \"scatter\"}], \"scatter3d\": [{\"line\": {\"colorbar\": {\"outlinewidth\": 0, \"ticks\": \"\"}}, \"marker\": {\"colorbar\": {\"outlinewidth\": 0, \"ticks\": \"\"}}, \"type\": \"scatter3d\"}], \"scattercarpet\": [{\"marker\": {\"colorbar\": {\"outlinewidth\": 0, \"ticks\": \"\"}}, \"type\": \"scattercarpet\"}], \"scattergeo\": [{\"marker\": {\"colorbar\": {\"outlinewidth\": 0, \"ticks\": \"\"}}, \"type\": \"scattergeo\"}], \"scattergl\": [{\"marker\": {\"colorbar\": {\"outlinewidth\": 0, \"ticks\": \"\"}}, \"type\": \"scattergl\"}], \"scattermapbox\": [{\"marker\": {\"colorbar\": {\"outlinewidth\": 0, \"ticks\": \"\"}}, \"type\": \"scattermapbox\"}], \"scatterpolar\": [{\"marker\": {\"colorbar\": {\"outlinewidth\": 0, \"ticks\": \"\"}}, \"type\": \"scatterpolar\"}], \"scatterpolargl\": [{\"marker\": {\"colorbar\": {\"outlinewidth\": 0, \"ticks\": \"\"}}, \"type\": \"scatterpolargl\"}], \"scatterternary\": [{\"marker\": {\"colorbar\": {\"outlinewidth\": 0, \"ticks\": \"\"}}, \"type\": \"scatterternary\"}], \"surface\": [{\"colorbar\": {\"outlinewidth\": 0, \"ticks\": \"\"}, \"colorscale\": [[0.0, \"#0d0887\"], [0.1111111111111111, \"#46039f\"], [0.2222222222222222, \"#7201a8\"], [0.3333333333333333, \"#9c179e\"], [0.4444444444444444, \"#bd3786\"], [0.5555555555555556, \"#d8576b\"], [0.6666666666666666, \"#ed7953\"], [0.7777777777777778, \"#fb9f3a\"], [0.8888888888888888, \"#fdca26\"], [1.0, \"#f0f921\"]], \"type\": \"surface\"}], \"table\": [{\"cells\": {\"fill\": {\"color\": \"#EBF0F8\"}, \"line\": {\"color\": \"white\"}}, \"header\": {\"fill\": {\"color\": \"#C8D4E3\"}, \"line\": {\"color\": \"white\"}}, \"type\": \"table\"}]}, \"layout\": {\"annotationdefaults\": {\"arrowcolor\": \"#2a3f5f\", \"arrowhead\": 0, \"arrowwidth\": 1}, \"autotypenumbers\": \"strict\", \"coloraxis\": {\"colorbar\": {\"outlinewidth\": 0, \"ticks\": \"\"}}, \"colorscale\": {\"diverging\": [[0, \"#8e0152\"], [0.1, \"#c51b7d\"], [0.2, \"#de77ae\"], [0.3, \"#f1b6da\"], [0.4, \"#fde0ef\"], [0.5, \"#f7f7f7\"], [0.6, \"#e6f5d0\"], [0.7, \"#b8e186\"], [0.8, \"#7fbc41\"], [0.9, \"#4d9221\"], [1, \"#276419\"]], \"sequential\": [[0.0, \"#0d0887\"], [0.1111111111111111, \"#46039f\"], [0.2222222222222222, \"#7201a8\"], [0.3333333333333333, \"#9c179e\"], [0.4444444444444444, \"#bd3786\"], [0.5555555555555556, \"#d8576b\"], [0.6666666666666666, \"#ed7953\"], [0.7777777777777778, \"#fb9f3a\"], [0.8888888888888888, \"#fdca26\"], [1.0, \"#f0f921\"]], \"sequentialminus\": [[0.0, \"#0d0887\"], [0.1111111111111111, \"#46039f\"], [0.2222222222222222, \"#7201a8\"], [0.3333333333333333, \"#9c179e\"], [0.4444444444444444, \"#bd3786\"], [0.5555555555555556, \"#d8576b\"], [0.6666666666666666, \"#ed7953\"], [0.7777777777777778, \"#fb9f3a\"], [0.8888888888888888, \"#fdca26\"], [1.0, \"#f0f921\"]]}, \"colorway\": [\"#636efa\", \"#EF553B\", \"#00cc96\", \"#ab63fa\", \"#FFA15A\", \"#19d3f3\", \"#FF6692\", \"#B6E880\", \"#FF97FF\", \"#FECB52\"], \"font\": {\"color\": \"#2a3f5f\"}, \"geo\": {\"bgcolor\": \"white\", \"lakecolor\": \"white\", \"landcolor\": \"#E5ECF6\", \"showlakes\": true, \"showland\": true, \"subunitcolor\": \"white\"}, \"hoverlabel\": {\"align\": \"left\"}, \"hovermode\": \"closest\", \"mapbox\": {\"style\": \"light\"}, \"paper_bgcolor\": \"white\", \"plot_bgcolor\": \"#E5ECF6\", \"polar\": {\"angularaxis\": {\"gridcolor\": \"white\", \"linecolor\": \"white\", \"ticks\": \"\"}, \"bgcolor\": \"#E5ECF6\", \"radialaxis\": {\"gridcolor\": \"white\", \"linecolor\": \"white\", \"ticks\": \"\"}}, \"scene\": {\"xaxis\": {\"backgroundcolor\": \"#E5ECF6\", \"gridcolor\": \"white\", \"gridwidth\": 2, \"linecolor\": \"white\", \"showbackground\": true, \"ticks\": \"\", \"zerolinecolor\": \"white\"}, \"yaxis\": {\"backgroundcolor\": \"#E5ECF6\", \"gridcolor\": \"white\", \"gridwidth\": 2, \"linecolor\": \"white\", \"showbackground\": true, \"ticks\": \"\", \"zerolinecolor\": \"white\"}, \"zaxis\": {\"backgroundcolor\": \"#E5ECF6\", \"gridcolor\": \"white\", \"gridwidth\": 2, \"linecolor\": \"white\", \"showbackground\": true, \"ticks\": \"\", \"zerolinecolor\": \"white\"}}, \"shapedefaults\": {\"line\": {\"color\": \"#2a3f5f\"}}, \"ternary\": {\"aaxis\": {\"gridcolor\": \"white\", \"linecolor\": \"white\", \"ticks\": \"\"}, \"baxis\": {\"gridcolor\": \"white\", \"linecolor\": \"white\", \"ticks\": \"\"}, \"bgcolor\": \"#E5ECF6\", \"caxis\": {\"gridcolor\": \"white\", \"linecolor\": \"white\", \"ticks\": \"\"}}, \"title\": {\"x\": 0.05}, \"xaxis\": {\"automargin\": true, \"gridcolor\": \"white\", \"linecolor\": \"white\", \"ticks\": \"\", \"title\": {\"standoff\": 15}, \"zerolinecolor\": \"white\", \"zerolinewidth\": 2}, \"yaxis\": {\"automargin\": true, \"gridcolor\": \"white\", \"linecolor\": \"white\", \"ticks\": \"\", \"title\": {\"standoff\": 15}, \"zerolinecolor\": \"white\", \"zerolinewidth\": 2}}}, \"xaxis\": {\"anchor\": \"y\", \"domain\": [0.0, 1.0], \"title\": {\"text\": \"eTIV\"}}, \"yaxis\": {\"anchor\": \"x\", \"domain\": [0.0, 1.0], \"title\": {\"text\": \"index\"}}},                        {\"responsive\": true}                    ).then(function(){\n",
       "                            \n",
       "var gd = document.getElementById('c3d7228f-e184-47e9-94f6-7b1417741634');\n",
       "var x = new MutationObserver(function (mutations, observer) {{\n",
       "        var display = window.getComputedStyle(gd).display;\n",
       "        if (!display || display === 'none') {{\n",
       "            console.log([gd, 'removed!']);\n",
       "            Plotly.purge(gd);\n",
       "            observer.disconnect();\n",
       "        }}\n",
       "}});\n",
       "\n",
       "// Listen for the removal of the full notebook cells\n",
       "var notebookContainer = gd.closest('#notebook-container');\n",
       "if (notebookContainer) {{\n",
       "    x.observe(notebookContainer, {childList: true});\n",
       "}}\n",
       "\n",
       "// Listen for the clearing of the current output cell\n",
       "var outputEl = gd.closest('.output');\n",
       "if (outputEl) {{\n",
       "    x.observe(outputEl, {childList: true});\n",
       "}}\n",
       "\n",
       "                        })                };                });            </script>        </div>"
      ]
     },
     "metadata": {},
     "output_type": "display_data"
    }
   ],
   "source": [
    "import plotly.express as px\n",
    "\n",
    "x = ['M/F', 'Age', 'EDUC', 'SES', 'MMSE', 'eTIV', 'nWBV', 'ASF']\n",
    "\n",
    "fig = px.scatter(X_trainval, x='eTIV')\n",
    "fig.show()"
   ]
  },
  {
   "cell_type": "markdown",
   "metadata": {
    "papermill": {
     "duration": 0.060847,
     "end_time": "2021-02-21T05:24:52.484599",
     "exception": false,
     "start_time": "2021-02-21T05:24:52.423752",
     "status": "completed"
    },
    "tags": []
   },
   "source": [
    "# SVM"
   ]
  },
  {
   "cell_type": "code",
   "execution_count": 25,
   "metadata": {
    "execution": {
     "iopub.execute_input": "2021-02-21T05:24:52.614683Z",
     "iopub.status.busy": "2021-02-21T05:24:52.613922Z",
     "iopub.status.idle": "2021-02-21T05:24:52.791187Z",
     "shell.execute_reply": "2021-02-21T05:24:52.790597Z"
    },
    "papermill": {
     "duration": 0.245707,
     "end_time": "2021-02-21T05:24:52.791313",
     "exception": false,
     "start_time": "2021-02-21T05:24:52.545606",
     "status": "completed"
    },
    "tags": []
   },
   "outputs": [
    {
     "data": {
      "text/plain": [
       "<sklearn.metrics._plot.confusion_matrix.ConfusionMatrixDisplay at 0x7fcb529fc7d0>"
      ]
     },
     "execution_count": 25,
     "metadata": {},
     "output_type": "execute_result"
    },
    {
     "data": {
      "image/png": "[encoded data removed]",
      "text/plain": [
       "<Figure size 432x288 with 2 Axes>"
      ]
     },
     "metadata": {
      "needs_background": "light"
     },
     "output_type": "display_data"
    }
   ],
   "source": [
    "clf_svm = SVC(random_state=42)\n",
    "clf_svm.fit(X_trainval_scaled, y_trainval)\n",
    "\n",
    "# for test there are 94 cases\n",
    "plot_confusion_matrix(clf_svm, \n",
    "                      X_test_scaled, \n",
    "                      y_test, \n",
    "                      values_format='d', \n",
    "                      display_labels=['Nondemented', 'Demented'])"
   ]
  },
  {
   "cell_type": "code",
   "execution_count": 26,
   "metadata": {
    "execution": {
     "iopub.execute_input": "2021-02-21T05:24:52.925317Z",
     "iopub.status.busy": "2021-02-21T05:24:52.924620Z",
     "iopub.status.idle": "2021-02-21T05:24:52.935820Z",
     "shell.execute_reply": "2021-02-21T05:24:52.935250Z"
    },
    "papermill": {
     "duration": 0.08155,
     "end_time": "2021-02-21T05:24:52.935942",
     "exception": false,
     "start_time": "2021-02-21T05:24:52.854392",
     "status": "completed"
    },
    "tags": []
   },
   "outputs": [
    {
     "name": "stdout",
     "output_type": "stream",
     "text": [
      "Train accuracy  0.8590604026845637\n",
      "Test accuracy  0.7466666666666667\n",
      "Test recall 0.5945945945945946\n",
      "Test AUC 0.744665718349929\n"
     ]
    }
   ],
   "source": [
    "train_score = 0\n",
    "test_score = 0\n",
    "test_recall = 0\n",
    "test_auc = 0\n",
    "\n",
    "train_score = clf_svm.score(X_trainval_scaled, y_trainval)\n",
    "test_score = clf_svm.score(X_test_scaled, y_test)\n",
    "y_predict = clf_svm.predict(X_test_scaled)\n",
    "\n",
    "test_recall = recall_score(y_test, y_predict)\n",
    "fpr, tpr, thresholds = roc_curve(y_test, y_predict)\n",
    "test_auc = auc(fpr, tpr)\n",
    "\n",
    "\n",
    "print(\"Train accuracy \", train_score)\n",
    "print(\"Test accuracy \", test_score)\n",
    "print(\"Test recall\", test_recall)\n",
    "print(\"Test AUC\", test_auc)"
   ]
  },
  {
   "cell_type": "markdown",
   "metadata": {
    "papermill": {
     "duration": 0.062406,
     "end_time": "2021-02-21T05:24:53.061149",
     "exception": false,
     "start_time": "2021-02-21T05:24:52.998743",
     "status": "completed"
    },
    "tags": []
   },
   "source": [
    "### Optimize parameters(Finetuning) --> GridSearchCV() for SVM"
   ]
  },
  {
   "cell_type": "code",
   "execution_count": 27,
   "metadata": {
    "execution": {
     "iopub.execute_input": "2021-02-21T05:24:53.196144Z",
     "iopub.status.busy": "2021-02-21T05:24:53.195430Z",
     "iopub.status.idle": "2021-02-21T05:25:04.937936Z",
     "shell.execute_reply": "2021-02-21T05:25:04.938471Z"
    },
    "papermill": {
     "duration": 11.814617,
     "end_time": "2021-02-21T05:25:04.938646",
     "exception": false,
     "start_time": "2021-02-21T05:24:53.124029",
     "status": "completed"
    },
    "tags": []
   },
   "outputs": [
    {
     "name": "stdout",
     "output_type": "stream",
     "text": [
      "{'C': 6, 'gamma': 1, 'kernel': 'rbf'}\n"
     ]
    }
   ],
   "source": [
    "# Normally, C = 1 and gamma = 'scale' are default values\n",
    "# C controls how wide the margin will be with respect to how many misclassification we are allowing\n",
    "# C is increasing --> reduce the size of the margin and fewer misclassification and vice versa\n",
    "param_grid = [\n",
    "    {'C': [0.5, 1, 2, 3, 4, 5, 6, 7, 8, 9, 10, 30, 50, 80, 100],\n",
    "    'gamma': ['scale', 0.5, 1, 0.1, 0.01, 0.001, 0.0001, 0.00001],\n",
    "    'kernel': ['rbf', 'linear', 'poly', 'sigmoid']},\n",
    "]\n",
    "\n",
    "optimal_params = GridSearchCV(SVC(),\n",
    "                             param_grid,\n",
    "                             cv=5, # we are taking 5-fold as in k-fold cross validation\n",
    "                             scoring='accuracy', # try the other scoring if have time\n",
    "                             verbose=0,\n",
    "                             n_jobs=-1)\n",
    "\n",
    "optimal_params.fit(X_trainval_scaled, y_trainval)\n",
    "print(optimal_params.best_params_)"
   ]
  },
  {
   "cell_type": "code",
   "execution_count": 28,
   "metadata": {
    "execution": {
     "iopub.execute_input": "2021-02-21T05:25:05.073634Z",
     "iopub.status.busy": "2021-02-21T05:25:05.072673Z",
     "iopub.status.idle": "2021-02-21T05:25:05.076294Z",
     "shell.execute_reply": "2021-02-21T05:25:05.075675Z"
    },
    "papermill": {
     "duration": 0.074232,
     "end_time": "2021-02-21T05:25:05.076406",
     "exception": false,
     "start_time": "2021-02-21T05:25:05.002174",
     "status": "completed"
    },
    "tags": []
   },
   "outputs": [],
   "source": [
    "C = optimal_params.best_params_['C']\n",
    "gamma = optimal_params.best_params_['gamma']\n",
    "kernel = optimal_params.best_params_['kernel']"
   ]
  },
  {
   "cell_type": "code",
   "execution_count": 29,
   "metadata": {
    "execution": {
     "iopub.execute_input": "2021-02-21T05:25:05.207035Z",
     "iopub.status.busy": "2021-02-21T05:25:05.206326Z",
     "iopub.status.idle": "2021-02-21T05:25:05.382139Z",
     "shell.execute_reply": "2021-02-21T05:25:05.382632Z"
    },
    "papermill": {
     "duration": 0.242652,
     "end_time": "2021-02-21T05:25:05.382801",
     "exception": false,
     "start_time": "2021-02-21T05:25:05.140149",
     "status": "completed"
    },
    "tags": []
   },
   "outputs": [
    {
     "data": {
      "text/plain": [
       "<sklearn.metrics._plot.confusion_matrix.ConfusionMatrixDisplay at 0x7fcb53093910>"
      ]
     },
     "execution_count": 29,
     "metadata": {},
     "output_type": "execute_result"
    },
    {
     "data": {
      "image/png": "[encoded data removed]",
      "text/plain": [
       "<Figure size 432x288 with 2 Axes>"
      ]
     },
     "metadata": {
      "needs_background": "light"
     },
     "output_type": "display_data"
    }
   ],
   "source": [
    "clf_svm = SVC(random_state=42, C=C, gamma=gamma, kernel=kernel)\n",
    "clf_svm.fit(X_trainval_scaled, y_trainval)\n",
    "\n",
    "plot_confusion_matrix(clf_svm, \n",
    "                      X_test_scaled, \n",
    "                      y_test, \n",
    "                      values_format='d', \n",
    "                      display_labels=['Nondemented', 'Demented'])"
   ]
  },
  {
   "cell_type": "code",
   "execution_count": 30,
   "metadata": {
    "execution": {
     "iopub.execute_input": "2021-02-21T05:25:05.517061Z",
     "iopub.status.busy": "2021-02-21T05:25:05.516041Z",
     "iopub.status.idle": "2021-02-21T05:25:05.535028Z",
     "shell.execute_reply": "2021-02-21T05:25:05.534191Z"
    },
    "papermill": {
     "duration": 0.08746,
     "end_time": "2021-02-21T05:25:05.535192",
     "exception": false,
     "start_time": "2021-02-21T05:25:05.447732",
     "status": "completed"
    },
    "tags": []
   },
   "outputs": [
    {
     "name": "stdout",
     "output_type": "stream",
     "text": [
      "Train accuracy  1.0\n",
      "Test accuracy  0.92\n",
      "Test recall 0.918918918918919\n",
      "Test AUC 0.9199857752489331\n"
     ]
    }
   ],
   "source": [
    "train_score = 0\n",
    "test_score = 0\n",
    "test_recall = 0\n",
    "test_auc = 0\n",
    "\n",
    "train_score = clf_svm.score(X_trainval_scaled, y_trainval)\n",
    "test_score = clf_svm.score(X_test_scaled, y_test)\n",
    "y_predict = clf_svm.predict(X_test_scaled)\n",
    "\n",
    "test_recall = recall_score(y_test, y_predict)\n",
    "svm_fpr, svm_tpr, thresholds = roc_curve(y_test, y_predict)\n",
    "test_auc = auc(svm_fpr, svm_tpr)\n",
    "\n",
    "\n",
    "print(\"Train accuracy \", train_score)\n",
    "print(\"Test accuracy \", test_score)\n",
    "print(\"Test recall\", test_recall)\n",
    "print(\"Test AUC\", test_auc)"
   ]
  },
  {
   "cell_type": "markdown",
   "metadata": {
    "papermill": {
     "duration": 0.064261,
     "end_time": "2021-02-21T05:25:05.665444",
     "exception": false,
     "start_time": "2021-02-21T05:25:05.601183",
     "status": "completed"
    },
    "tags": []
   },
   "source": [
    "# Random Forest"
   ]
  },
  {
   "cell_type": "code",
   "execution_count": 31,
   "metadata": {
    "execution": {
     "iopub.execute_input": "2021-02-21T05:25:05.798235Z",
     "iopub.status.busy": "2021-02-21T05:25:05.797535Z",
     "iopub.status.idle": "2021-02-21T05:25:05.857124Z",
     "shell.execute_reply": "2021-02-21T05:25:05.856511Z"
    },
    "papermill": {
     "duration": 0.126931,
     "end_time": "2021-02-21T05:25:05.857258",
     "exception": false,
     "start_time": "2021-02-21T05:25:05.730327",
     "status": "completed"
    },
    "tags": []
   },
   "outputs": [],
   "source": [
    "from sklearn.ensemble import RandomForestClassifier"
   ]
  },
  {
   "cell_type": "code",
   "execution_count": 32,
   "metadata": {
    "execution": {
     "iopub.execute_input": "2021-02-21T05:25:06.011800Z",
     "iopub.status.busy": "2021-02-21T05:25:06.001387Z",
     "iopub.status.idle": "2021-02-21T05:25:06.381618Z",
     "shell.execute_reply": "2021-02-21T05:25:06.381041Z"
    },
    "papermill": {
     "duration": 0.459083,
     "end_time": "2021-02-21T05:25:06.381735",
     "exception": false,
     "start_time": "2021-02-21T05:25:05.922652",
     "status": "completed"
    },
    "tags": []
   },
   "outputs": [
    {
     "data": {
      "text/plain": [
       "<sklearn.metrics._plot.confusion_matrix.ConfusionMatrixDisplay at 0x7fcb5303a510>"
      ]
     },
     "execution_count": 32,
     "metadata": {},
     "output_type": "execute_result"
    },
    {
     "data": {
      "image/png": "[encoded data removed]",
      "text/plain": [
       "<Figure size 432x288 with 2 Axes>"
      ]
     },
     "metadata": {
      "needs_background": "light"
     },
     "output_type": "display_data"
    }
   ],
   "source": [
    "# n_estimators(M) --> the number of trees in the forest\n",
    "# max_features(d) --> the number of features to consider when looking for the best split\n",
    "# max_depth(m) --> the maximum depth of the tree.\n",
    "\n",
    "rfc = RandomForestClassifier(random_state=42)\n",
    "rfc.fit(X_trainval_scaled, y_trainval)\n",
    "\n",
    "# for test there are 94 cases\n",
    "plot_confusion_matrix(rfc, \n",
    "                      X_test_scaled, \n",
    "                      y_test, \n",
    "                      values_format='d', \n",
    "                      display_labels=['Nondemented', 'Demented'])"
   ]
  },
  {
   "cell_type": "code",
   "execution_count": 33,
   "metadata": {
    "execution": {
     "iopub.execute_input": "2021-02-21T05:25:06.524845Z",
     "iopub.status.busy": "2021-02-21T05:25:06.524139Z",
     "iopub.status.idle": "2021-02-21T05:25:06.567152Z",
     "shell.execute_reply": "2021-02-21T05:25:06.566168Z"
    },
    "papermill": {
     "duration": 0.119008,
     "end_time": "2021-02-21T05:25:06.567316",
     "exception": false,
     "start_time": "2021-02-21T05:25:06.448308",
     "status": "completed"
    },
    "tags": []
   },
   "outputs": [
    {
     "name": "stdout",
     "output_type": "stream",
     "text": [
      "Train accuracy  1.0\n",
      "Test accuracy  0.8133333333333334\n",
      "Test recall 0.7027027027027027\n",
      "Test AUC 0.811877667140825\n"
     ]
    }
   ],
   "source": [
    "train_score = 0\n",
    "test_score = 0\n",
    "test_recall = 0\n",
    "test_auc = 0\n",
    "\n",
    "train_score = rfc.score(X_trainval_scaled, y_trainval)\n",
    "test_score = rfc.score(X_test_scaled, y_test)\n",
    "y_predict = rfc.predict(X_test_scaled)\n",
    "test_recall = recall_score(y_test, y_predict)\n",
    "fpr, tpr, thresholds = roc_curve(y_test, y_predict)\n",
    "test_auc = auc(fpr, tpr)\n",
    "\n",
    "print(\"Train accuracy \", train_score)\n",
    "print(\"Test accuracy \", test_score)\n",
    "print(\"Test recall\", test_recall)\n",
    "print(\"Test AUC\", test_auc)"
   ]
  },
  {
   "cell_type": "markdown",
   "metadata": {
    "papermill": {
     "duration": 0.066938,
     "end_time": "2021-02-21T05:25:06.702778",
     "exception": false,
     "start_time": "2021-02-21T05:25:06.635840",
     "status": "completed"
    },
    "tags": []
   },
   "source": [
    "### Optimize parameters(Finetuning) --> GridSearchCV()"
   ]
  },
  {
   "cell_type": "code",
   "execution_count": 34,
   "metadata": {
    "execution": {
     "iopub.execute_input": "2021-02-21T05:25:06.846366Z",
     "iopub.status.busy": "2021-02-21T05:25:06.845356Z",
     "iopub.status.idle": "2021-02-21T05:25:06.848964Z",
     "shell.execute_reply": "2021-02-21T05:25:06.848404Z"
    },
    "papermill": {
     "duration": 0.078921,
     "end_time": "2021-02-21T05:25:06.849108",
     "exception": false,
     "start_time": "2021-02-21T05:25:06.770187",
     "status": "completed"
    },
    "tags": []
   },
   "outputs": [],
   "source": [
    "# Number of trees in random forest\n",
    "n_estimators = [int(x) for x in np.linspace(start = 10, stop = 100, num = 10)]\n",
    "\n",
    "# Number of features to consider at every split\n",
    "max_features = ['auto', 'sqrt', 'log2']\n",
    "\n",
    "# Maximum number of levels in tree\n",
    "max_depth = range(1,10)\n",
    "\n",
    "# measure the quality of a split\n",
    "criterion = ['gini']\n",
    "\n",
    "# Method of selecting samples for training each tree\n",
    "bootstrap = [True, False]"
   ]
  },
  {
   "cell_type": "code",
   "execution_count": 35,
   "metadata": {
    "execution": {
     "iopub.execute_input": "2021-02-21T05:25:06.987850Z",
     "iopub.status.busy": "2021-02-21T05:25:06.987210Z",
     "iopub.status.idle": "2021-02-21T05:25:06.992272Z",
     "shell.execute_reply": "2021-02-21T05:25:06.991634Z"
    },
    "papermill": {
     "duration": 0.07594,
     "end_time": "2021-02-21T05:25:06.992384",
     "exception": false,
     "start_time": "2021-02-21T05:25:06.916444",
     "status": "completed"
    },
    "tags": []
   },
   "outputs": [],
   "source": [
    "# Create the param grid\n",
    "param_grid = {'n_estimators': n_estimators,\n",
    "               'max_features': max_features,\n",
    "               'max_depth': max_depth,\n",
    "               'criterion': criterion,\n",
    "               'bootstrap': bootstrap}"
   ]
  },
  {
   "cell_type": "code",
   "execution_count": 36,
   "metadata": {
    "execution": {
     "iopub.execute_input": "2021-02-21T05:25:07.136382Z",
     "iopub.status.busy": "2021-02-21T05:25:07.135353Z",
     "iopub.status.idle": "2021-02-21T05:26:57.959858Z",
     "shell.execute_reply": "2021-02-21T05:26:57.960433Z"
    },
    "papermill": {
     "duration": 110.901375,
     "end_time": "2021-02-21T05:26:57.960599",
     "exception": false,
     "start_time": "2021-02-21T05:25:07.059224",
     "status": "completed"
    },
    "tags": []
   },
   "outputs": [
    {
     "name": "stdout",
     "output_type": "stream",
     "text": [
      "{'bootstrap': False, 'criterion': 'gini', 'max_depth': 8, 'max_features': 'auto', 'n_estimators': 60}\n"
     ]
    }
   ],
   "source": [
    "optimal_params = GridSearchCV(RandomForestClassifier(),\n",
    "                             param_grid,\n",
    "                             cv=5, # we are taking 5-fold as in k-fold cross validation\n",
    "                             scoring='accuracy', # try the other scoring if have time\n",
    "                             verbose=0,\n",
    "                             n_jobs=-1)\n",
    "\n",
    "optimal_params.fit(X_trainval_scaled, y_trainval)\n",
    "print(optimal_params.best_params_)"
   ]
  },
  {
   "cell_type": "code",
   "execution_count": 37,
   "metadata": {
    "execution": {
     "iopub.execute_input": "2021-02-21T05:26:58.102512Z",
     "iopub.status.busy": "2021-02-21T05:26:58.101661Z",
     "iopub.status.idle": "2021-02-21T05:26:58.104540Z",
     "shell.execute_reply": "2021-02-21T05:26:58.104022Z"
    },
    "papermill": {
     "duration": 0.076703,
     "end_time": "2021-02-21T05:26:58.104654",
     "exception": false,
     "start_time": "2021-02-21T05:26:58.027951",
     "status": "completed"
    },
    "tags": []
   },
   "outputs": [],
   "source": [
    "bootstrap = optimal_params.best_params_['bootstrap']\n",
    "criterion = optimal_params.best_params_['criterion']\n",
    "max_depth = optimal_params.best_params_['max_depth']\n",
    "max_features = optimal_params.best_params_['max_features']\n",
    "n_estimators = optimal_params.best_params_['n_estimators']"
   ]
  },
  {
   "cell_type": "code",
   "execution_count": 38,
   "metadata": {
    "execution": {
     "iopub.execute_input": "2021-02-21T05:26:58.264473Z",
     "iopub.status.busy": "2021-02-21T05:26:58.263365Z",
     "iopub.status.idle": "2021-02-21T05:26:58.573331Z",
     "shell.execute_reply": "2021-02-21T05:26:58.572415Z"
    },
    "papermill": {
     "duration": 0.401085,
     "end_time": "2021-02-21T05:26:58.573516",
     "exception": false,
     "start_time": "2021-02-21T05:26:58.172431",
     "status": "completed"
    },
    "tags": []
   },
   "outputs": [
    {
     "data": {
      "text/plain": [
       "<sklearn.metrics._plot.confusion_matrix.ConfusionMatrixDisplay at 0x7fcb52f487d0>"
      ]
     },
     "execution_count": 38,
     "metadata": {},
     "output_type": "execute_result"
    },
    {
     "data": {
      "image/png": "[encoded data removed]",
      "text/plain": [
       "<Figure size 432x288 with 2 Axes>"
      ]
     },
     "metadata": {
      "needs_background": "light"
     },
     "output_type": "display_data"
    }
   ],
   "source": [
    "rfc = RandomForestClassifier(n_estimators=n_estimators, \n",
    "                             max_features=max_features, \n",
    "                             max_depth=max_depth, \n",
    "                             criterion=criterion,\n",
    "                             bootstrap=bootstrap,\n",
    "                             random_state=42)\n",
    "\n",
    "rfc.fit(X_trainval_scaled, y_trainval)\n",
    "\n",
    "# for test there are 94 cases\n",
    "plot_confusion_matrix(rfc, \n",
    "                      X_test_scaled, \n",
    "                      y_test, \n",
    "                      values_format='d', \n",
    "                      display_labels=['Nondemented', 'Demented'])"
   ]
  },
  {
   "cell_type": "code",
   "execution_count": 39,
   "metadata": {
    "execution": {
     "iopub.execute_input": "2021-02-21T05:26:58.733907Z",
     "iopub.status.busy": "2021-02-21T05:26:58.732790Z",
     "iopub.status.idle": "2021-02-21T05:26:58.764470Z",
     "shell.execute_reply": "2021-02-21T05:26:58.765236Z"
    },
    "papermill": {
     "duration": 0.111182,
     "end_time": "2021-02-21T05:26:58.765445",
     "exception": false,
     "start_time": "2021-02-21T05:26:58.654263",
     "status": "completed"
    },
    "tags": []
   },
   "outputs": [
    {
     "name": "stdout",
     "output_type": "stream",
     "text": [
      "Train accuracy  0.9966442953020134\n",
      "Test accuracy  0.7866666666666666\n",
      "Test recall 0.7027027027027027\n",
      "Test AUC 0.7855618776671409\n"
     ]
    }
   ],
   "source": [
    "train_score = 0\n",
    "test_score = 0\n",
    "test_recall = 0\n",
    "test_auc = 0\n",
    "\n",
    "train_score = rfc.score(X_trainval_scaled, y_trainval)\n",
    "test_score = rfc.score(X_test_scaled, y_test)\n",
    "y_predict = rfc.predict(X_test_scaled)\n",
    "test_recall = recall_score(y_test, y_predict)\n",
    "rfc_fpr, rfc_tpr, thresholds = roc_curve(y_test, y_predict)\n",
    "test_auc = auc(rfc_fpr, rfc_tpr)\n",
    "\n",
    "print(\"Train accuracy \", train_score)\n",
    "print(\"Test accuracy \", test_score)\n",
    "print(\"Test recall\", test_recall)\n",
    "print(\"Test AUC\", test_auc)"
   ]
  },
  {
   "cell_type": "markdown",
   "metadata": {
    "papermill": {
     "duration": 0.071036,
     "end_time": "2021-02-21T05:26:58.907460",
     "exception": false,
     "start_time": "2021-02-21T05:26:58.836424",
     "status": "completed"
    },
    "tags": []
   },
   "source": [
    "# Logistic Regression"
   ]
  },
  {
   "cell_type": "code",
   "execution_count": 40,
   "metadata": {
    "execution": {
     "iopub.execute_input": "2021-02-21T05:26:59.053932Z",
     "iopub.status.busy": "2021-02-21T05:26:59.052923Z",
     "iopub.status.idle": "2021-02-21T05:26:59.056562Z",
     "shell.execute_reply": "2021-02-21T05:26:59.055881Z"
    },
    "papermill": {
     "duration": 0.078846,
     "end_time": "2021-02-21T05:26:59.056676",
     "exception": false,
     "start_time": "2021-02-21T05:26:58.977830",
     "status": "completed"
    },
    "tags": []
   },
   "outputs": [],
   "source": [
    "from sklearn.linear_model import LogisticRegression\n",
    "from sklearn.tree import DecisionTreeClassifier\n",
    "from sklearn.metrics import confusion_matrix, precision_score, accuracy_score, recall_score, roc_curve, auc"
   ]
  },
  {
   "cell_type": "code",
   "execution_count": 41,
   "metadata": {
    "execution": {
     "iopub.execute_input": "2021-02-21T05:26:59.210264Z",
     "iopub.status.busy": "2021-02-21T05:26:59.209530Z",
     "iopub.status.idle": "2021-02-21T05:26:59.392907Z",
     "shell.execute_reply": "2021-02-21T05:26:59.392347Z"
    },
    "papermill": {
     "duration": 0.263735,
     "end_time": "2021-02-21T05:26:59.393060",
     "exception": false,
     "start_time": "2021-02-21T05:26:59.129325",
     "status": "completed"
    },
    "tags": []
   },
   "outputs": [
    {
     "data": {
      "text/plain": [
       "<sklearn.metrics._plot.confusion_matrix.ConfusionMatrixDisplay at 0x7fcb52b1a050>"
      ]
     },
     "execution_count": 41,
     "metadata": {},
     "output_type": "execute_result"
    },
    {
     "data": {
      "image/png": "[encoded data removed]",
      "text/plain": [
       "<Figure size 432x288 with 2 Axes>"
      ]
     },
     "metadata": {
      "needs_background": "light"
     },
     "output_type": "display_data"
    }
   ],
   "source": [
    "log_reg_model = LogisticRegression().fit(X_trainval_scaled, y_trainval)\n",
    "\n",
    "# for test there are 94 cases\n",
    "plot_confusion_matrix(log_reg_model, \n",
    "                      X_test_scaled, \n",
    "                      y_test, \n",
    "                      values_format='d', \n",
    "                      display_labels=['Nondemented', 'Demented'])"
   ]
  },
  {
   "cell_type": "code",
   "execution_count": 42,
   "metadata": {
    "execution": {
     "iopub.execute_input": "2021-02-21T05:26:59.553251Z",
     "iopub.status.busy": "2021-02-21T05:26:59.545050Z",
     "iopub.status.idle": "2021-02-21T05:26:59.562200Z",
     "shell.execute_reply": "2021-02-21T05:26:59.562678Z"
    },
    "papermill": {
     "duration": 0.098292,
     "end_time": "2021-02-21T05:26:59.562830",
     "exception": false,
     "start_time": "2021-02-21T05:26:59.464538",
     "status": "completed"
    },
    "tags": []
   },
   "outputs": [
    {
     "name": "stdout",
     "output_type": "stream",
     "text": [
      "Train accuracy  0.8221476510067114\n",
      "Test accuracy  0.7466666666666667\n",
      "Test recall 0.7027027027027027\n",
      "Test AUC 0.7460881934566145\n"
     ]
    }
   ],
   "source": [
    "train_score = 0\n",
    "test_score = 0\n",
    "test_recall = 0\n",
    "test_auc = 0\n",
    "\n",
    "log_reg_model = LogisticRegression().fit(X_trainval_scaled, y_trainval)\n",
    "train_score = log_reg_model.score(X_trainval_scaled, y_trainval)\n",
    "test_score = log_reg_model.score(X_test_scaled, y_test)\n",
    "scores = log_reg_model.score(X_test_scaled, y_test)\n",
    "y_predict = log_reg_model.predict(X_test_scaled)\n",
    "test_recall = recall_score(y_test, y_predict)\n",
    "fpr, tpr, thresholds = roc_curve(y_test, y_predict)\n",
    "test_auc = auc(fpr, tpr)\n",
    "\n",
    "\n",
    "print(\"Train accuracy \", train_score)\n",
    "print(\"Test accuracy \", test_score)\n",
    "print(\"Test recall\", test_recall)\n",
    "print(\"Test AUC\", test_auc)"
   ]
  },
  {
   "cell_type": "markdown",
   "metadata": {
    "papermill": {
     "duration": 0.072092,
     "end_time": "2021-02-21T05:26:59.707748",
     "exception": false,
     "start_time": "2021-02-21T05:26:59.635656",
     "status": "completed"
    },
    "tags": []
   },
   "source": [
    "### Optimize parameters(Finetuning) --> GridSearchCV()"
   ]
  },
  {
   "cell_type": "code",
   "execution_count": 43,
   "metadata": {
    "execution": {
     "iopub.execute_input": "2021-02-21T05:26:59.859870Z",
     "iopub.status.busy": "2021-02-21T05:26:59.859194Z",
     "iopub.status.idle": "2021-02-21T05:27:00.087736Z",
     "shell.execute_reply": "2021-02-21T05:27:00.088576Z"
    },
    "papermill": {
     "duration": 0.308978,
     "end_time": "2021-02-21T05:27:00.088785",
     "exception": false,
     "start_time": "2021-02-21T05:26:59.779807",
     "status": "completed"
    },
    "tags": []
   },
   "outputs": [
    {
     "name": "stdout",
     "output_type": "stream",
     "text": [
      "{'C': 2, 'penalty': 'l2'}\n"
     ]
    }
   ],
   "source": [
    "param_grid = {'penalty': ['l1','l2'], \n",
    "               'C': [0.001,0.01,0.1,1, 2, 3, 5, 10,100,1000]}\n",
    "\n",
    "optimal_params = GridSearchCV(LogisticRegression(),\n",
    "                             param_grid,\n",
    "                             cv=5, # we are taking 5-fold as in k-fold cross validation\n",
    "                             scoring='accuracy', # try the other scoring if have time\n",
    "                             verbose=0,\n",
    "                             n_jobs=-1)\n",
    "\n",
    "optimal_params.fit(X_trainval_scaled, y_trainval)\n",
    "print(optimal_params.best_params_)"
   ]
  },
  {
   "cell_type": "code",
   "execution_count": 44,
   "metadata": {
    "execution": {
     "iopub.execute_input": "2021-02-21T05:27:00.240392Z",
     "iopub.status.busy": "2021-02-21T05:27:00.239384Z",
     "iopub.status.idle": "2021-02-21T05:27:00.243000Z",
     "shell.execute_reply": "2021-02-21T05:27:00.242454Z"
    },
    "papermill": {
     "duration": 0.080874,
     "end_time": "2021-02-21T05:27:00.243134",
     "exception": false,
     "start_time": "2021-02-21T05:27:00.162260",
     "status": "completed"
    },
    "tags": []
   },
   "outputs": [],
   "source": [
    "# best_score = -10\n",
    "# for c in range(1, 20):       \n",
    "#         log_reg_model = LogisticRegression(C=c)\n",
    "#         scores = cross_val_score(log_reg_model, X_trainval_scaled, y_trainval, cv=5, scoring='accuracy')\n",
    "        \n",
    "#         mean_score = scores.mean()\n",
    "        \n",
    "#         if mean_score > best_score:\n",
    "#             best_score = mean_score\n",
    "#             best_c = c\n",
    "# print(best_c)"
   ]
  },
  {
   "cell_type": "code",
   "execution_count": 45,
   "metadata": {
    "execution": {
     "iopub.execute_input": "2021-02-21T05:27:00.393338Z",
     "iopub.status.busy": "2021-02-21T05:27:00.392646Z",
     "iopub.status.idle": "2021-02-21T05:27:00.394698Z",
     "shell.execute_reply": "2021-02-21T05:27:00.395162Z"
    },
    "papermill": {
     "duration": 0.079368,
     "end_time": "2021-02-21T05:27:00.395308",
     "exception": false,
     "start_time": "2021-02-21T05:27:00.315940",
     "status": "completed"
    },
    "tags": []
   },
   "outputs": [],
   "source": [
    "best_C = optimal_params.best_params_['C']\n",
    "best_penalty = optimal_params.best_params_['penalty']"
   ]
  },
  {
   "cell_type": "code",
   "execution_count": 46,
   "metadata": {
    "execution": {
     "iopub.execute_input": "2021-02-21T05:27:00.543733Z",
     "iopub.status.busy": "2021-02-21T05:27:00.543072Z",
     "iopub.status.idle": "2021-02-21T05:27:00.726618Z",
     "shell.execute_reply": "2021-02-21T05:27:00.725951Z"
    },
    "papermill": {
     "duration": 0.258901,
     "end_time": "2021-02-21T05:27:00.726760",
     "exception": false,
     "start_time": "2021-02-21T05:27:00.467859",
     "status": "completed"
    },
    "tags": []
   },
   "outputs": [
    {
     "data": {
      "text/plain": [
       "<sklearn.metrics._plot.confusion_matrix.ConfusionMatrixDisplay at 0x7fcb52e99790>"
      ]
     },
     "execution_count": 46,
     "metadata": {},
     "output_type": "execute_result"
    },
    {
     "data": {
      "image/png": "[encoded data removed]",
      "text/plain": [
       "<Figure size 432x288 with 2 Axes>"
      ]
     },
     "metadata": {
      "needs_background": "light"
     },
     "output_type": "display_data"
    }
   ],
   "source": [
    "log_reg_model = LogisticRegression(C=best_C, penalty=best_penalty).fit(X_trainval_scaled, y_trainval)\n",
    "\n",
    "# for test there are 94 cases\n",
    "plot_confusion_matrix(log_reg_model, \n",
    "                      X_test_scaled, \n",
    "                      y_test, \n",
    "                      values_format='d', \n",
    "                      display_labels=['Nondemented', 'Demented'])"
   ]
  },
  {
   "cell_type": "code",
   "execution_count": 47,
   "metadata": {
    "execution": {
     "iopub.execute_input": "2021-02-21T05:27:00.902586Z",
     "iopub.status.busy": "2021-02-21T05:27:00.887719Z",
     "iopub.status.idle": "2021-02-21T05:27:00.911752Z",
     "shell.execute_reply": "2021-02-21T05:27:00.912556Z"
    },
    "papermill": {
     "duration": 0.108288,
     "end_time": "2021-02-21T05:27:00.912736",
     "exception": false,
     "start_time": "2021-02-21T05:27:00.804448",
     "status": "completed"
    },
    "tags": []
   },
   "outputs": [
    {
     "name": "stdout",
     "output_type": "stream",
     "text": [
      "Train accuracy with Logistec regression: 0.8288590604026845\n",
      "Test accuracy with Logistec regression: 0.7466666666666667\n",
      "Test recall with Logistec regression: 0.7027027027027027\n",
      "Test AUC with Logistec regression: 0.7460881934566145\n"
     ]
    }
   ],
   "source": [
    "train_score = 0\n",
    "test_score = 0\n",
    "test_recall = 0\n",
    "test_auc = 0\n",
    "\n",
    "best_log_reg_model = LogisticRegression(C=best_C, penalty=best_penalty).fit(X_trainval_scaled, y_trainval)\n",
    "train_score = best_log_reg_model.score(X_trainval_scaled, y_trainval)\n",
    "test_score = best_log_reg_model.score(X_test_scaled, y_test)\n",
    "y_predict = best_log_reg_model.predict(X_test_scaled)\n",
    "test_recall = recall_score(y_test, y_predict)\n",
    "lgr_fpr, lgr_tpr, thresholds = roc_curve(y_test, y_predict)\n",
    "test_auc = auc(lgr_fpr, lgr_tpr)\n",
    "\n",
    "print(\"Train accuracy with Logistec regression:\", train_score)\n",
    "print(\"Test accuracy with Logistec regression:\", test_score)\n",
    "print(\"Test recall with Logistec regression:\", test_recall)\n",
    "print(\"Test AUC with Logistec regression:\", test_auc)"
   ]
  },
  {
   "cell_type": "markdown",
   "metadata": {
    "papermill": {
     "duration": 0.074221,
     "end_time": "2021-02-21T05:27:01.064257",
     "exception": false,
     "start_time": "2021-02-21T05:27:00.990036",
     "status": "completed"
    },
    "tags": []
   },
   "source": [
    "# Decision Tree"
   ]
  },
  {
   "cell_type": "code",
   "execution_count": 48,
   "metadata": {
    "execution": {
     "iopub.execute_input": "2021-02-21T05:27:01.218547Z",
     "iopub.status.busy": "2021-02-21T05:27:01.217821Z",
     "iopub.status.idle": "2021-02-21T05:27:01.391666Z",
     "shell.execute_reply": "2021-02-21T05:27:01.391137Z"
    },
    "papermill": {
     "duration": 0.253607,
     "end_time": "2021-02-21T05:27:01.391785",
     "exception": false,
     "start_time": "2021-02-21T05:27:01.138178",
     "status": "completed"
    },
    "tags": []
   },
   "outputs": [
    {
     "data": {
      "text/plain": [
       "<sklearn.metrics._plot.confusion_matrix.ConfusionMatrixDisplay at 0x7fcb52f15f10>"
      ]
     },
     "execution_count": 48,
     "metadata": {},
     "output_type": "execute_result"
    },
    {
     "data": {
      "image/png": "[encoded data removed]",
      "text/plain": [
       "<Figure size 432x288 with 2 Axes>"
      ]
     },
     "metadata": {
      "needs_background": "light"
     },
     "output_type": "display_data"
    }
   ],
   "source": [
    "dt_model = DecisionTreeClassifier().fit(X_trainval_scaled, y_trainval)\n",
    "\n",
    "# for test there are 94 cases\n",
    "plot_confusion_matrix(dt_model, \n",
    "                      X_test_scaled, \n",
    "                      y_test, \n",
    "                      values_format='d', \n",
    "                      display_labels=['Nondemented', 'Demented'])"
   ]
  },
  {
   "cell_type": "code",
   "execution_count": 49,
   "metadata": {
    "execution": {
     "iopub.execute_input": "2021-02-21T05:27:01.552124Z",
     "iopub.status.busy": "2021-02-21T05:27:01.551400Z",
     "iopub.status.idle": "2021-02-21T05:27:01.561205Z",
     "shell.execute_reply": "2021-02-21T05:27:01.560544Z"
    },
    "papermill": {
     "duration": 0.094559,
     "end_time": "2021-02-21T05:27:01.561320",
     "exception": false,
     "start_time": "2021-02-21T05:27:01.466761",
     "status": "completed"
    },
    "tags": []
   },
   "outputs": [
    {
     "name": "stdout",
     "output_type": "stream",
     "text": [
      "Train accuracy with DecisionTreeClassifier: 1.0\n",
      "Test accuracy with DecisionTreeClassifier: 0.72\n",
      "Test recall with DecisionTreeClassifier: 0.6756756756756757\n",
      "Test AUC with DecisionTreeClassifier: 0.719416785206259\n"
     ]
    }
   ],
   "source": [
    "train_score = 0\n",
    "test_score = 0\n",
    "test_recall = 0\n",
    "test_auc = 0\n",
    "\n",
    "dt_model = DecisionTreeClassifier().fit(X_trainval_scaled, y_trainval)\n",
    "train_score = dt_model.score(X_trainval_scaled, y_trainval)\n",
    "test_score = dt_model.score(X_test_scaled, y_test)\n",
    "y_predict = dt_model.predict(X_test_scaled)\n",
    "test_recall = recall_score(y_test, y_predict)\n",
    "fpr, tpr, thresholds = roc_curve(y_test, y_predict)\n",
    "test_auc = auc(fpr, tpr)\n",
    "\n",
    "print(\"Train accuracy with DecisionTreeClassifier:\", train_score)\n",
    "print(\"Test accuracy with DecisionTreeClassifier:\", test_score)\n",
    "print(\"Test recall with DecisionTreeClassifier:\", test_recall)\n",
    "print(\"Test AUC with DecisionTreeClassifier:\", test_auc)"
   ]
  },
  {
   "cell_type": "markdown",
   "metadata": {
    "papermill": {
     "duration": 0.075289,
     "end_time": "2021-02-21T05:27:01.712002",
     "exception": false,
     "start_time": "2021-02-21T05:27:01.636713",
     "status": "completed"
    },
    "tags": []
   },
   "source": [
    "### Optimize parameters(Finetuning) --> GridSearchCV()"
   ]
  },
  {
   "cell_type": "code",
   "execution_count": 50,
   "metadata": {
    "execution": {
     "iopub.execute_input": "2021-02-21T05:27:01.872535Z",
     "iopub.status.busy": "2021-02-21T05:27:01.871460Z",
     "iopub.status.idle": "2021-02-21T05:27:01.957853Z",
     "shell.execute_reply": "2021-02-21T05:27:01.957187Z"
    },
    "papermill": {
     "duration": 0.169737,
     "end_time": "2021-02-21T05:27:01.957989",
     "exception": false,
     "start_time": "2021-02-21T05:27:01.788252",
     "status": "completed"
    },
    "tags": []
   },
   "outputs": [
    {
     "name": "stdout",
     "output_type": "stream",
     "text": [
      "{'criterion': 'gini', 'max_depth': 2}\n"
     ]
    }
   ],
   "source": [
    "param_grid = {'criterion': ['gini'], \n",
    "              'max_depth': range(1,10)}\n",
    "\n",
    "optimal_params = GridSearchCV(DecisionTreeClassifier(),\n",
    "                             param_grid,\n",
    "                             cv=5, # we are taking 5-fold as in k-fold cross validation\n",
    "                             scoring='accuracy', # try the other scoring if have time\n",
    "                             verbose=0,\n",
    "                             n_jobs=-1)\n",
    "\n",
    "optimal_params.fit(X_trainval_scaled, y_trainval)\n",
    "print(optimal_params.best_params_)"
   ]
  },
  {
   "cell_type": "code",
   "execution_count": 51,
   "metadata": {
    "execution": {
     "iopub.execute_input": "2021-02-21T05:27:02.116441Z",
     "iopub.status.busy": "2021-02-21T05:27:02.115645Z",
     "iopub.status.idle": "2021-02-21T05:27:02.118675Z",
     "shell.execute_reply": "2021-02-21T05:27:02.118177Z"
    },
    "papermill": {
     "duration": 0.085294,
     "end_time": "2021-02-21T05:27:02.118786",
     "exception": false,
     "start_time": "2021-02-21T05:27:02.033492",
     "status": "completed"
    },
    "tags": []
   },
   "outputs": [],
   "source": [
    "criterion = optimal_params.best_params_['criterion']\n",
    "max_depth = optimal_params.best_params_['max_depth']"
   ]
  },
  {
   "cell_type": "code",
   "execution_count": 52,
   "metadata": {
    "execution": {
     "iopub.execute_input": "2021-02-21T05:27:02.276080Z",
     "iopub.status.busy": "2021-02-21T05:27:02.275361Z",
     "iopub.status.idle": "2021-02-21T05:27:02.278765Z",
     "shell.execute_reply": "2021-02-21T05:27:02.278075Z"
    },
    "papermill": {
     "duration": 0.08369,
     "end_time": "2021-02-21T05:27:02.278885",
     "exception": false,
     "start_time": "2021-02-21T05:27:02.195195",
     "status": "completed"
    },
    "tags": []
   },
   "outputs": [],
   "source": [
    "# best_score = -1\n",
    "# for d in range(1, 25):       \n",
    "#         dt_model = DecisionTreeClassifier(max_depth = d)\n",
    "#         scores = cross_val_score(dt_model, X_trainval_scaled, y_trainval, cv=5, scoring='accuracy')\n",
    "        \n",
    "#         mean_score = scores.mean()\n",
    "        \n",
    "#         if mean_score > best_score:\n",
    "#             best_score = mean_score\n",
    "#             best_d = d\n",
    "# print(best_d)"
   ]
  },
  {
   "cell_type": "code",
   "execution_count": 53,
   "metadata": {
    "execution": {
     "iopub.execute_input": "2021-02-21T05:27:02.439628Z",
     "iopub.status.busy": "2021-02-21T05:27:02.438933Z",
     "iopub.status.idle": "2021-02-21T05:27:02.607174Z",
     "shell.execute_reply": "2021-02-21T05:27:02.606465Z"
    },
    "papermill": {
     "duration": 0.251238,
     "end_time": "2021-02-21T05:27:02.607295",
     "exception": false,
     "start_time": "2021-02-21T05:27:02.356057",
     "status": "completed"
    },
    "tags": []
   },
   "outputs": [
    {
     "data": {
      "text/plain": [
       "<sklearn.metrics._plot.confusion_matrix.ConfusionMatrixDisplay at 0x7fcb50995090>"
      ]
     },
     "execution_count": 53,
     "metadata": {},
     "output_type": "execute_result"
    },
    {
     "data": {
      "image/png": "[encoded data removed]",
      "text/plain": [
       "<Figure size 432x288 with 2 Axes>"
      ]
     },
     "metadata": {
      "needs_background": "light"
     },
     "output_type": "display_data"
    }
   ],
   "source": [
    "dt_model = DecisionTreeClassifier(criterion=criterion, max_depth=max_depth).fit(X_trainval_scaled, y_trainval)\n",
    "\n",
    "# for test there are 94 cases\n",
    "plot_confusion_matrix(dt_model, \n",
    "                      X_test_scaled, \n",
    "                      y_test, \n",
    "                      values_format='d', \n",
    "                      display_labels=['Nondemented', 'Demented'])"
   ]
  },
  {
   "cell_type": "code",
   "execution_count": 54,
   "metadata": {
    "execution": {
     "iopub.execute_input": "2021-02-21T05:27:02.771744Z",
     "iopub.status.busy": "2021-02-21T05:27:02.771062Z",
     "iopub.status.idle": "2021-02-21T05:27:02.780168Z",
     "shell.execute_reply": "2021-02-21T05:27:02.780646Z"
    },
    "papermill": {
     "duration": 0.096343,
     "end_time": "2021-02-21T05:27:02.780797",
     "exception": false,
     "start_time": "2021-02-21T05:27:02.684454",
     "status": "completed"
    },
    "tags": []
   },
   "outputs": [
    {
     "name": "stdout",
     "output_type": "stream",
     "text": [
      "Train accuracy with DecisionTreeClassifier: 0.7751677852348994\n",
      "Test accuracy with DecisionTreeClassifier: 0.8\n",
      "Test recall with DecisionTreeClassifier: 0.5945945945945946\n",
      "Test AUC with DecisionTreeClassifier: 0.7972972972972974\n"
     ]
    }
   ],
   "source": [
    "train_score = 0\n",
    "test_score = 0\n",
    "test_recall = 0\n",
    "test_auc = 0\n",
    "\n",
    "dt_model = DecisionTreeClassifier(criterion=criterion, max_depth=max_depth).fit(X_trainval_scaled, y_trainval)\n",
    "train_score = dt_model.score(X_trainval_scaled, y_trainval)\n",
    "test_score = dt_model.score(X_test_scaled, y_test)\n",
    "y_predict = dt_model.predict(X_test_scaled)\n",
    "test_recall = recall_score(y_test, y_predict)\n",
    "dt_fpr, dt_tpr, thresholds = roc_curve(y_test, y_predict)\n",
    "test_auc = auc(dt_fpr, dt_tpr)\n",
    "\n",
    "print(\"Train accuracy with DecisionTreeClassifier:\", train_score)\n",
    "print(\"Test accuracy with DecisionTreeClassifier:\", test_score)\n",
    "print(\"Test recall with DecisionTreeClassifier:\", test_recall)\n",
    "print(\"Test AUC with DecisionTreeClassifier:\", test_auc)"
   ]
  },
  {
   "cell_type": "markdown",
   "metadata": {
    "papermill": {
     "duration": 0.079404,
     "end_time": "2021-02-21T05:27:02.938142",
     "exception": false,
     "start_time": "2021-02-21T05:27:02.858738",
     "status": "completed"
    },
    "tags": []
   },
   "source": [
    "## Plot ROC and compare AUC"
   ]
  },
  {
   "cell_type": "code",
   "execution_count": 55,
   "metadata": {
    "execution": {
     "iopub.execute_input": "2021-02-21T05:27:03.110051Z",
     "iopub.status.busy": "2021-02-21T05:27:03.109234Z",
     "iopub.status.idle": "2021-02-21T05:27:03.296587Z",
     "shell.execute_reply": "2021-02-21T05:27:03.295893Z"
    },
    "papermill": {
     "duration": 0.279336,
     "end_time": "2021-02-21T05:27:03.296703",
     "exception": false,
     "start_time": "2021-02-21T05:27:03.017367",
     "status": "completed"
    },
    "tags": []
   },
   "outputs": [
    {
     "data": {
      "image/png": "[encoded data removed]",
      "text/plain": [
       "<Figure size 500x500 with 1 Axes>"
      ]
     },
     "metadata": {
      "needs_background": "light"
     },
     "output_type": "display_data"
    }
   ],
   "source": [
    "plt.figure(figsize=(5, 5), dpi=100)\n",
    "plt.plot(svm_fpr, svm_tpr, linestyle='-', label='SVM')\n",
    "plt.plot(lgr_fpr, lgr_tpr, marker='.', label='Logistic')\n",
    "plt.plot(rfc_fpr, rfc_tpr, linestyle=':', label='Random Forest')\n",
    "plt.plot(dt_fpr, dt_tpr, linestyle='-.', label='Decision Tree')\n",
    "\n",
    "plt.xlabel('False Positive Rate')\n",
    "plt.ylabel('True Positive Rate')\n",
    "\n",
    "plt.legend()\n",
    "\n",
    "plt.show()"
   ]
  }
 ],
 "metadata": {
  "kernelspec": {
   "display_name": "Python 3 (ipykernel)",
   "language": "python",
   "name": "python3"
  },
  "language_info": {
   "codemirror_mode": {
    "name": "ipython",
    "version": 3
   },
   "file_extension": ".py",
   "mimetype": "text/x-python",
   "name": "python",
   "nbconvert_exporter": "python",
   "pygments_lexer": "ipython3",
   "version": "3.11.7"
  },
  "papermill": {
   "duration": 147.570544,
   "end_time": "2021-02-21T05:27:03.491568",
   "environment_variables": {},
   "exception": null,
   "input_path": "__notebook__.ipynb",
   "output_path": "__notebook__.ipynb",
   "parameters": {},
   "start_time": "2021-02-21T05:24:35.921024",
   "version": "2.1.0"
  }
 },
 "nbformat": 4,
 "nbformat_minor": 4
}
