{
 "cells": [
  {
   "cell_type": "code",
   "execution_count": null,
   "id": "44a15248",
   "metadata": {},
   "outputs": [],
   "source": [
    "import pandas as pd\n",
    "from sklearn.model_selection import train_test_split\n",
    "from sklearn.metrics import mean_squared_error\n",
    "from keras.models import Sequential\n",
    "from keras.layers import Dense\n",
    "from keras.optimizers import Adam\n",
    "import numpy as np\n",
    "from sklearn.preprocessing import StandardScaler\n",
    "\n",
    "\n",
    "# Load the data\n",
    "url = \"https://cocl.us/concrete_data\"\n",
    "data = pd.read_csv(url)\n",
    "\n",
    "# Separate predictors and target variable\n",
    "X = data.drop('Strength', axis=1)\n",
    "y = data['Strength']\n",
    "\n",
    "scaler = StandardScaler()\n",
    "X_normalized = scaler.fit_transform(X)\n",
    "\n",
    "# Split the normalized data into training and test sets\n",
    "X_train_norm, X_test_norm, y_train, y_test = train_test_split(X_normalized, y, test_size=0.3, random_state=42)\n",
    "\n",
    "def build_model():\n",
    "    model = Sequential()\n",
    "    model.add(Dense(10, activation='relu', input_shape=(X_train_norm.shape[1],)))\n",
    "    model.add(Dense(1))\n",
    "    model.compile(optimizer='adam', loss='mean_squared_error')\n",
    "    return model\n",
    "\n",
    "mse_list_norm_100_epochs = []\n",
    "for _ in range(50):\n",
    "    model = build_model()\n",
    "    model.fit(X_train_norm, y_train, epochs=100, verbose=0)\n",
    "    y_pred_norm_100_epochs = model.predict(X_test_norm)\n",
    "    mse_norm_100_epochs = mean_squared_error(y_test, y_pred_norm_100_epochs)\n",
    "    mse_list_norm_100_epochs.append(mse_norm_100_epochs)\n",
    "\n",
    "mean_mse_norm_100_epochs = np.mean(mse_list_norm_100_epochs)\n",
    "std_mse_norm_100_epochs = np.std(mse_list_norm_100_epochs)\n",
    "\n",
    "print(f\"Mean MSE with 100 Epochs: {mean_mse_norm_100_epochs}\")\n",
    "print(f\"Standard Deviation of MSE with 100 Epochs: {std_mse_norm_100_epochs}\")\n"
   ]
  }
 ],
 "metadata": {
  "kernelspec": {
   "display_name": "Python 3 (ipykernel)",
   "language": "python",
   "name": "python3"
  },
  "language_info": {
   "codemirror_mode": {
    "name": "ipython",
    "version": 3
   },
   "file_extension": ".py",
   "mimetype": "text/x-python",
   "name": "python",
   "nbconvert_exporter": "python",
   "pygments_lexer": "ipython3",
   "version": "3.11.5"
  }
 },
 "nbformat": 4,
 "nbformat_minor": 5
}
